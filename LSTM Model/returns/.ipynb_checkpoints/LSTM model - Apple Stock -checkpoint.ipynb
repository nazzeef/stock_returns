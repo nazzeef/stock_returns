{
 "cells": [
  {
   "cell_type": "markdown",
   "id": "98c86510",
   "metadata": {},
   "source": [
    "## Prepared by:\n",
    "\n",
    "Nazzeef Nazri\n",
    "\n",
    "a1621410"
   ]
  },
  {
   "cell_type": "markdown",
   "id": "62805bf6",
   "metadata": {},
   "source": [
    "# Assessment 3 - Case Study Report\n",
    "\n",
    "This notebook will demonstrate the application of a supervised machine learning model using the historical Apple stock data extracted from Yahoo Finance. \n",
    "\n",
    "The machine learning pipeline has six main steps:\n",
    "\n",
    " 1. Problem definition where you define your problem;\n",
    " 2. Data ingestion where you collect your data;\n",
    " 3. Data preparation where you clean your data;\n",
    " 4. Data segregation where you separate your data;\n",
    " 5. Model training where you use the machine learning algorithms;\n",
    " 6. Candidate model evaluation where you evaluate the models you have used."
   ]
  },
  {
   "cell_type": "markdown",
   "id": "e087c0b9",
   "metadata": {},
   "source": [
    "# Step 1: Problem Statement\n",
    "\n",
    "The problem statement for our supervised learning models is to predict the next day’s trend of the daily returns of a stock. In particular, whether the future trend is positive or negative.  \n",
    "\n",
    "Furthermore, we also would like to ascertain which technical indicator is best at predicting the daily returns of a stock. \n",
    "\n",
    "Since different technical indicators perform differently on different types of stocks as implied in this article - https://towardsdatascience.com/machine-learning-for-day-trading-27c08274df54\n",
    "\n",
    "Use the To Explain or To Predict? article here from week 2 as part of intro. "
   ]
  },
  {
   "cell_type": "markdown",
   "id": "7e92368a",
   "metadata": {},
   "source": [
    "# Step 2: Data ingestion\n",
    "\n",
    "We collected the historical Apple Stock data from Yahoo Finance with the dates ranging from 1st April 2016 to 1st April 2021 (5 years historical data)\n",
    "\n",
    "The Apple stock is synonymously referred in the stock exchange with the ticker symbol 'AAPL'. \n",
    "\n",
    "The steps for collecting the data using the yfinance package is found in the link below:\n",
    "https://towardsdatascience.com/historical-stock-price-data-in-python-a0b6dc826836\n",
    "\n",
    "The **Apple Stock dataset** has 7 variables and 1321 rows of stock data. The data consists of Open-High-Low-Close prices and Volume data. They are as follows: \n",
    "* `Date`: The date the stock data is published\n",
    "* `Open`: The price that the AAPL stock started trading for the day\n",
    "* `High`: The maximum AAPL stock price at a given time period\n",
    "* `Low`: The minimum AAPL stock price at a given time period\n",
    "* `Close`: The price that the AAPL stock ended trading for the day\n",
    "* `Adj Close`: The price that the AAPL stock ended trading for the day adjusted for corporate actions such as dividends, stock splits, and new share issuance.\n",
    "* `Volume`: The total amount of trading activity for the AAPL stock. \n",
    "\n",
    "OHLC is a standardized format in which historical data is provided by data vendors for backtesting and trading. OHLC stands for Open, Low, High and Close prices in a particular timeframe such as an hour or a day. In addition, some data sources also provide adjusted prices. \n",
    "\n",
    "The predictor and target variables will be created using this raw data.\n",
    "\n",
    "https://analyzingalpha.com/open-high-low-close-stocks#:~:text=In%20stock%20trading%2C%20the%20high,total%20amount%20of%20trading%20activity"
   ]
  },
  {
   "cell_type": "markdown",
   "id": "61295898",
   "metadata": {},
   "source": [
    "#### 2.1 Collecting the data:"
   ]
  },
  {
   "cell_type": "code",
   "execution_count": 1,
   "id": "bd190002",
   "metadata": {},
   "outputs": [
    {
     "name": "stderr",
     "output_type": "stream",
     "text": [
      "Using TensorFlow backend.\n"
     ]
    }
   ],
   "source": [
    "# For data manipulation\n",
    "import pandas as pd\n",
    "import numpy as np\n",
    "\n",
    "# For plotting graphs\n",
    "import matplotlib.pyplot as plt \n",
    "import matplotlib as mpl\n",
    "\n",
    "# To access datetime\n",
    "from datetime import datetime    \n",
    "%matplotlib inline\n",
    "\n",
    "# To create LSTM model\n",
    "from keras.layers import LSTM\n",
    "from keras.models import Sequential\n",
    "from keras.layers import Dropout\n",
    "from keras.layers import Dense\n",
    "from keras.callbacks import ModelCheckpoint\n",
    "\n",
    "# To perform normalisation on dataset\n",
    "from sklearn.preprocessing import MinMaxScaler\n",
    "\n",
    "# To ignore the warnings\n",
    "import warnings                   \n",
    "warnings.filterwarnings(\"ignore\")"
   ]
  },
  {
   "cell_type": "code",
   "execution_count": 2,
   "id": "756a8ed8",
   "metadata": {
    "scrolled": false
   },
   "outputs": [
    {
     "data": {
      "text/html": [
       "<div>\n",
       "<style scoped>\n",
       "    .dataframe tbody tr th:only-of-type {\n",
       "        vertical-align: middle;\n",
       "    }\n",
       "\n",
       "    .dataframe tbody tr th {\n",
       "        vertical-align: top;\n",
       "    }\n",
       "\n",
       "    .dataframe thead th {\n",
       "        text-align: right;\n",
       "    }\n",
       "</style>\n",
       "<table border=\"1\" class=\"dataframe\">\n",
       "  <thead>\n",
       "    <tr style=\"text-align: right;\">\n",
       "      <th></th>\n",
       "      <th>Open</th>\n",
       "      <th>High</th>\n",
       "      <th>Low</th>\n",
       "      <th>Close</th>\n",
       "      <th>Adj Close</th>\n",
       "      <th>Volume</th>\n",
       "      <th>year</th>\n",
       "      <th>month</th>\n",
       "      <th>Close_FD</th>\n",
       "      <th>High_FD</th>\n",
       "      <th>...</th>\n",
       "      <th>upperband</th>\n",
       "      <th>middleband</th>\n",
       "      <th>lowerband</th>\n",
       "      <th>RSI_FD</th>\n",
       "      <th>ret1</th>\n",
       "      <th>std5</th>\n",
       "      <th>std10</th>\n",
       "      <th>std20</th>\n",
       "      <th>std40</th>\n",
       "      <th>future_return</th>\n",
       "    </tr>\n",
       "    <tr>\n",
       "      <th>Date</th>\n",
       "      <th></th>\n",
       "      <th></th>\n",
       "      <th></th>\n",
       "      <th></th>\n",
       "      <th></th>\n",
       "      <th></th>\n",
       "      <th></th>\n",
       "      <th></th>\n",
       "      <th></th>\n",
       "      <th></th>\n",
       "      <th></th>\n",
       "      <th></th>\n",
       "      <th></th>\n",
       "      <th></th>\n",
       "      <th></th>\n",
       "      <th></th>\n",
       "      <th></th>\n",
       "      <th></th>\n",
       "      <th></th>\n",
       "      <th></th>\n",
       "      <th></th>\n",
       "    </tr>\n",
       "  </thead>\n",
       "  <tbody>\n",
       "    <tr>\n",
       "      <th>2021-03-29</th>\n",
       "      <td>121.650001</td>\n",
       "      <td>122.580002</td>\n",
       "      <td>120.730003</td>\n",
       "      <td>121.389999</td>\n",
       "      <td>121.389999</td>\n",
       "      <td>80819200</td>\n",
       "      <td>2021</td>\n",
       "      <td>Mar</td>\n",
       "      <td>0.613622</td>\n",
       "      <td>0.618564</td>\n",
       "      <td>...</td>\n",
       "      <td>0.624029</td>\n",
       "      <td>0.608350</td>\n",
       "      <td>0.592671</td>\n",
       "      <td>50.341088</td>\n",
       "      <td>-0.001268</td>\n",
       "      <td>0.026046</td>\n",
       "      <td>0.033991</td>\n",
       "      <td>0.047649</td>\n",
       "      <td>0.042238</td>\n",
       "      <td>-0.021684</td>\n",
       "    </tr>\n",
       "    <tr>\n",
       "      <th>2021-03-30</th>\n",
       "      <td>120.110001</td>\n",
       "      <td>120.400001</td>\n",
       "      <td>118.860001</td>\n",
       "      <td>119.900001</td>\n",
       "      <td>119.900001</td>\n",
       "      <td>85671900</td>\n",
       "      <td>2021</td>\n",
       "      <td>Mar</td>\n",
       "      <td>0.600316</td>\n",
       "      <td>0.596327</td>\n",
       "      <td>...</td>\n",
       "      <td>0.622586</td>\n",
       "      <td>0.606138</td>\n",
       "      <td>0.589689</td>\n",
       "      <td>47.840760</td>\n",
       "      <td>-0.021684</td>\n",
       "      <td>0.023034</td>\n",
       "      <td>0.034493</td>\n",
       "      <td>0.044672</td>\n",
       "      <td>0.040817</td>\n",
       "      <td>0.042744</td>\n",
       "    </tr>\n",
       "    <tr>\n",
       "      <th>2021-03-31</th>\n",
       "      <td>121.650001</td>\n",
       "      <td>123.519997</td>\n",
       "      <td>121.150001</td>\n",
       "      <td>122.150001</td>\n",
       "      <td>122.150001</td>\n",
       "      <td>118323800</td>\n",
       "      <td>2021</td>\n",
       "      <td>Mar</td>\n",
       "      <td>0.625976</td>\n",
       "      <td>0.632107</td>\n",
       "      <td>...</td>\n",
       "      <td>0.629333</td>\n",
       "      <td>0.612715</td>\n",
       "      <td>0.596098</td>\n",
       "      <td>52.717916</td>\n",
       "      <td>0.042744</td>\n",
       "      <td>0.024987</td>\n",
       "      <td>0.036543</td>\n",
       "      <td>0.045121</td>\n",
       "      <td>0.041375</td>\n",
       "      <td>-0.004713</td>\n",
       "    </tr>\n",
       "  </tbody>\n",
       "</table>\n",
       "<p>3 rows × 27 columns</p>\n",
       "</div>"
      ],
      "text/plain": [
       "                  Open        High         Low       Close   Adj Close  \\\n",
       "Date                                                                     \n",
       "2021-03-29  121.650001  122.580002  120.730003  121.389999  121.389999   \n",
       "2021-03-30  120.110001  120.400001  118.860001  119.900001  119.900001   \n",
       "2021-03-31  121.650001  123.519997  121.150001  122.150001  122.150001   \n",
       "\n",
       "               Volume  year month  Close_FD   High_FD  ...  upperband  \\\n",
       "Date                                                   ...              \n",
       "2021-03-29   80819200  2021   Mar  0.613622  0.618564  ...   0.624029   \n",
       "2021-03-30   85671900  2021   Mar  0.600316  0.596327  ...   0.622586   \n",
       "2021-03-31  118323800  2021   Mar  0.625976  0.632107  ...   0.629333   \n",
       "\n",
       "            middleband  lowerband     RSI_FD      ret1      std5     std10  \\\n",
       "Date                                                                         \n",
       "2021-03-29    0.608350   0.592671  50.341088 -0.001268  0.026046  0.033991   \n",
       "2021-03-30    0.606138   0.589689  47.840760 -0.021684  0.023034  0.034493   \n",
       "2021-03-31    0.612715   0.596098  52.717916  0.042744  0.024987  0.036543   \n",
       "\n",
       "               std20     std40  future_return  \n",
       "Date                                           \n",
       "2021-03-29  0.047649  0.042238      -0.021684  \n",
       "2021-03-30  0.044672  0.040817       0.042744  \n",
       "2021-03-31  0.045121  0.041375      -0.004713  \n",
       "\n",
       "[3 rows x 27 columns]"
      ]
     },
     "execution_count": 2,
     "metadata": {},
     "output_type": "execute_result"
    }
   ],
   "source": [
    "df_aapl = pd.read_csv('AAPL.csv', index_col=0)\n",
    "df_aapl.index = pd.to_datetime(df_aapl.index)\n",
    "df_aapl.tail(3)"
   ]
  },
  {
   "cell_type": "code",
   "execution_count": 4,
   "id": "b5222910",
   "metadata": {
    "scrolled": true
   },
   "outputs": [
    {
     "data": {
      "text/html": [
       "<div>\n",
       "<style scoped>\n",
       "    .dataframe tbody tr th:only-of-type {\n",
       "        vertical-align: middle;\n",
       "    }\n",
       "\n",
       "    .dataframe tbody tr th {\n",
       "        vertical-align: top;\n",
       "    }\n",
       "\n",
       "    .dataframe thead th {\n",
       "        text-align: right;\n",
       "    }\n",
       "</style>\n",
       "<table border=\"1\" class=\"dataframe\">\n",
       "  <thead>\n",
       "    <tr style=\"text-align: right;\">\n",
       "      <th></th>\n",
       "      <th>Open</th>\n",
       "      <th>High</th>\n",
       "      <th>Low</th>\n",
       "      <th>Close</th>\n",
       "      <th>Adj Close</th>\n",
       "      <th>Volume</th>\n",
       "      <th>year</th>\n",
       "      <th>month</th>\n",
       "      <th>Close_FD</th>\n",
       "      <th>High_FD</th>\n",
       "      <th>...</th>\n",
       "      <th>upperband</th>\n",
       "      <th>middleband</th>\n",
       "      <th>lowerband</th>\n",
       "      <th>RSI_FD</th>\n",
       "      <th>ret1</th>\n",
       "      <th>std5</th>\n",
       "      <th>std10</th>\n",
       "      <th>std20</th>\n",
       "      <th>std40</th>\n",
       "      <th>future_return</th>\n",
       "    </tr>\n",
       "    <tr>\n",
       "      <th>Date</th>\n",
       "      <th></th>\n",
       "      <th></th>\n",
       "      <th></th>\n",
       "      <th></th>\n",
       "      <th></th>\n",
       "      <th></th>\n",
       "      <th></th>\n",
       "      <th></th>\n",
       "      <th></th>\n",
       "      <th></th>\n",
       "      <th></th>\n",
       "      <th></th>\n",
       "      <th></th>\n",
       "      <th></th>\n",
       "      <th></th>\n",
       "      <th></th>\n",
       "      <th></th>\n",
       "      <th></th>\n",
       "      <th></th>\n",
       "      <th></th>\n",
       "      <th></th>\n",
       "    </tr>\n",
       "  </thead>\n",
       "  <tbody>\n",
       "    <tr>\n",
       "      <th>2021-03-25</th>\n",
       "      <td>119.540001</td>\n",
       "      <td>121.660004</td>\n",
       "      <td>119.000000</td>\n",
       "      <td>120.589996</td>\n",
       "      <td>120.589996</td>\n",
       "      <td>0.132665</td>\n",
       "      <td>2021</td>\n",
       "      <td>Mar</td>\n",
       "      <td>0.249799</td>\n",
       "      <td>0.601132</td>\n",
       "      <td>...</td>\n",
       "      <td>0.250084</td>\n",
       "      <td>0.249798</td>\n",
       "      <td>0.249512</td>\n",
       "      <td>0.759804</td>\n",
       "      <td>0.027266</td>\n",
       "      <td>0.243871</td>\n",
       "      <td>0.243854</td>\n",
       "      <td>0.244010</td>\n",
       "      <td>0.243909</td>\n",
       "      <td>0.246578</td>\n",
       "    </tr>\n",
       "    <tr>\n",
       "      <th>2021-03-26</th>\n",
       "      <td>120.349999</td>\n",
       "      <td>121.480003</td>\n",
       "      <td>118.919998</td>\n",
       "      <td>121.209999</td>\n",
       "      <td>121.209999</td>\n",
       "      <td>0.120526</td>\n",
       "      <td>2021</td>\n",
       "      <td>Mar</td>\n",
       "      <td>0.249853</td>\n",
       "      <td>0.606763</td>\n",
       "      <td>...</td>\n",
       "      <td>0.250097</td>\n",
       "      <td>0.249830</td>\n",
       "      <td>0.249564</td>\n",
       "      <td>0.768962</td>\n",
       "      <td>0.008437</td>\n",
       "      <td>0.243860</td>\n",
       "      <td>0.243845</td>\n",
       "      <td>0.244002</td>\n",
       "      <td>0.243900</td>\n",
       "      <td>0.239204</td>\n",
       "    </tr>\n",
       "    <tr>\n",
       "      <th>2021-03-29</th>\n",
       "      <td>121.650001</td>\n",
       "      <td>122.580002</td>\n",
       "      <td>120.730003</td>\n",
       "      <td>121.389999</td>\n",
       "      <td>121.389999</td>\n",
       "      <td>0.087881</td>\n",
       "      <td>2021</td>\n",
       "      <td>Mar</td>\n",
       "      <td>0.249845</td>\n",
       "      <td>0.618564</td>\n",
       "      <td>...</td>\n",
       "      <td>0.249953</td>\n",
       "      <td>0.249790</td>\n",
       "      <td>0.249627</td>\n",
       "      <td>0.767469</td>\n",
       "      <td>-0.001268</td>\n",
       "      <td>0.243728</td>\n",
       "      <td>0.243811</td>\n",
       "      <td>0.243953</td>\n",
       "      <td>0.243897</td>\n",
       "      <td>0.223691</td>\n",
       "    </tr>\n",
       "    <tr>\n",
       "      <th>2021-03-30</th>\n",
       "      <td>120.110001</td>\n",
       "      <td>120.400001</td>\n",
       "      <td>118.860001</td>\n",
       "      <td>119.900001</td>\n",
       "      <td>119.900001</td>\n",
       "      <td>0.099937</td>\n",
       "      <td>2021</td>\n",
       "      <td>Mar</td>\n",
       "      <td>0.249706</td>\n",
       "      <td>0.596327</td>\n",
       "      <td>...</td>\n",
       "      <td>0.249938</td>\n",
       "      <td>0.249767</td>\n",
       "      <td>0.249595</td>\n",
       "      <td>0.741443</td>\n",
       "      <td>-0.021684</td>\n",
       "      <td>0.243697</td>\n",
       "      <td>0.243816</td>\n",
       "      <td>0.243922</td>\n",
       "      <td>0.243882</td>\n",
       "      <td>0.272645</td>\n",
       "    </tr>\n",
       "    <tr>\n",
       "      <th>2021-03-31</th>\n",
       "      <td>121.650001</td>\n",
       "      <td>123.519997</td>\n",
       "      <td>121.150001</td>\n",
       "      <td>122.150001</td>\n",
       "      <td>122.150001</td>\n",
       "      <td>0.181061</td>\n",
       "      <td>2021</td>\n",
       "      <td>Mar</td>\n",
       "      <td>0.249973</td>\n",
       "      <td>0.632107</td>\n",
       "      <td>...</td>\n",
       "      <td>0.250008</td>\n",
       "      <td>0.249835</td>\n",
       "      <td>0.249662</td>\n",
       "      <td>0.792210</td>\n",
       "      <td>0.042744</td>\n",
       "      <td>0.243717</td>\n",
       "      <td>0.243838</td>\n",
       "      <td>0.243927</td>\n",
       "      <td>0.243888</td>\n",
       "      <td>0.236586</td>\n",
       "    </tr>\n",
       "  </tbody>\n",
       "</table>\n",
       "<p>5 rows × 27 columns</p>\n",
       "</div>"
      ],
      "text/plain": [
       "                  Open        High         Low       Close   Adj Close  \\\n",
       "Date                                                                     \n",
       "2021-03-25  119.540001  121.660004  119.000000  120.589996  120.589996   \n",
       "2021-03-26  120.349999  121.480003  118.919998  121.209999  121.209999   \n",
       "2021-03-29  121.650001  122.580002  120.730003  121.389999  121.389999   \n",
       "2021-03-30  120.110001  120.400001  118.860001  119.900001  119.900001   \n",
       "2021-03-31  121.650001  123.519997  121.150001  122.150001  122.150001   \n",
       "\n",
       "              Volume  year month  Close_FD   High_FD  ...  upperband  \\\n",
       "Date                                                  ...              \n",
       "2021-03-25  0.132665  2021   Mar  0.249799  0.601132  ...   0.250084   \n",
       "2021-03-26  0.120526  2021   Mar  0.249853  0.606763  ...   0.250097   \n",
       "2021-03-29  0.087881  2021   Mar  0.249845  0.618564  ...   0.249953   \n",
       "2021-03-30  0.099937  2021   Mar  0.249706  0.596327  ...   0.249938   \n",
       "2021-03-31  0.181061  2021   Mar  0.249973  0.632107  ...   0.250008   \n",
       "\n",
       "            middleband  lowerband    RSI_FD      ret1      std5     std10  \\\n",
       "Date                                                                        \n",
       "2021-03-25    0.249798   0.249512  0.759804  0.027266  0.243871  0.243854   \n",
       "2021-03-26    0.249830   0.249564  0.768962  0.008437  0.243860  0.243845   \n",
       "2021-03-29    0.249790   0.249627  0.767469 -0.001268  0.243728  0.243811   \n",
       "2021-03-30    0.249767   0.249595  0.741443 -0.021684  0.243697  0.243816   \n",
       "2021-03-31    0.249835   0.249662  0.792210  0.042744  0.243717  0.243838   \n",
       "\n",
       "               std20     std40  future_return  \n",
       "Date                                           \n",
       "2021-03-25  0.244010  0.243909       0.246578  \n",
       "2021-03-26  0.244002  0.243900       0.239204  \n",
       "2021-03-29  0.243953  0.243897       0.223691  \n",
       "2021-03-30  0.243922  0.243882       0.272645  \n",
       "2021-03-31  0.243927  0.243888       0.236586  \n",
       "\n",
       "[5 rows x 27 columns]"
      ]
     },
     "execution_count": 4,
     "metadata": {},
     "output_type": "execute_result"
    }
   ],
   "source": [
    "max_ = df_aapl[['ADX_FD', 'SMA_FD', 'macd', 'macdsignal', 'macdhist', 'upperband', 'middleband', 'lowerband', 'RSI_FD', 'Close_FD','std5', 'std10', 'std20', 'std40', 'future_return']].max().max()\n",
    "min_ = df_aapl[['ADX_FD', 'SMA_FD', 'macd', 'macdsignal', 'macdhist', 'upperband', 'middleband', 'lowerband', 'RSI_FD', 'Close_FD','std5', 'std10', 'std20', 'std40', 'future_return']].min().min()\n",
    "\n",
    "scl = MinMaxScaler()\n",
    "\n",
    "X1 = (df_aapl[['ADX_FD', 'SMA_FD', 'macd', 'macdsignal', 'macdhist', 'upperband', 'middleband', 'lowerband', 'RSI_FD', 'Close_FD','std5', 'std10', 'std20', 'std40', 'future_return']]-min_)/(max_-min_)\n",
    "X2 = scl.fit_transform(df_aapl[['Volume']].values.reshape(-1, 1))\n",
    "X1 = np.array(X1)\n",
    "\n",
    "df_aapl = df_aapl.assign(ADX_FD=X1[:, 0])\n",
    "df_aapl = df_aapl.assign(SMA_FD=X1[:, 1])\n",
    "df_aapl = df_aapl.assign(macd=X1[:, 2])\n",
    "df_aapl = df_aapl.assign(macdsignal=X1[:, 3])\n",
    "df_aapl = df_aapl.assign(macdhist=X1[:, 4])\n",
    "df_aapl = df_aapl.assign(upperband=X1[:, 5])\n",
    "df_aapl = df_aapl.assign(middleband=X1[:, 6])\n",
    "df_aapl = df_aapl.assign(lowerband=X1[:, 7])\n",
    "df_aapl = df_aapl.assign(RSI_FD=X1[:, 8])\n",
    "df_aapl = df_aapl.assign(Close_FD=X1[:, 9])\n",
    "df_aapl = df_aapl.assign(std5=X1[:, 10])\n",
    "df_aapl = df_aapl.assign(std10=X1[:, 11])\n",
    "df_aapl = df_aapl.assign(std20=X1[:, 12])\n",
    "df_aapl = df_aapl.assign(std40=X1[:, 13])\n",
    "df_aapl = df_aapl.assign(future_return=X1[:, 14])\n",
    "df_aapl = df_aapl.assign(Volume=X2[:, 0])\n",
    "df_aapl.tail()"
   ]
  },
  {
   "cell_type": "markdown",
   "id": "f074a36c",
   "metadata": {},
   "source": [
    "All the values above has been normalised."
   ]
  },
  {
   "cell_type": "markdown",
   "id": "5a57e097",
   "metadata": {},
   "source": [
    "# Step 3: Data Preparation"
   ]
  },
  {
   "cell_type": "markdown",
   "id": "25334733",
   "metadata": {},
   "source": [
    "## 3.1 Store the target and input features that will feed the models\n",
    "\n",
    "Now,we will create a feature data set called  <font color =red>X</font> which will be used to create the input for the LSTM model.<br> \n",
    "\n",
    "Next, we create a dataset called <font color =red>y</font> which will contain the future return values.<br>\n",
    "\n",
    "The model will train to predict the future returns.\n",
    "\n",
    "#### 3.1.1 Storing the input features in X"
   ]
  },
  {
   "cell_type": "code",
   "execution_count": 5,
   "id": "ffc6221d",
   "metadata": {},
   "outputs": [
    {
     "data": {
      "text/html": [
       "<div>\n",
       "<style scoped>\n",
       "    .dataframe tbody tr th:only-of-type {\n",
       "        vertical-align: middle;\n",
       "    }\n",
       "\n",
       "    .dataframe tbody tr th {\n",
       "        vertical-align: top;\n",
       "    }\n",
       "\n",
       "    .dataframe thead th {\n",
       "        text-align: right;\n",
       "    }\n",
       "</style>\n",
       "<table border=\"1\" class=\"dataframe\">\n",
       "  <thead>\n",
       "    <tr style=\"text-align: right;\">\n",
       "      <th></th>\n",
       "      <th>ADX_FD</th>\n",
       "      <th>SMA_FD</th>\n",
       "      <th>macd</th>\n",
       "      <th>macdsignal</th>\n",
       "      <th>macdhist</th>\n",
       "      <th>upperband</th>\n",
       "      <th>middleband</th>\n",
       "      <th>lowerband</th>\n",
       "      <th>RSI_FD</th>\n",
       "      <th>Close_FD</th>\n",
       "      <th>Volume</th>\n",
       "      <th>std5</th>\n",
       "      <th>std10</th>\n",
       "      <th>std20</th>\n",
       "      <th>std40</th>\n",
       "    </tr>\n",
       "    <tr>\n",
       "      <th>Date</th>\n",
       "      <th></th>\n",
       "      <th></th>\n",
       "      <th></th>\n",
       "      <th></th>\n",
       "      <th></th>\n",
       "      <th></th>\n",
       "      <th></th>\n",
       "      <th></th>\n",
       "      <th></th>\n",
       "      <th></th>\n",
       "      <th></th>\n",
       "      <th></th>\n",
       "      <th></th>\n",
       "      <th></th>\n",
       "      <th></th>\n",
       "    </tr>\n",
       "  </thead>\n",
       "  <tbody>\n",
       "    <tr>\n",
       "      <th>2016-09-06</th>\n",
       "      <td>0.353590</td>\n",
       "      <td>0.247653</td>\n",
       "      <td>0.243484</td>\n",
       "      <td>0.243487</td>\n",
       "      <td>0.243454</td>\n",
       "      <td>0.247733</td>\n",
       "      <td>0.247655</td>\n",
       "      <td>0.247577</td>\n",
       "      <td>0.774007</td>\n",
       "      <td>0.247708</td>\n",
       "      <td>0.151450</td>\n",
       "      <td>0.243594</td>\n",
       "      <td>0.243648</td>\n",
       "      <td>0.243826</td>\n",
       "      <td>0.243877</td>\n",
       "    </tr>\n",
       "    <tr>\n",
       "      <th>2016-10-06</th>\n",
       "      <td>0.355980</td>\n",
       "      <td>0.247668</td>\n",
       "      <td>0.243476</td>\n",
       "      <td>0.243485</td>\n",
       "      <td>0.243448</td>\n",
       "      <td>0.247740</td>\n",
       "      <td>0.247652</td>\n",
       "      <td>0.247563</td>\n",
       "      <td>0.723344</td>\n",
       "      <td>0.247577</td>\n",
       "      <td>0.202249</td>\n",
       "      <td>0.243672</td>\n",
       "      <td>0.243666</td>\n",
       "      <td>0.243814</td>\n",
       "      <td>0.243878</td>\n",
       "    </tr>\n",
       "    <tr>\n",
       "      <th>2016-06-13</th>\n",
       "      <td>0.350116</td>\n",
       "      <td>0.247669</td>\n",
       "      <td>0.243460</td>\n",
       "      <td>0.243480</td>\n",
       "      <td>0.243437</td>\n",
       "      <td>0.247783</td>\n",
       "      <td>0.247610</td>\n",
       "      <td>0.247437</td>\n",
       "      <td>0.683375</td>\n",
       "      <td>0.247461</td>\n",
       "      <td>0.264934</td>\n",
       "      <td>0.243669</td>\n",
       "      <td>0.243673</td>\n",
       "      <td>0.243806</td>\n",
       "      <td>0.243871</td>\n",
       "    </tr>\n",
       "    <tr>\n",
       "      <th>2016-06-14</th>\n",
       "      <td>0.344671</td>\n",
       "      <td>0.247655</td>\n",
       "      <td>0.243457</td>\n",
       "      <td>0.243475</td>\n",
       "      <td>0.243439</td>\n",
       "      <td>0.247752</td>\n",
       "      <td>0.247590</td>\n",
       "      <td>0.247428</td>\n",
       "      <td>0.731513</td>\n",
       "      <td>0.247573</td>\n",
       "      <td>0.204425</td>\n",
       "      <td>0.243735</td>\n",
       "      <td>0.243695</td>\n",
       "      <td>0.243716</td>\n",
       "      <td>0.243871</td>\n",
       "    </tr>\n",
       "    <tr>\n",
       "      <th>2016-06-15</th>\n",
       "      <td>0.341570</td>\n",
       "      <td>0.247653</td>\n",
       "      <td>0.243453</td>\n",
       "      <td>0.243471</td>\n",
       "      <td>0.243439</td>\n",
       "      <td>0.247732</td>\n",
       "      <td>0.247574</td>\n",
       "      <td>0.247416</td>\n",
       "      <td>0.723301</td>\n",
       "      <td>0.247551</td>\n",
       "      <td>0.179712</td>\n",
       "      <td>0.243734</td>\n",
       "      <td>0.243668</td>\n",
       "      <td>0.243678</td>\n",
       "      <td>0.243870</td>\n",
       "    </tr>\n",
       "  </tbody>\n",
       "</table>\n",
       "</div>"
      ],
      "text/plain": [
       "              ADX_FD    SMA_FD      macd  macdsignal  macdhist  upperband  \\\n",
       "Date                                                                        \n",
       "2016-09-06  0.353590  0.247653  0.243484    0.243487  0.243454   0.247733   \n",
       "2016-10-06  0.355980  0.247668  0.243476    0.243485  0.243448   0.247740   \n",
       "2016-06-13  0.350116  0.247669  0.243460    0.243480  0.243437   0.247783   \n",
       "2016-06-14  0.344671  0.247655  0.243457    0.243475  0.243439   0.247752   \n",
       "2016-06-15  0.341570  0.247653  0.243453    0.243471  0.243439   0.247732   \n",
       "\n",
       "            middleband  lowerband    RSI_FD  Close_FD    Volume      std5  \\\n",
       "Date                                                                        \n",
       "2016-09-06    0.247655   0.247577  0.774007  0.247708  0.151450  0.243594   \n",
       "2016-10-06    0.247652   0.247563  0.723344  0.247577  0.202249  0.243672   \n",
       "2016-06-13    0.247610   0.247437  0.683375  0.247461  0.264934  0.243669   \n",
       "2016-06-14    0.247590   0.247428  0.731513  0.247573  0.204425  0.243735   \n",
       "2016-06-15    0.247574   0.247416  0.723301  0.247551  0.179712  0.243734   \n",
       "\n",
       "               std10     std20     std40  \n",
       "Date                                      \n",
       "2016-09-06  0.243648  0.243826  0.243877  \n",
       "2016-10-06  0.243666  0.243814  0.243878  \n",
       "2016-06-13  0.243673  0.243806  0.243871  \n",
       "2016-06-14  0.243695  0.243716  0.243871  \n",
       "2016-06-15  0.243668  0.243678  0.243870  "
      ]
     },
     "execution_count": 5,
     "metadata": {},
     "output_type": "execute_result"
    }
   ],
   "source": [
    "predictor_list = ['ADX_FD', 'SMA_FD', 'macd', 'macdsignal', 'macdhist', 'upperband', 'middleband', 'lowerband', 'RSI_FD', 'Close_FD',\n",
    "'Volume', 'std5', 'std10', 'std20', 'std40']\n",
    "\n",
    "X = df_aapl[predictor_list]\n",
    "X.head()"
   ]
  },
  {
   "cell_type": "markdown",
   "id": "461737ba",
   "metadata": {},
   "source": [
    "#### 3.1.2 Storing the input features in y"
   ]
  },
  {
   "cell_type": "code",
   "execution_count": 6,
   "id": "96207870",
   "metadata": {},
   "outputs": [
    {
     "data": {
      "text/plain": [
       "Date\n",
       "2016-09-06    0.216721\n",
       "2016-10-06    0.218793\n",
       "2016-06-13    0.261516\n",
       "2016-06-14    0.236047\n",
       "2016-06-15    0.253480\n",
       "                ...   \n",
       "2021-03-25    0.246578\n",
       "2021-03-26    0.239204\n",
       "2021-03-29    0.223691\n",
       "2021-03-30    0.272645\n",
       "2021-03-31    0.236586\n",
       "Name: future_return, Length: 1211, dtype: float64"
      ]
     },
     "execution_count": 6,
     "metadata": {},
     "output_type": "execute_result"
    }
   ],
   "source": [
    "y = df_aapl['future_return']\n",
    "y"
   ]
  },
  {
   "cell_type": "markdown",
   "id": "672a0a1b",
   "metadata": {},
   "source": [
    "# Step 4: Data Segregation\n",
    "\n",
    "Before we build our models, we need to split the data set into train and test data. Our models will use the train data to learn the properties of data and the test data to estimate the model’s accuracy of the predictions.\n",
    "\n",
    "We have training data in the X_train and y_train for creating the model and a X_test and y_test to verify the model on unseen data.\n",
    "\n",
    "We will split the dataset into two parts. We will take 60 days from the most recent date as the test set and the rest will be the training set. "
   ]
  },
  {
   "cell_type": "markdown",
   "id": "2eae4205",
   "metadata": {},
   "source": [
    "In this example, we have taken a timestep of 1 day to create the input data. "
   ]
  },
  {
   "cell_type": "code",
   "execution_count": 7,
   "id": "7f0156f0",
   "metadata": {},
   "outputs": [],
   "source": [
    "timestep = 1\n",
    "X_list = []\n",
    "y_list = []\n",
    "for i in range(timestep, len(X)):\n",
    "    X_list.append(np.array(X.iloc[i-timestep:i]))\n",
    "    y_list.append(y.iloc[i:i+timestep].values)"
   ]
  },
  {
   "cell_type": "markdown",
   "id": "7ec38afd",
   "metadata": {},
   "source": [
    "You have stacked more LSTM layers one after another. We test this strategy on 60 days of data."
   ]
  },
  {
   "cell_type": "code",
   "execution_count": 8,
   "id": "ff9fdbb3",
   "metadata": {},
   "outputs": [],
   "source": [
    "test_size = 60\n",
    "X_train = np.array(X_list[:-test_size])\n",
    "y_train = np.expand_dims(np.array(y_list[:-test_size]), axis=2)\n",
    "X_test = np.array(X_list[-test_size:])\n",
    "y_test = np.expand_dims(np.array(y_list[-test_size:]), axis=2)"
   ]
  },
  {
   "cell_type": "code",
   "execution_count": 9,
   "id": "277a7455",
   "metadata": {},
   "outputs": [
    {
     "data": {
      "text/plain": [
       "(60, 1, 1)"
      ]
     },
     "execution_count": 9,
     "metadata": {},
     "output_type": "execute_result"
    }
   ],
   "source": [
    "y_test.shape"
   ]
  },
  {
   "cell_type": "markdown",
   "id": "e4ae379c",
   "metadata": {},
   "source": [
    "# Step 5: Model training\n",
    "\n",
    "## 5.1 Fitting the model using LSTM"
   ]
  },
  {
   "cell_type": "code",
   "execution_count": 10,
   "id": "8971da8a",
   "metadata": {},
   "outputs": [],
   "source": [
    "neurons_params = [100, 125, 150]\n",
    "act_1_params = ['tanh', 'sigmoid', 'relu']\n",
    "dropout_ratio_params = [0.20, 0.10, 0.30, 0.4, 0.5]"
   ]
  },
  {
   "cell_type": "code",
   "execution_count": 11,
   "id": "7ba15276",
   "metadata": {},
   "outputs": [],
   "source": [
    "# Hyperparameters for our model\n",
    "neurons = 200\n",
    "act = 'sigmoid'\n",
    "dropout_ratio = 0.20"
   ]
  },
  {
   "cell_type": "code",
   "execution_count": 12,
   "id": "9fc98c96",
   "metadata": {},
   "outputs": [],
   "source": [
    "model = Sequential()\n",
    "model.add(LSTM(4, input_shape=(\n",
    "    X_train.shape[1], X_train.shape[2]), return_sequences=True))\n",
    "model.add(Dense(neurons, activation=act))\n",
    "model.add(Dropout(dropout_ratio))\n",
    "model.add(Dense(neurons*2, activation=act))\n",
    "model.add(Dropout(dropout_ratio))\n",
    "model.add(Dense(neurons*3, activation=act))\n",
    "model.add(Dropout(dropout_ratio))\n",
    "model.add(Dense(neurons*4, activation=act))\n",
    "model.add(Dropout(dropout_ratio))\n",
    "model.add(Dense(neurons*5, activation=act))\n",
    "model.add(Dropout(dropout_ratio))\n",
    "model.add(Dense(1))\n",
    "model.compile(loss='mean_squared_error', optimizer='adam', metrics=['mse'])"
   ]
  },
  {
   "cell_type": "code",
   "execution_count": 13,
   "id": "569e2396",
   "metadata": {},
   "outputs": [],
   "source": [
    "filepath = \"LSTM-weights-best.hdf5\"\n",
    "checkpoint = ModelCheckpoint(\n",
    "    filepath, monitor='val_loss', verbose=1, save_best_only=True, mode='auto')"
   ]
  },
  {
   "cell_type": "code",
   "execution_count": 14,
   "id": "9584ea0c",
   "metadata": {},
   "outputs": [
    {
     "name": "stdout",
     "output_type": "stream",
     "text": [
      "_________________________________________________________________\n",
      "Layer (type)                 Output Shape              Param #   \n",
      "=================================================================\n",
      "lstm_1 (LSTM)                (None, 1, 4)              320       \n",
      "_________________________________________________________________\n",
      "dense_1 (Dense)              (None, 1, 200)            1000      \n",
      "_________________________________________________________________\n",
      "dropout_1 (Dropout)          (None, 1, 200)            0         \n",
      "_________________________________________________________________\n",
      "dense_2 (Dense)              (None, 1, 400)            80400     \n",
      "_________________________________________________________________\n",
      "dropout_2 (Dropout)          (None, 1, 400)            0         \n",
      "_________________________________________________________________\n",
      "dense_3 (Dense)              (None, 1, 600)            240600    \n",
      "_________________________________________________________________\n",
      "dropout_3 (Dropout)          (None, 1, 600)            0         \n",
      "_________________________________________________________________\n",
      "dense_4 (Dense)              (None, 1, 800)            480800    \n",
      "_________________________________________________________________\n",
      "dropout_4 (Dropout)          (None, 1, 800)            0         \n",
      "_________________________________________________________________\n",
      "dense_5 (Dense)              (None, 1, 1000)           801000    \n",
      "_________________________________________________________________\n",
      "dropout_5 (Dropout)          (None, 1, 1000)           0         \n",
      "_________________________________________________________________\n",
      "dense_6 (Dense)              (None, 1, 1)              1001      \n",
      "=================================================================\n",
      "Total params: 1,605,121\n",
      "Trainable params: 1,605,121\n",
      "Non-trainable params: 0\n",
      "_________________________________________________________________\n"
     ]
    }
   ],
   "source": [
    "model.summary()"
   ]
  },
  {
   "cell_type": "code",
   "execution_count": 15,
   "id": "948dbef8",
   "metadata": {},
   "outputs": [
    {
     "name": "stdout",
     "output_type": "stream",
     "text": [
      "Train on 920 samples, validate on 230 samples\n",
      "Epoch 1/20\n",
      "920/920 [==============================] - 24s 26ms/step - loss: 0.2405 - mean_squared_error: 0.2405 - val_loss: 0.0608 - val_mean_squared_error: 0.0608\n",
      "\n",
      "Epoch 00001: val_loss improved from inf to 0.06081, saving model to LSTM-weights-best.hdf5\n",
      "Epoch 2/20\n",
      "920/920 [==============================] - 21s 23ms/step - loss: 0.0453 - mean_squared_error: 0.0453 - val_loss: 0.0032 - val_mean_squared_error: 0.0032\n",
      "\n",
      "Epoch 00002: val_loss improved from 0.06081 to 0.00316, saving model to LSTM-weights-best.hdf5\n",
      "Epoch 3/20\n",
      "920/920 [==============================] - 22s 24ms/step - loss: 0.0082 - mean_squared_error: 0.0082 - val_loss: 0.0033 - val_mean_squared_error: 0.0033\n",
      "\n",
      "Epoch 00003: val_loss did not improve from 0.00316\n",
      "Epoch 4/20\n",
      "920/920 [==============================] - 22s 24ms/step - loss: 0.0023 - mean_squared_error: 0.0023 - val_loss: 0.0033 - val_mean_squared_error: 0.0033\n",
      "\n",
      "Epoch 00004: val_loss did not improve from 0.00316\n",
      "Epoch 5/20\n",
      "920/920 [==============================] - 22s 24ms/step - loss: 0.0016 - mean_squared_error: 0.0016 - val_loss: 0.0041 - val_mean_squared_error: 0.0041\n",
      "\n",
      "Epoch 00005: val_loss did not improve from 0.00316\n",
      "Epoch 6/20\n",
      "920/920 [==============================] - 23s 26ms/step - loss: 0.0016 - mean_squared_error: 0.0016 - val_loss: 0.0038 - val_mean_squared_error: 0.0038\n",
      "\n",
      "Epoch 00006: val_loss did not improve from 0.00316\n",
      "Epoch 7/20\n",
      "920/920 [==============================] - 23s 25ms/step - loss: 0.0015 - mean_squared_error: 0.0015 - val_loss: 0.0034 - val_mean_squared_error: 0.0034\n",
      "\n",
      "Epoch 00007: val_loss did not improve from 0.00316\n",
      "Epoch 8/20\n",
      "920/920 [==============================] - 23s 25ms/step - loss: 0.0015 - mean_squared_error: 0.0015 - val_loss: 0.0034 - val_mean_squared_error: 0.0034\n",
      "\n",
      "Epoch 00008: val_loss did not improve from 0.00316\n",
      "Epoch 9/20\n",
      "920/920 [==============================] - 23s 25ms/step - loss: 0.0012 - mean_squared_error: 0.0012 - val_loss: 0.0031 - val_mean_squared_error: 0.0031\n",
      "\n",
      "Epoch 00009: val_loss improved from 0.00316 to 0.00313, saving model to LSTM-weights-best.hdf5\n",
      "Epoch 10/20\n",
      "920/920 [==============================] - 23s 25ms/step - loss: 0.0011 - mean_squared_error: 0.0011 - val_loss: 0.0031 - val_mean_squared_error: 0.0031\n",
      "\n",
      "Epoch 00010: val_loss improved from 0.00313 to 0.00306, saving model to LSTM-weights-best.hdf5\n",
      "Epoch 11/20\n",
      "920/920 [==============================] - 24s 26ms/step - loss: 9.1893e-04 - mean_squared_error: 9.1893e-04 - val_loss: 0.0031 - val_mean_squared_error: 0.0031\n",
      "\n",
      "Epoch 00011: val_loss did not improve from 0.00306\n",
      "Epoch 12/20\n",
      "920/920 [==============================] - 24s 26ms/step - loss: 8.8478e-04 - mean_squared_error: 8.8478e-04 - val_loss: 0.0031 - val_mean_squared_error: 0.0031\n",
      "\n",
      "Epoch 00012: val_loss did not improve from 0.00306\n",
      "Epoch 13/20\n",
      "920/920 [==============================] - 24s 26ms/step - loss: 8.6132e-04 - mean_squared_error: 8.6132e-04 - val_loss: 0.0031 - val_mean_squared_error: 0.0031\n",
      "\n",
      "Epoch 00013: val_loss did not improve from 0.00306\n",
      "Epoch 14/20\n",
      "920/920 [==============================] - 24s 26ms/step - loss: 8.6587e-04 - mean_squared_error: 8.6587e-04 - val_loss: 0.0031 - val_mean_squared_error: 0.0031\n",
      "\n",
      "Epoch 00014: val_loss did not improve from 0.00306\n",
      "Epoch 15/20\n",
      "920/920 [==============================] - 24s 26ms/step - loss: 8.5625e-04 - mean_squared_error: 8.5625e-04 - val_loss: 0.0031 - val_mean_squared_error: 0.0031\n",
      "\n",
      "Epoch 00015: val_loss did not improve from 0.00306\n",
      "Epoch 16/20\n",
      "920/920 [==============================] - 24s 26ms/step - loss: 8.6288e-04 - mean_squared_error: 8.6288e-04 - val_loss: 0.0031 - val_mean_squared_error: 0.0031\n",
      "\n",
      "Epoch 00016: val_loss did not improve from 0.00306\n",
      "Epoch 17/20\n",
      "920/920 [==============================] - 24s 26ms/step - loss: 8.6177e-04 - mean_squared_error: 8.6177e-04 - val_loss: 0.0031 - val_mean_squared_error: 0.0031\n",
      "\n",
      "Epoch 00017: val_loss did not improve from 0.00306\n",
      "Epoch 18/20\n",
      "920/920 [==============================] - 25s 27ms/step - loss: 8.5988e-04 - mean_squared_error: 8.5988e-04 - val_loss: 0.0031 - val_mean_squared_error: 0.0031\n",
      "\n",
      "Epoch 00018: val_loss did not improve from 0.00306\n",
      "Epoch 19/20\n",
      "920/920 [==============================] - 24s 26ms/step - loss: 8.6013e-04 - mean_squared_error: 8.6013e-04 - val_loss: 0.0031 - val_mean_squared_error: 0.0031\n",
      "\n",
      "Epoch 00019: val_loss did not improve from 0.00306\n",
      "Epoch 20/20\n",
      "920/920 [==============================] - 25s 27ms/step - loss: 8.5699e-04 - mean_squared_error: 8.5699e-04 - val_loss: 0.0031 - val_mean_squared_error: 0.0031\n",
      "\n",
      "Epoch 00020: val_loss did not improve from 0.00306\n"
     ]
    },
    {
     "data": {
      "text/plain": [
       "<keras.callbacks.History at 0x7fc5080a3f28>"
      ]
     },
     "execution_count": 15,
     "metadata": {},
     "output_type": "execute_result"
    }
   ],
   "source": [
    "model.fit(X_train, y_train, epochs=20, batch_size=1, verbose=1,\n",
    "          validation_split=0.2, callbacks=[checkpoint])"
   ]
  },
  {
   "cell_type": "code",
   "execution_count": 16,
   "id": "6bfb6285",
   "metadata": {},
   "outputs": [],
   "source": [
    "# load our model\n",
    "model.load_weights(\"LSTM-weights-best.hdf5\")"
   ]
  },
  {
   "cell_type": "markdown",
   "id": "1d9c18ae",
   "metadata": {},
   "source": [
    "#### Predicting train set"
   ]
  },
  {
   "cell_type": "code",
   "execution_count": 17,
   "id": "f30107b6",
   "metadata": {},
   "outputs": [],
   "source": [
    "predict_returns1=[]\n",
    "predict_returns1 = list(model.predict(X_train))"
   ]
  },
  {
   "cell_type": "code",
   "execution_count": 18,
   "id": "4bab7765",
   "metadata": {},
   "outputs": [],
   "source": [
    "predicted_returns1=[]\n",
    "for i in range(len(y_train)):\n",
    "    predicted_returns1.append((predict_returns1[i][0][0]))"
   ]
  },
  {
   "cell_type": "code",
   "execution_count": 19,
   "id": "786e3237",
   "metadata": {},
   "outputs": [],
   "source": [
    "actual_returns1 = []\n",
    "for i in range(len(y_train)):\n",
    "    actual_returns1.append((y_train[i][0][0]))"
   ]
  },
  {
   "cell_type": "code",
   "execution_count": 20,
   "id": "469ab527",
   "metadata": {},
   "outputs": [],
   "source": [
    "performance1 = pd.DataFrame([list(predicted_returns1), list(actual_returns1)])\n",
    "performance1 = performance1.T\n",
    "performance1.columns = ['Predicted', 'Actual']\n",
    "# Spread1 = performance1.Actual-performance1.Predicted"
   ]
  },
  {
   "cell_type": "code",
   "execution_count": 21,
   "id": "080de927",
   "metadata": {},
   "outputs": [
    {
     "data": {
      "text/html": [
       "<div>\n",
       "<style scoped>\n",
       "    .dataframe tbody tr th:only-of-type {\n",
       "        vertical-align: middle;\n",
       "    }\n",
       "\n",
       "    .dataframe tbody tr th {\n",
       "        vertical-align: top;\n",
       "    }\n",
       "\n",
       "    .dataframe thead th {\n",
       "        text-align: right;\n",
       "    }\n",
       "</style>\n",
       "<table border=\"1\" class=\"dataframe\">\n",
       "  <thead>\n",
       "    <tr style=\"text-align: right;\">\n",
       "      <th></th>\n",
       "      <th>Predicted</th>\n",
       "      <th>Actual</th>\n",
       "    </tr>\n",
       "  </thead>\n",
       "  <tbody>\n",
       "    <tr>\n",
       "      <th>1145</th>\n",
       "      <td>0.242267</td>\n",
       "      <td>0.198757</td>\n",
       "    </tr>\n",
       "    <tr>\n",
       "      <th>1146</th>\n",
       "      <td>0.242267</td>\n",
       "      <td>0.233310</td>\n",
       "    </tr>\n",
       "    <tr>\n",
       "      <th>1147</th>\n",
       "      <td>0.242267</td>\n",
       "      <td>0.235857</td>\n",
       "    </tr>\n",
       "    <tr>\n",
       "      <th>1148</th>\n",
       "      <td>0.242267</td>\n",
       "      <td>0.215094</td>\n",
       "    </tr>\n",
       "    <tr>\n",
       "      <th>1149</th>\n",
       "      <td>0.242267</td>\n",
       "      <td>0.275900</td>\n",
       "    </tr>\n",
       "  </tbody>\n",
       "</table>\n",
       "</div>"
      ],
      "text/plain": [
       "      Predicted    Actual\n",
       "1145   0.242267  0.198757\n",
       "1146   0.242267  0.233310\n",
       "1147   0.242267  0.235857\n",
       "1148   0.242267  0.215094\n",
       "1149   0.242267  0.275900"
      ]
     },
     "execution_count": 21,
     "metadata": {},
     "output_type": "execute_result"
    }
   ],
   "source": [
    "performance1.tail()"
   ]
  },
  {
   "cell_type": "code",
   "execution_count": 22,
   "id": "09440c2e",
   "metadata": {},
   "outputs": [],
   "source": [
    "y_train = performance1.Actual\n",
    "y_lstm_train_predict1 = performance1.Predicted"
   ]
  },
  {
   "cell_type": "markdown",
   "id": "bc971845",
   "metadata": {},
   "source": [
    "#### Predicting test set"
   ]
  },
  {
   "cell_type": "code",
   "execution_count": 23,
   "id": "d37dad27",
   "metadata": {},
   "outputs": [],
   "source": [
    "predict_returns2=[]\n",
    "predict_returns2 = list(model.predict(X_test))"
   ]
  },
  {
   "cell_type": "code",
   "execution_count": 24,
   "id": "8d67d730",
   "metadata": {},
   "outputs": [],
   "source": [
    "predicted_returns2=[]\n",
    "for i in range(len(y_test)):\n",
    "    predicted_returns2.append((predict_returns2[i][0][0]))"
   ]
  },
  {
   "cell_type": "code",
   "execution_count": 25,
   "id": "b3e88157",
   "metadata": {},
   "outputs": [],
   "source": [
    "actual_returns2 = []\n",
    "for i in range(len(y_test)):\n",
    "    actual_returns2.append((y_test[i][0][0]))"
   ]
  },
  {
   "cell_type": "code",
   "execution_count": 43,
   "id": "f24500d0",
   "metadata": {},
   "outputs": [],
   "source": [
    "performance2 = pd.DataFrame([list(predicted_returns2), list(actual_returns2)])\n",
    "performance2 = performance2.T\n",
    "performance2.columns = ['Predicted', 'Actual']\n",
    "Spread2 = performance2.Actual-performance2.Predicted"
   ]
  },
  {
   "cell_type": "code",
   "execution_count": 39,
   "id": "18ba8859",
   "metadata": {},
   "outputs": [
    {
     "data": {
      "text/html": [
       "<div>\n",
       "<style scoped>\n",
       "    .dataframe tbody tr th:only-of-type {\n",
       "        vertical-align: middle;\n",
       "    }\n",
       "\n",
       "    .dataframe tbody tr th {\n",
       "        vertical-align: top;\n",
       "    }\n",
       "\n",
       "    .dataframe thead th {\n",
       "        text-align: right;\n",
       "    }\n",
       "</style>\n",
       "<table border=\"1\" class=\"dataframe\">\n",
       "  <thead>\n",
       "    <tr style=\"text-align: right;\">\n",
       "      <th></th>\n",
       "      <th>Predicted</th>\n",
       "      <th>Actual</th>\n",
       "    </tr>\n",
       "  </thead>\n",
       "  <tbody>\n",
       "    <tr>\n",
       "      <th>0</th>\n",
       "      <td>0.242267</td>\n",
       "      <td>0.193662</td>\n",
       "    </tr>\n",
       "    <tr>\n",
       "      <th>1</th>\n",
       "      <td>0.242267</td>\n",
       "      <td>0.310418</td>\n",
       "    </tr>\n",
       "    <tr>\n",
       "      <th>2</th>\n",
       "      <td>0.242267</td>\n",
       "      <td>0.231684</td>\n",
       "    </tr>\n",
       "    <tr>\n",
       "      <th>3</th>\n",
       "      <td>0.242267</td>\n",
       "      <td>0.203852</td>\n",
       "    </tr>\n",
       "    <tr>\n",
       "      <th>4</th>\n",
       "      <td>0.242267</td>\n",
       "      <td>0.254394</td>\n",
       "    </tr>\n",
       "    <tr>\n",
       "      <th>5</th>\n",
       "      <td>0.242267</td>\n",
       "      <td>0.263839</td>\n",
       "    </tr>\n",
       "    <tr>\n",
       "      <th>6</th>\n",
       "      <td>0.242267</td>\n",
       "      <td>0.211607</td>\n",
       "    </tr>\n",
       "    <tr>\n",
       "      <th>7</th>\n",
       "      <td>0.242267</td>\n",
       "      <td>0.232453</td>\n",
       "    </tr>\n",
       "    <tr>\n",
       "      <th>8</th>\n",
       "      <td>0.242267</td>\n",
       "      <td>0.259060</td>\n",
       "    </tr>\n",
       "    <tr>\n",
       "      <th>9</th>\n",
       "      <td>0.242267</td>\n",
       "      <td>0.278299</td>\n",
       "    </tr>\n",
       "    <tr>\n",
       "      <th>10</th>\n",
       "      <td>0.242267</td>\n",
       "      <td>0.260199</td>\n",
       "    </tr>\n",
       "    <tr>\n",
       "      <th>11</th>\n",
       "      <td>0.242267</td>\n",
       "      <td>0.229865</td>\n",
       "    </tr>\n",
       "    <tr>\n",
       "      <th>12</th>\n",
       "      <td>0.242267</td>\n",
       "      <td>0.253815</td>\n",
       "    </tr>\n",
       "    <tr>\n",
       "      <th>13</th>\n",
       "      <td>0.242267</td>\n",
       "      <td>0.217925</td>\n",
       "    </tr>\n",
       "    <tr>\n",
       "      <th>14</th>\n",
       "      <td>0.242267</td>\n",
       "      <td>0.223094</td>\n",
       "    </tr>\n",
       "    <tr>\n",
       "      <th>15</th>\n",
       "      <td>0.242267</td>\n",
       "      <td>0.198826</td>\n",
       "    </tr>\n",
       "    <tr>\n",
       "      <th>16</th>\n",
       "      <td>0.242267</td>\n",
       "      <td>0.217006</td>\n",
       "    </tr>\n",
       "    <tr>\n",
       "      <th>17</th>\n",
       "      <td>0.242267</td>\n",
       "      <td>0.295295</td>\n",
       "    </tr>\n",
       "    <tr>\n",
       "      <th>18</th>\n",
       "      <td>0.242267</td>\n",
       "      <td>0.242895</td>\n",
       "    </tr>\n",
       "    <tr>\n",
       "      <th>19</th>\n",
       "      <td>0.242267</td>\n",
       "      <td>0.227308</td>\n",
       "    </tr>\n",
       "    <tr>\n",
       "      <th>20</th>\n",
       "      <td>0.242267</td>\n",
       "      <td>0.277625</td>\n",
       "    </tr>\n",
       "    <tr>\n",
       "      <th>21</th>\n",
       "      <td>0.242267</td>\n",
       "      <td>0.220439</td>\n",
       "    </tr>\n",
       "    <tr>\n",
       "      <th>22</th>\n",
       "      <td>0.242267</td>\n",
       "      <td>0.241297</td>\n",
       "    </tr>\n",
       "    <tr>\n",
       "      <th>23</th>\n",
       "      <td>0.242267</td>\n",
       "      <td>0.231006</td>\n",
       "    </tr>\n",
       "    <tr>\n",
       "      <th>24</th>\n",
       "      <td>0.242267</td>\n",
       "      <td>0.238741</td>\n",
       "    </tr>\n",
       "    <tr>\n",
       "      <th>25</th>\n",
       "      <td>0.242267</td>\n",
       "      <td>0.241331</td>\n",
       "    </tr>\n",
       "    <tr>\n",
       "      <th>26</th>\n",
       "      <td>0.242267</td>\n",
       "      <td>0.244425</td>\n",
       "    </tr>\n",
       "    <tr>\n",
       "      <th>27</th>\n",
       "      <td>0.242267</td>\n",
       "      <td>0.219762</td>\n",
       "    </tr>\n",
       "    <tr>\n",
       "      <th>28</th>\n",
       "      <td>0.242267</td>\n",
       "      <td>0.230062</td>\n",
       "    </tr>\n",
       "    <tr>\n",
       "      <th>29</th>\n",
       "      <td>0.242267</td>\n",
       "      <td>0.245417</td>\n",
       "    </tr>\n",
       "    <tr>\n",
       "      <th>30</th>\n",
       "      <td>0.242267</td>\n",
       "      <td>0.252239</td>\n",
       "    </tr>\n",
       "    <tr>\n",
       "      <th>31</th>\n",
       "      <td>0.242267</td>\n",
       "      <td>0.205211</td>\n",
       "    </tr>\n",
       "    <tr>\n",
       "      <th>32</th>\n",
       "      <td>0.242267</td>\n",
       "      <td>0.263985</td>\n",
       "    </tr>\n",
       "    <tr>\n",
       "      <th>33</th>\n",
       "      <td>0.242267</td>\n",
       "      <td>0.241593</td>\n",
       "    </tr>\n",
       "    <tr>\n",
       "      <th>34</th>\n",
       "      <td>0.242267</td>\n",
       "      <td>0.201945</td>\n",
       "    </tr>\n",
       "    <tr>\n",
       "      <th>35</th>\n",
       "      <td>0.242267</td>\n",
       "      <td>0.273893</td>\n",
       "    </tr>\n",
       "    <tr>\n",
       "      <th>36</th>\n",
       "      <td>0.242267</td>\n",
       "      <td>0.311691</td>\n",
       "    </tr>\n",
       "    <tr>\n",
       "      <th>37</th>\n",
       "      <td>0.242267</td>\n",
       "      <td>0.182265</td>\n",
       "    </tr>\n",
       "    <tr>\n",
       "      <th>38</th>\n",
       "      <td>0.242267</td>\n",
       "      <td>0.219122</td>\n",
       "    </tr>\n",
       "    <tr>\n",
       "      <th>39</th>\n",
       "      <td>0.242267</td>\n",
       "      <td>0.239709</td>\n",
       "    </tr>\n",
       "    <tr>\n",
       "      <th>40</th>\n",
       "      <td>0.242267</td>\n",
       "      <td>0.270074</td>\n",
       "    </tr>\n",
       "    <tr>\n",
       "      <th>41</th>\n",
       "      <td>0.242267</td>\n",
       "      <td>0.183585</td>\n",
       "    </tr>\n",
       "    <tr>\n",
       "      <th>42</th>\n",
       "      <td>0.242267</td>\n",
       "      <td>0.328143</td>\n",
       "    </tr>\n",
       "    <tr>\n",
       "      <th>43</th>\n",
       "      <td>0.242267</td>\n",
       "      <td>0.206777</td>\n",
       "    </tr>\n",
       "    <tr>\n",
       "      <th>44</th>\n",
       "      <td>0.242267</td>\n",
       "      <td>0.264803</td>\n",
       "    </tr>\n",
       "    <tr>\n",
       "      <th>45</th>\n",
       "      <td>0.242267</td>\n",
       "      <td>0.219993</td>\n",
       "    </tr>\n",
       "    <tr>\n",
       "      <th>46</th>\n",
       "      <td>0.242267</td>\n",
       "      <td>0.274134</td>\n",
       "    </tr>\n",
       "    <tr>\n",
       "      <th>47</th>\n",
       "      <td>0.242267</td>\n",
       "      <td>0.238144</td>\n",
       "    </tr>\n",
       "    <tr>\n",
       "      <th>48</th>\n",
       "      <td>0.242267</td>\n",
       "      <td>0.219681</td>\n",
       "    </tr>\n",
       "    <tr>\n",
       "      <th>49</th>\n",
       "      <td>0.242267</td>\n",
       "      <td>0.198915</td>\n",
       "    </tr>\n",
       "    <tr>\n",
       "      <th>50</th>\n",
       "      <td>0.242267</td>\n",
       "      <td>0.259777</td>\n",
       "    </tr>\n",
       "    <tr>\n",
       "      <th>51</th>\n",
       "      <td>0.242267</td>\n",
       "      <td>0.283517</td>\n",
       "    </tr>\n",
       "    <tr>\n",
       "      <th>52</th>\n",
       "      <td>0.242267</td>\n",
       "      <td>0.214060</td>\n",
       "    </tr>\n",
       "    <tr>\n",
       "      <th>53</th>\n",
       "      <td>0.242267</td>\n",
       "      <td>0.217438</td>\n",
       "    </tr>\n",
       "    <tr>\n",
       "      <th>54</th>\n",
       "      <td>0.242267</td>\n",
       "      <td>0.260885</td>\n",
       "    </tr>\n",
       "    <tr>\n",
       "      <th>55</th>\n",
       "      <td>0.242267</td>\n",
       "      <td>0.246578</td>\n",
       "    </tr>\n",
       "    <tr>\n",
       "      <th>56</th>\n",
       "      <td>0.242267</td>\n",
       "      <td>0.239204</td>\n",
       "    </tr>\n",
       "    <tr>\n",
       "      <th>57</th>\n",
       "      <td>0.242267</td>\n",
       "      <td>0.223691</td>\n",
       "    </tr>\n",
       "    <tr>\n",
       "      <th>58</th>\n",
       "      <td>0.242267</td>\n",
       "      <td>0.272645</td>\n",
       "    </tr>\n",
       "    <tr>\n",
       "      <th>59</th>\n",
       "      <td>0.242267</td>\n",
       "      <td>0.236586</td>\n",
       "    </tr>\n",
       "  </tbody>\n",
       "</table>\n",
       "</div>"
      ],
      "text/plain": [
       "    Predicted    Actual\n",
       "0    0.242267  0.193662\n",
       "1    0.242267  0.310418\n",
       "2    0.242267  0.231684\n",
       "3    0.242267  0.203852\n",
       "4    0.242267  0.254394\n",
       "5    0.242267  0.263839\n",
       "6    0.242267  0.211607\n",
       "7    0.242267  0.232453\n",
       "8    0.242267  0.259060\n",
       "9    0.242267  0.278299\n",
       "10   0.242267  0.260199\n",
       "11   0.242267  0.229865\n",
       "12   0.242267  0.253815\n",
       "13   0.242267  0.217925\n",
       "14   0.242267  0.223094\n",
       "15   0.242267  0.198826\n",
       "16   0.242267  0.217006\n",
       "17   0.242267  0.295295\n",
       "18   0.242267  0.242895\n",
       "19   0.242267  0.227308\n",
       "20   0.242267  0.277625\n",
       "21   0.242267  0.220439\n",
       "22   0.242267  0.241297\n",
       "23   0.242267  0.231006\n",
       "24   0.242267  0.238741\n",
       "25   0.242267  0.241331\n",
       "26   0.242267  0.244425\n",
       "27   0.242267  0.219762\n",
       "28   0.242267  0.230062\n",
       "29   0.242267  0.245417\n",
       "30   0.242267  0.252239\n",
       "31   0.242267  0.205211\n",
       "32   0.242267  0.263985\n",
       "33   0.242267  0.241593\n",
       "34   0.242267  0.201945\n",
       "35   0.242267  0.273893\n",
       "36   0.242267  0.311691\n",
       "37   0.242267  0.182265\n",
       "38   0.242267  0.219122\n",
       "39   0.242267  0.239709\n",
       "40   0.242267  0.270074\n",
       "41   0.242267  0.183585\n",
       "42   0.242267  0.328143\n",
       "43   0.242267  0.206777\n",
       "44   0.242267  0.264803\n",
       "45   0.242267  0.219993\n",
       "46   0.242267  0.274134\n",
       "47   0.242267  0.238144\n",
       "48   0.242267  0.219681\n",
       "49   0.242267  0.198915\n",
       "50   0.242267  0.259777\n",
       "51   0.242267  0.283517\n",
       "52   0.242267  0.214060\n",
       "53   0.242267  0.217438\n",
       "54   0.242267  0.260885\n",
       "55   0.242267  0.246578\n",
       "56   0.242267  0.239204\n",
       "57   0.242267  0.223691\n",
       "58   0.242267  0.272645\n",
       "59   0.242267  0.236586"
      ]
     },
     "execution_count": 39,
     "metadata": {},
     "output_type": "execute_result"
    }
   ],
   "source": [
    "performance2"
   ]
  },
  {
   "cell_type": "code",
   "execution_count": 51,
   "id": "04635f22",
   "metadata": {},
   "outputs": [
    {
     "data": {
      "text/plain": [
       "<matplotlib.axes._subplots.AxesSubplot at 0x7fc54e35d908>"
      ]
     },
     "execution_count": 51,
     "metadata": {},
     "output_type": "execute_result"
    },
    {
     "data": {
      "image/png": "[encoded data removed]",
      "text/plain": [
       "<Figure size 432x288 with 1 Axes>"
      ]
     },
     "metadata": {
      "needs_background": "light"
     },
     "output_type": "display_data"
    }
   ],
   "source": [
    "performance2['Actual'].plot()"
   ]
  },
  {
   "cell_type": "code",
   "execution_count": 28,
   "id": "202019b0",
   "metadata": {},
   "outputs": [],
   "source": [
    "y_test = performance2.Actual\n",
    "y_lstm_test_predict1 = performance2.Predicted"
   ]
  },
  {
   "cell_type": "markdown",
   "id": "3ac9e0b6",
   "metadata": {},
   "source": [
    "#### 5.2.1 Evaluating the performance of the model prior to Hyperparameter Tuning "
   ]
  },
  {
   "cell_type": "code",
   "execution_count": 29,
   "id": "74e07397",
   "metadata": {},
   "outputs": [],
   "source": [
    "# import the metric \n",
    "from sklearn.metrics import mean_squared_error\n",
    "\n",
    "# Getting the RMSE scores\n",
    "RMSE_training1 = np.sqrt(mean_squared_error(y_train, y_lstm_train_predict1))\n",
    "\n",
    "RMSE_test1 =np.sqrt(mean_squared_error(y_test, y_lstm_test_predict1))\n",
    "\n",
    "# Getting the MSE scores\n",
    "MSE_training1 = mean_squared_error(y_train, y_lstm_train_predict1)\n",
    "\n",
    "MSE_test1 = mean_squared_error(y_test, y_lstm_test_predict1)\n",
    "\n",
    "# Getting the R-squared scores\n",
    "from sklearn.metrics import r2_score\n",
    "\n",
    "R2_training1 = r2_score(y_train, y_lstm_train_predict1)\n",
    "\n",
    "R2_test1 = r2_score(y_test, y_lstm_test_predict1)"
   ]
  },
  {
   "cell_type": "code",
   "execution_count": 30,
   "id": "48889dd9",
   "metadata": {},
   "outputs": [
    {
     "name": "stdout",
     "output_type": "stream",
     "text": [
      "MSE score\n",
      "Training data:\n",
      "The model performance (before hyperparameter tuning) in training dataset is  0.0012888151735417418\n",
      "\n",
      "MSE score\n",
      "Testing data:\n",
      "The model performance (before hyperparameter tuning) in testing dataset is  0.0009566124550309508\n"
     ]
    }
   ],
   "source": [
    "print('MSE score')\n",
    "print('Training data:')\n",
    "print('The model performance (before hyperparameter tuning) in training dataset is ', MSE_training1)\n",
    "print()\n",
    "print('MSE score')\n",
    "print('Testing data:')\n",
    "print('The model performance (before hyperparameter tuning) in testing dataset is ', MSE_test1)"
   ]
  },
  {
   "cell_type": "code",
   "execution_count": 31,
   "id": "1e751829",
   "metadata": {},
   "outputs": [
    {
     "name": "stdout",
     "output_type": "stream",
     "text": [
      "RMSE score\n",
      "Training data:\n",
      "The model performance (before hyperparameter tuning) in training dataset is  0.0359000720548266\n",
      "It has an improvement over baseline of 71.81 %.\n",
      "\n",
      "RMSE score\n",
      "Testing data:\n",
      "The model performance (before hyperparameter tuning) in testing dataset is  0.030929152187393543\n",
      "It has an improvement over baseline of 75.72 %.\n",
      "\n",
      "R-squared score\n",
      "Training data:\n",
      "The model performance (before hyperparameter tuning) in training dataset is  -0.0007300087060495564\n",
      "\n",
      "R-squared score\n",
      "Testing data:\n",
      "The model performance (before hyperparameter tuning) in testing dataset is  -0.0023638860475010404\n"
     ]
    }
   ],
   "source": [
    "RMSE_naive = 0.127362963891608\n",
    "print('RMSE score')\n",
    "print('Training data:')\n",
    "improvement_baseline1 = 100*abs(RMSE_training1 - RMSE_naive)/RMSE_naive\n",
    "print('The model performance (before hyperparameter tuning) in training dataset is ', RMSE_training1)\n",
    "print('It has an improvement over baseline of', round(improvement_baseline1, 2), '%.')\n",
    "print()\n",
    "print('RMSE score')\n",
    "print('Testing data:')\n",
    "improvement_baseline3 = 100*abs(RMSE_test1 - RMSE_naive)/RMSE_naive\n",
    "print('The model performance (before hyperparameter tuning) in testing dataset is ', RMSE_test1)\n",
    "print('It has an improvement over baseline of', round(improvement_baseline3, 2), '%.')\n",
    "print()\n",
    "print('R-squared score')\n",
    "print('Training data:')\n",
    "print('The model performance (before hyperparameter tuning) in training dataset is ', R2_training1)\n",
    "print()\n",
    "print('R-squared score')\n",
    "print('Testing data:')\n",
    "print('The model performance (before hyperparameter tuning) in testing dataset is ', R2_test1)"
   ]
  },
  {
   "cell_type": "markdown",
   "id": "515b70b1",
   "metadata": {},
   "source": [
    "Based on the above, the training set performed significantly better than the test set signifying that the model is prone to overfitting. \n",
    "\n",
    "In order to address the above, we will perform hyperparameter tuning. "
   ]
  },
  {
   "cell_type": "markdown",
   "id": "d51f4730",
   "metadata": {},
   "source": [
    "## 5.3 Hyperparameter tuning of LSTM"
   ]
  },
  {
   "cell_type": "code",
   "execution_count": null,
   "id": "835714d3",
   "metadata": {},
   "outputs": [],
   "source": [
    "# We build a model with MinMaxScaler and SVR\n",
    "svr_model2 = make_pipeline(scaler, svr)\n",
    "svr_model2"
   ]
  },
  {
   "cell_type": "code",
   "execution_count": null,
   "id": "bc14ccdf",
   "metadata": {},
   "outputs": [],
   "source": [
    "svr_model2.fit(X_train, y_train)"
   ]
  },
  {
   "cell_type": "code",
   "execution_count": null,
   "id": "e9c2c13b",
   "metadata": {},
   "outputs": [],
   "source": [
    "# hyperparameters currently in use by our SVR model\n",
    "svr_model2.get_params()"
   ]
  },
  {
   "cell_type": "markdown",
   "id": "2d05d406",
   "metadata": {},
   "source": [
    "### 5.3.1 RandomizedSearchCV\n",
    "\n",
    "When the dimensionality of the grid is high, the number of computations in Grid Search increases drastically, making it computationally expensive.\n",
    "\n",
    "Randomized Search is given the number of iterations to be computed and hence is computationally less expensive with a similar level of accuracy as Grid Search, making it a better choice when the dimensionality is high.\n",
    "\n",
    "See Marco pg 131. "
   ]
  },
  {
   "cell_type": "code",
   "execution_count": null,
   "id": "26ce26d2",
   "metadata": {},
   "outputs": [],
   "source": [
    "# Use the random grid to search for best hyperparameters\n",
    "from sklearn.model_selection import RandomizedSearchCV\n",
    "\n",
    "# C\n",
    "C = [int(x) for x in np.linspace(start = 1000, stop = 100000, num = 10)]\n",
    "\n",
    "# Epsilon\n",
    "epsilon = [int(x) for x in np.linspace(start = 0.01, stop = 10, num = 10)]\n",
    "\n",
    "# Gamma\n",
    "gamma = [int(x) for x in np.linspace(start = 0.01, stop = 10, num = 10)]\n",
    "\n",
    "# Types of kernel\n",
    "kernel = ['linear', 'rbf']\n",
    "\n",
    "# Create the random grid\n",
    "svr_random_grid = {'svr__C': C,\n",
    "               'svr__epsilon': epsilon,\n",
    "               'svr__gamma': gamma,\n",
    "               'svr__kernel': kernel}\n",
    "\n",
    "print(svr_random_grid)"
   ]
  },
  {
   "cell_type": "code",
   "execution_count": null,
   "id": "853ff58e",
   "metadata": {},
   "outputs": [],
   "source": [
    "# Random search of parameters, using 3 fold cross validation, \n",
    "# search across 100 different combinations, and use all available cores\n",
    "svr_random = RandomizedSearchCV(estimator = svr_model2, param_distributions = svr_random_grid, n_iter = 100, cv = 3, verbose=2, random_state=42, n_jobs = -1)\n",
    "\n",
    "# Fit the random search model\n",
    "svr_random.fit(X_train, y_train)"
   ]
  },
  {
   "cell_type": "code",
   "execution_count": null,
   "id": "d619b685",
   "metadata": {},
   "outputs": [],
   "source": [
    "# We can view the best parameters from fitting the random search\n",
    "svr_random.best_params_"
   ]
  },
  {
   "cell_type": "code",
   "execution_count": null,
   "id": "42f38b32",
   "metadata": {},
   "outputs": [],
   "source": [
    "# We then assign the values of the hyperparameters into our model\n",
    "svr_model2 = svr_random.best_estimator_\n",
    "svr_model2"
   ]
  },
  {
   "cell_type": "code",
   "execution_count": null,
   "id": "dc15e4b5",
   "metadata": {},
   "outputs": [],
   "source": [
    "# Fitting the model after hyperparameter tuning:\n",
    "svr_model2.fit(X_train, y_train)"
   ]
  },
  {
   "cell_type": "markdown",
   "id": "8dcf5fc8",
   "metadata": {},
   "source": [
    "### 5.3.2 Evaluating the performance of the model after hyperparameter tuning "
   ]
  },
  {
   "cell_type": "code",
   "execution_count": null,
   "id": "7d2c0f13",
   "metadata": {},
   "outputs": [],
   "source": [
    "# Prediction in the training dataset using tuned hyperparameter:\n",
    "y_svr_train_predict2 = svr_model2.predict(X_train)\n",
    "\n",
    "# Prediction in the testing dataset using tuned hyperparameter\n",
    "y_svr_test_predict2 = svr_model2.predict(X_test)\n",
    "\n",
    "# Getting the RMSE scores\n",
    "RMSE_training2 = np.sqrt(mean_squared_error(y_train, y_svr_train_predict2))\n",
    "\n",
    "RMSE_test2 =np.sqrt(mean_squared_error(y_test, y_svr_test_predict2))\n",
    "\n",
    "# Getting the MSE scores\n",
    "MSE_training2 = mean_squared_error(y_train, y_svr_train_predict2)\n",
    "\n",
    "MSE_test2 = mean_squared_error(y_test, y_svr_test_predict2)\n",
    "\n",
    "# Getting the R-squared scores\n",
    "from sklearn.metrics import r2_score\n",
    "\n",
    "R2_training2 = r2_score(y_train, y_svr_train_predict2)\n",
    "\n",
    "R2_test2 = r2_score(y_test, y_svr_test_predict2)"
   ]
  },
  {
   "cell_type": "code",
   "execution_count": null,
   "id": "9395be07",
   "metadata": {},
   "outputs": [],
   "source": [
    "print('MSE score')\n",
    "print('Training data:')\n",
    "print('The model performance (after hyperparameter tuning) in training dataset is ', MSE_training2)\n",
    "print()\n",
    "print('MSE score')\n",
    "print('Testing data:')\n",
    "print('The model performance (after hyperparameter tuning) in testing dataset is ', MSE_test2)"
   ]
  },
  {
   "cell_type": "code",
   "execution_count": null,
   "id": "d96e0f8d",
   "metadata": {},
   "outputs": [],
   "source": [
    "print('RMSE score')\n",
    "print('Training data:')\n",
    "improvement_baseline2 = 100*abs(RMSE_training2 - RMSE_naive)/RMSE_naive\n",
    "print('The model performance (after hyperparameter tuning) in training dataset is ', RMSE_training2)\n",
    "print('It has an improvement over baseline of', round(improvement_baseline2, 2), '%.')\n",
    "print()\n",
    "print('RMSE score')\n",
    "print('Testing data:')\n",
    "improvement_baseline4 = 100*abs(RMSE_test2 - RMSE_naive)/RMSE_naive\n",
    "print('The model performance (after hyperparameter tuning) in testing dataset is ', RMSE_test2)\n",
    "print('It has an improvement over baseline of', round(improvement_baseline4, 2), '%.')\n",
    "print()\n",
    "print('R-squared score')\n",
    "print('Training data:')\n",
    "print('The model performance (after hyperparameter tuning) in training dataset is ', R2_training2)\n",
    "print()\n",
    "print('R-squared score')\n",
    "print('Testing data:')\n",
    "print('The model performance (after hyperparameter tuning) in testing dataset is ', R2_test2)"
   ]
  },
  {
   "cell_type": "markdown",
   "id": "7da32f12",
   "metadata": {},
   "source": [
    "# Step 6: Model Evaluation "
   ]
  },
  {
   "cell_type": "markdown",
   "id": "69fdc1c3",
   "metadata": {},
   "source": [
    "#### 6.1 Plotting the predicted values against real values"
   ]
  },
  {
   "cell_type": "code",
   "execution_count": null,
   "id": "3ee57d89",
   "metadata": {},
   "outputs": [],
   "source": [
    "predict_returns3=[]\n",
    "predict_returns3 = list(model.predict(X))"
   ]
  },
  {
   "cell_type": "code",
   "execution_count": null,
   "id": "81d9e65d",
   "metadata": {},
   "outputs": [],
   "source": [
    "predicted_returns3=[]\n",
    "for i in range(len(y)):\n",
    "    predicted_returns3.append((predict_returns3[i][0][0]))"
   ]
  },
  {
   "cell_type": "code",
   "execution_count": null,
   "id": "9ae05311",
   "metadata": {},
   "outputs": [],
   "source": [
    "actual_returns3 = []\n",
    "for i in range(len(y)):\n",
    "    actual_returns3.append((y[i][0][0]))"
   ]
  },
  {
   "cell_type": "code",
   "execution_count": null,
   "id": "15bf9566",
   "metadata": {},
   "outputs": [],
   "source": [
    "performance3 = pd.DataFrame([list(predicted_returns3), list(actual_returns3)])\n",
    "performance3 = performance3.T\n",
    "performance3.columns = ['predicted_returns', 'future_return']\n",
    "# Spread2 = performance2.Actual-performance2.Predicted"
   ]
  },
  {
   "cell_type": "code",
   "execution_count": null,
   "id": "d74a8bf7",
   "metadata": {},
   "outputs": [],
   "source": [
    "performance3.head()"
   ]
  },
  {
   "cell_type": "code",
   "execution_count": 42,
   "id": "664aa919",
   "metadata": {},
   "outputs": [
    {
     "data": {
      "text/plain": [
       "Text(0.5,1,'Comparison between predicted values using Support Vector Machine regressor against real values')"
      ]
     },
     "execution_count": 42,
     "metadata": {},
     "output_type": "execute_result"
    },
    {
     "data": {
      "image/png": "[encoded data removed]",
      "text/plain": [
       "<Figure size 720x720 with 1 Axes>"
      ]
     },
     "metadata": {
      "needs_background": "light"
     },
     "output_type": "display_data"
    }
   ],
   "source": [
    "performance2[['Actual','Predicted']].plot(alpha = 0.5, figsize = (10,10))\n",
    "plt.xlabel('Time')\n",
    "plt.ylabel('future vs predicted returns')\n",
    "plt.title('Comparison between predicted values using Support Vector Machine regressor against real values')"
   ]
  },
  {
   "cell_type": "code",
   "execution_count": null,
   "id": "05025e40",
   "metadata": {
    "scrolled": false
   },
   "outputs": [],
   "source": [
    "performance3.plot.scatter(x = 'future_return', y = 'predicted_returns', figsize = (10,10))\n",
    "plt.title('Comparison between predicted values against real values using SVR')"
   ]
  },
  {
   "cell_type": "markdown",
   "id": "b288ec22",
   "metadata": {},
   "source": [
    "Based on the above, our model actually predicts with relatively good accuracy where the returns is between -0.05 to 0.05. "
   ]
  },
  {
   "cell_type": "markdown",
   "id": "66a067c1",
   "metadata": {},
   "source": [
    "# Signal generation logic\n",
    "\n",
    "If the value of future returns is positive then we buy the stock, else we do not buy the stock. \n",
    "\n",
    "Based on our model, it appears that it is relatively accurate where the returns range from -0.05 (negative returns) and 0.05 (positive returns). Accordingly, we will generate our signals based on the following:\n",
    " * Where the return is above 0 and below 0.05, the returns will be positive and we buy the stock. We will designate a signal of 1. \n",
    " * Where the return is below 0 and above -0.05, the returns will be negative and we don't buy the stock. If we held the stock at the end of previous closing trade day, this is also a signal to sell the stock. We will designate a signal of -1. \n",
    " * In taking a risk-adverse approach, where the values fall outside of our pre-defined range, we will not perform any trade since the model cannot predict with good accuracy whether the returns will be positive or negative. We will also designate a signal of 0."
   ]
  },
  {
   "cell_type": "code",
   "execution_count": null,
   "id": "894d4af6",
   "metadata": {},
   "outputs": [],
   "source": [
    "def returns_to_class(df):\n",
    "    if df.predicted_returns > 0.0 and df.predicted_returns < 0.05:\n",
    "        return 1\n",
    "    elif df.predicted_returns < 0.0 and df.predicted_returns > -0.05:\n",
    "        return -1\n",
    "    else:\n",
    "        return 0\n",
    "\n",
    "df_aapl['Class'] = df_aapl.apply(returns_to_class, axis=1)"
   ]
  },
  {
   "cell_type": "code",
   "execution_count": null,
   "id": "b3b5c695",
   "metadata": {},
   "outputs": [],
   "source": [
    "df_aapl.groupby('Class')['predicted_returns'].count()"
   ]
  },
  {
   "cell_type": "markdown",
   "id": "7d822d25",
   "metadata": {},
   "source": [
    "Once we have defined the different classes for the target variable, we can see their distribution of Returns using the groupby method. As can be observed, out of the total data points majority of them (i.e. 561 data points) belong to '-1' class which signifies negative returns. On the other hand, there are 409 data points belonging to '1', which signifies positive returns. "
   ]
  },
  {
   "cell_type": "code",
   "execution_count": null,
   "id": "82e48627",
   "metadata": {},
   "outputs": [],
   "source": [
    "df_aapl.reset_index('Date', inplace=True)"
   ]
  },
  {
   "cell_type": "code",
   "execution_count": null,
   "id": "a99c8389",
   "metadata": {},
   "outputs": [],
   "source": [
    "signal_list = ['Date','Class', 'predicted_returns']\n",
    "df_signal = df_aapl[signal_list]\n",
    "df_signal"
   ]
  },
  {
   "cell_type": "code",
   "execution_count": null,
   "id": "e3b02186",
   "metadata": {},
   "outputs": [],
   "source": [
    "df_signal.set_index('Date', inplace=True)"
   ]
  },
  {
   "cell_type": "code",
   "execution_count": null,
   "id": "96a61a51",
   "metadata": {},
   "outputs": [],
   "source": [
    "df_signal.Class[-10:].plot()\n",
    "plt.show()"
   ]
  },
  {
   "cell_type": "markdown",
   "id": "62f7d8b3",
   "metadata": {},
   "source": [
    "The above graph shows the signal predicted for last 10 days. "
   ]
  },
  {
   "cell_type": "markdown",
   "id": "fa4215ed",
   "metadata": {},
   "source": [
    "### Sharpe Ratio\n",
    "\n",
    "Sharpe ratio helps to evaluate how good a strategy is. Generally, a strategy with a Sharpe ratio of > 1.5 is considered good.\n",
    "\n",
    "The Sharpe ratio is calculated as follows:\n",
    " * Sharpe ratio  = (average daily strategy returns / standard deviation of the strategy returns) * sqrt(252)\n",
    " * 252 is the number of trading days in a year. We will assume the number to be 252. \n",
    " \n",
    "https://www.investopedia.com/articles/07/sharpe_ratio.asp\n",
    "\n",
    "https://www.investopedia.com/terms/s/sharperatio.asp"
   ]
  },
  {
   "cell_type": "code",
   "execution_count": null,
   "id": "a7fa8295",
   "metadata": {},
   "outputs": [],
   "source": [
    "df_aapl['strategy_returns'] = df_aapl.future_return * df_aapl.Class"
   ]
  },
  {
   "cell_type": "code",
   "execution_count": null,
   "id": "6831faf5",
   "metadata": {},
   "outputs": [],
   "source": [
    "# The below function returns the Sharpe ratio for the excess returns \n",
    "# (Strategy returns - Risk free rate) passed to it.\n",
    "def annualized_sharpe_ratio(returns, N=252):\n",
    "    return np.sqrt(N) * returns.mean() / returns.std()"
   ]
  },
  {
   "cell_type": "markdown",
   "id": "a2ee5944",
   "metadata": {},
   "source": [
    "We calculate the Sharpe ratio for the strategy in train and test dataset. The risk-free rate is assumed to be 5% p.a.\n",
    "\n",
    "https://www.investopedia.com/terms/r/risk-freerate.asp"
   ]
  },
  {
   "cell_type": "code",
   "execution_count": null,
   "id": "c388a362",
   "metadata": {},
   "outputs": [],
   "source": [
    "# Computing Sharpe ratio\n",
    "\n",
    "df_aapl['excess_daily_strategy_return'] = df_aapl.strategy_returns - 0.05/252\n",
    "\n",
    "# Train dataset\n",
    "sharpe_train = annualized_sharpe_ratio(\n",
    "    df_aapl.excess_daily_strategy_return.iloc[:split])\n",
    "\n",
    "# Test dataset\n",
    "sharpe_test = annualized_sharpe_ratio(\n",
    "    df_aapl.excess_daily_strategy_return.iloc[split:])"
   ]
  },
  {
   "cell_type": "markdown",
   "id": "6b0a4789",
   "metadata": {},
   "source": [
    "# Visualising cumulative returns \n",
    "\n",
    "#### Cumulative returns in train set"
   ]
  },
  {
   "cell_type": "code",
   "execution_count": null,
   "id": "f5c793dd",
   "metadata": {},
   "outputs": [],
   "source": [
    "# Plot the cumulative returns in train dataset\n",
    "df_aapl.strategy_returns[:split].cumsum().plot()\n",
    "\n",
    "# Show the legend\n",
    "plt.legend()\n",
    "\n",
    "# Show the graph\n",
    "plt.show()"
   ]
  },
  {
   "cell_type": "markdown",
   "id": "07e085a4",
   "metadata": {},
   "source": [
    "#### Cumulative returns in test set"
   ]
  },
  {
   "cell_type": "code",
   "execution_count": null,
   "id": "c3c0978a",
   "metadata": {},
   "outputs": [],
   "source": [
    "# Plot the cumulative returns in test dataset\n",
    "df_aapl.strategy_returns[split:].cumsum().plot()\n",
    "\n",
    "# Show the legend\n",
    "plt.legend()\n",
    "\n",
    "# Show the graph\n",
    "plt.show()"
   ]
  },
  {
   "cell_type": "code",
   "execution_count": null,
   "id": "bd89f66f",
   "metadata": {},
   "outputs": [],
   "source": [
    "# Tabulate the performance in train and test dataset\n",
    "from tabulate import tabulate\n",
    "print(tabulate(\n",
    "    [\n",
    "        ['Sharpe Ratio', sharpe_train, sharpe_test],\n",
    "    ],\n",
    "    headers=['Train set', 'Test Set'],\n",
    "    tablefmt='orgtbl'))"
   ]
  }
 ],
 "metadata": {
  "kernelspec": {
   "display_name": "Python 3",
   "language": "python",
   "name": "python3"
  },
  "language_info": {
   "codemirror_mode": {
    "name": "ipython",
    "version": 3
   },
   "file_extension": ".py",
   "mimetype": "text/x-python",
   "name": "python",
   "nbconvert_exporter": "python",
   "pygments_lexer": "ipython3",
   "version": "3.6.8"
  }
 },
 "nbformat": 4,
 "nbformat_minor": 5
}
