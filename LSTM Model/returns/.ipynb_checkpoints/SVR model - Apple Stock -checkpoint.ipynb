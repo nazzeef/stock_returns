{
 "cells": [
  {
   "cell_type": "markdown",
   "id": "98c86510",
   "metadata": {},
   "source": [
    "## Prepared by:\n",
    "\n",
    "Nazzeef Nazri\n",
    "\n",
    "a1621410"
   ]
  },
  {
   "cell_type": "markdown",
   "id": "62805bf6",
   "metadata": {},
   "source": [
    "# Assessment 3 - Case Study Report\n",
    "\n",
    "This notebook will demonstrate the application of a supervised machine learning model using the historical Apple stock data extracted from Yahoo Finance. \n",
    "\n",
    "The machine learning pipeline has six main steps:\n",
    "\n",
    " 1. Problem definition where you define your problem;\n",
    " 2. Data ingestion where you collect your data;\n",
    " 3. Data preparation where you clean your data;\n",
    " 4. Data segregation where you separate your data;\n",
    " 5. Model training where you use the machine learning algorithms;\n",
    " 6. Candidate model evaluation where you evaluate the models you have used."
   ]
  },
  {
   "cell_type": "markdown",
   "id": "e087c0b9",
   "metadata": {},
   "source": [
    "# Step 1: Problem Statement\n",
    "\n",
    "The problem statement for our supervised learning models is to predict the next day’s trend of the daily returns of a stock. In particular, whether the future trend is positive or negative.  \n",
    "\n",
    "Furthermore, we also would like to ascertain which technical indicator is best at predicting the daily returns of a stock. \n",
    "\n",
    "Since different technical indicators perform differently on different types of stocks as implied in this article - https://towardsdatascience.com/machine-learning-for-day-trading-27c08274df54\n",
    "\n",
    "Use the To Explain or To Predict? article here from week 2 as part of intro. "
   ]
  },
  {
   "cell_type": "markdown",
   "id": "7e92368a",
   "metadata": {},
   "source": [
    "# Step 2: Data ingestion\n",
    "\n",
    "We collected the historical Apple Stock data from Yahoo Finance with the dates ranging from 1st April 2016 to 1st April 2021 (5 years historical data)\n",
    "\n",
    "The Apple stock is synonymously referred in the stock exchange with the ticker symbol 'AAPL'. \n",
    "\n",
    "The steps for collecting the data using the yfinance package is found in the link below:\n",
    "https://towardsdatascience.com/historical-stock-price-data-in-python-a0b6dc826836\n",
    "\n",
    "The **Apple Stock dataset** has 7 variables and 1321 rows of stock data. The data consists of Open-High-Low-Close prices and Volume data. They are as follows: \n",
    "* `Date`: The date the stock data is published\n",
    "* `Open`: The price that the AAPL stock started trading for the day\n",
    "* `High`: The maximum AAPL stock price at a given time period\n",
    "* `Low`: The minimum AAPL stock price at a given time period\n",
    "* `Close`: The price that the AAPL stock ended trading for the day\n",
    "* `Adj Close`: The price that the AAPL stock ended trading for the day adjusted for corporate actions such as dividends, stock splits, and new share issuance.\n",
    "* `Volume`: The total amount of trading activity for the AAPL stock. \n",
    "\n",
    "OHLC is a standardized format in which historical data is provided by data vendors for backtesting and trading. OHLC stands for Open, Low, High and Close prices in a particular timeframe such as an hour or a day. In addition, some data sources also provide adjusted prices. \n",
    "\n",
    "The predictor and target variables will be created using this raw data.\n",
    "\n",
    "https://analyzingalpha.com/open-high-low-close-stocks#:~:text=In%20stock%20trading%2C%20the%20high,total%20amount%20of%20trading%20activity"
   ]
  },
  {
   "cell_type": "markdown",
   "id": "61295898",
   "metadata": {},
   "source": [
    "#### 2.1 Collecting the data:"
   ]
  },
  {
   "cell_type": "code",
   "execution_count": 1,
   "id": "bd190002",
   "metadata": {},
   "outputs": [],
   "source": [
    "# For data manipulation\n",
    "import pandas as pd\n",
    "import numpy as np\n",
    "\n",
    "# To extract historical stock data \n",
    "import yfinance as yf\n",
    "\n",
    "# For producing technical indicators\n",
    "import talib as ta\n",
    "\n",
    "# For plotting graphs\n",
    "import matplotlib.pyplot as plt \n",
    "import matplotlib as mpl\n",
    "\n",
    "# To access datetime\n",
    "from datetime import datetime    \n",
    "%matplotlib inline\n",
    "\n",
    "# To ignore the warnings\n",
    "import warnings                   \n",
    "warnings.filterwarnings(\"ignore\")"
   ]
  },
  {
   "cell_type": "code",
   "execution_count": 2,
   "id": "756a8ed8",
   "metadata": {},
   "outputs": [
    {
     "data": {
      "text/html": [
       "<div>\n",
       "<style scoped>\n",
       "    .dataframe tbody tr th:only-of-type {\n",
       "        vertical-align: middle;\n",
       "    }\n",
       "\n",
       "    .dataframe tbody tr th {\n",
       "        vertical-align: top;\n",
       "    }\n",
       "\n",
       "    .dataframe thead th {\n",
       "        text-align: right;\n",
       "    }\n",
       "</style>\n",
       "<table border=\"1\" class=\"dataframe\">\n",
       "  <thead>\n",
       "    <tr style=\"text-align: right;\">\n",
       "      <th></th>\n",
       "      <th>Open</th>\n",
       "      <th>High</th>\n",
       "      <th>Low</th>\n",
       "      <th>Close</th>\n",
       "      <th>Adj Close</th>\n",
       "      <th>Volume</th>\n",
       "      <th>year</th>\n",
       "      <th>month</th>\n",
       "      <th>Close_FD</th>\n",
       "      <th>High_FD</th>\n",
       "      <th>...</th>\n",
       "      <th>upperband</th>\n",
       "      <th>middleband</th>\n",
       "      <th>lowerband</th>\n",
       "      <th>RSI_FD</th>\n",
       "      <th>ret1</th>\n",
       "      <th>std5</th>\n",
       "      <th>std10</th>\n",
       "      <th>std20</th>\n",
       "      <th>std40</th>\n",
       "      <th>future_return</th>\n",
       "    </tr>\n",
       "    <tr>\n",
       "      <th>Date</th>\n",
       "      <th></th>\n",
       "      <th></th>\n",
       "      <th></th>\n",
       "      <th></th>\n",
       "      <th></th>\n",
       "      <th></th>\n",
       "      <th></th>\n",
       "      <th></th>\n",
       "      <th></th>\n",
       "      <th></th>\n",
       "      <th></th>\n",
       "      <th></th>\n",
       "      <th></th>\n",
       "      <th></th>\n",
       "      <th></th>\n",
       "      <th></th>\n",
       "      <th></th>\n",
       "      <th></th>\n",
       "      <th></th>\n",
       "      <th></th>\n",
       "      <th></th>\n",
       "    </tr>\n",
       "  </thead>\n",
       "  <tbody>\n",
       "    <tr>\n",
       "      <th>2021-03-29</th>\n",
       "      <td>121.650002</td>\n",
       "      <td>122.580002</td>\n",
       "      <td>120.730003</td>\n",
       "      <td>121.389999</td>\n",
       "      <td>121.389999</td>\n",
       "      <td>80819200</td>\n",
       "      <td>2021</td>\n",
       "      <td>Mar</td>\n",
       "      <td>0.613622</td>\n",
       "      <td>0.618564</td>\n",
       "      <td>...</td>\n",
       "      <td>0.624029</td>\n",
       "      <td>0.608350</td>\n",
       "      <td>0.592671</td>\n",
       "      <td>50.341088</td>\n",
       "      <td>-0.001268</td>\n",
       "      <td>0.026046</td>\n",
       "      <td>0.033991</td>\n",
       "      <td>0.047649</td>\n",
       "      <td>0.042238</td>\n",
       "      <td>-0.021684</td>\n",
       "    </tr>\n",
       "    <tr>\n",
       "      <th>2021-03-30</th>\n",
       "      <td>120.110001</td>\n",
       "      <td>120.400002</td>\n",
       "      <td>118.860001</td>\n",
       "      <td>119.900002</td>\n",
       "      <td>119.900002</td>\n",
       "      <td>85671900</td>\n",
       "      <td>2021</td>\n",
       "      <td>Mar</td>\n",
       "      <td>0.600316</td>\n",
       "      <td>0.596327</td>\n",
       "      <td>...</td>\n",
       "      <td>0.622586</td>\n",
       "      <td>0.606138</td>\n",
       "      <td>0.589689</td>\n",
       "      <td>47.840760</td>\n",
       "      <td>-0.021684</td>\n",
       "      <td>0.023034</td>\n",
       "      <td>0.034493</td>\n",
       "      <td>0.044672</td>\n",
       "      <td>0.040817</td>\n",
       "      <td>0.042744</td>\n",
       "    </tr>\n",
       "    <tr>\n",
       "      <th>2021-03-31</th>\n",
       "      <td>121.650002</td>\n",
       "      <td>123.519997</td>\n",
       "      <td>121.150002</td>\n",
       "      <td>122.150002</td>\n",
       "      <td>122.150002</td>\n",
       "      <td>118323800</td>\n",
       "      <td>2021</td>\n",
       "      <td>Mar</td>\n",
       "      <td>0.625976</td>\n",
       "      <td>0.632107</td>\n",
       "      <td>...</td>\n",
       "      <td>0.629333</td>\n",
       "      <td>0.612715</td>\n",
       "      <td>0.596098</td>\n",
       "      <td>52.717916</td>\n",
       "      <td>0.042744</td>\n",
       "      <td>0.024987</td>\n",
       "      <td>0.036543</td>\n",
       "      <td>0.045121</td>\n",
       "      <td>0.041375</td>\n",
       "      <td>-0.004713</td>\n",
       "    </tr>\n",
       "  </tbody>\n",
       "</table>\n",
       "<p>3 rows × 27 columns</p>\n",
       "</div>"
      ],
      "text/plain": [
       "                  Open        High         Low       Close   Adj Close  \\\n",
       "Date                                                                     \n",
       "2021-03-29  121.650002  122.580002  120.730003  121.389999  121.389999   \n",
       "2021-03-30  120.110001  120.400002  118.860001  119.900002  119.900002   \n",
       "2021-03-31  121.650002  123.519997  121.150002  122.150002  122.150002   \n",
       "\n",
       "               Volume  year month  Close_FD   High_FD  ...  upperband  \\\n",
       "Date                                                   ...              \n",
       "2021-03-29   80819200  2021   Mar  0.613622  0.618564  ...   0.624029   \n",
       "2021-03-30   85671900  2021   Mar  0.600316  0.596327  ...   0.622586   \n",
       "2021-03-31  118323800  2021   Mar  0.625976  0.632107  ...   0.629333   \n",
       "\n",
       "            middleband  lowerband     RSI_FD      ret1      std5     std10  \\\n",
       "Date                                                                         \n",
       "2021-03-29    0.608350   0.592671  50.341088 -0.001268  0.026046  0.033991   \n",
       "2021-03-30    0.606138   0.589689  47.840760 -0.021684  0.023034  0.034493   \n",
       "2021-03-31    0.612715   0.596098  52.717916  0.042744  0.024987  0.036543   \n",
       "\n",
       "               std20     std40  future_return  \n",
       "Date                                           \n",
       "2021-03-29  0.047649  0.042238      -0.021684  \n",
       "2021-03-30  0.044672  0.040817       0.042744  \n",
       "2021-03-31  0.045121  0.041375      -0.004713  \n",
       "\n",
       "[3 rows x 27 columns]"
      ]
     },
     "execution_count": 2,
     "metadata": {},
     "output_type": "execute_result"
    }
   ],
   "source": [
    "df_aapl = pd.read_csv('AAPL.csv', index_col=0)\n",
    "df_aapl.index = pd.to_datetime(df_aapl.index)\n",
    "df_aapl.tail(3)"
   ]
  },
  {
   "cell_type": "markdown",
   "id": "5a57e097",
   "metadata": {},
   "source": [
    "# Step 3: Data Preparation"
   ]
  },
  {
   "cell_type": "markdown",
   "id": "25334733",
   "metadata": {},
   "source": [
    "## 3.1 Store the target and input features that will feed the models\n",
    "\n",
    "#### 3.1.1 Storing input features into X"
   ]
  },
  {
   "cell_type": "code",
   "execution_count": 3,
   "id": "28ee8b5e",
   "metadata": {},
   "outputs": [
    {
     "data": {
      "text/html": [
       "<div>\n",
       "<style scoped>\n",
       "    .dataframe tbody tr th:only-of-type {\n",
       "        vertical-align: middle;\n",
       "    }\n",
       "\n",
       "    .dataframe tbody tr th {\n",
       "        vertical-align: top;\n",
       "    }\n",
       "\n",
       "    .dataframe thead th {\n",
       "        text-align: right;\n",
       "    }\n",
       "</style>\n",
       "<table border=\"1\" class=\"dataframe\">\n",
       "  <thead>\n",
       "    <tr style=\"text-align: right;\">\n",
       "      <th></th>\n",
       "      <th>ADX_FD</th>\n",
       "      <th>SMA_FD</th>\n",
       "      <th>macd</th>\n",
       "      <th>macdsignal</th>\n",
       "      <th>macdhist</th>\n",
       "      <th>upperband</th>\n",
       "      <th>middleband</th>\n",
       "      <th>lowerband</th>\n",
       "      <th>RSI_FD</th>\n",
       "      <th>Close_FD</th>\n",
       "      <th>Volume</th>\n",
       "      <th>std5</th>\n",
       "      <th>std10</th>\n",
       "      <th>std20</th>\n",
       "      <th>std40</th>\n",
       "    </tr>\n",
       "    <tr>\n",
       "      <th>Date</th>\n",
       "      <th></th>\n",
       "      <th></th>\n",
       "      <th></th>\n",
       "      <th></th>\n",
       "      <th></th>\n",
       "      <th></th>\n",
       "      <th></th>\n",
       "      <th></th>\n",
       "      <th></th>\n",
       "      <th></th>\n",
       "      <th></th>\n",
       "      <th></th>\n",
       "      <th></th>\n",
       "      <th></th>\n",
       "      <th></th>\n",
       "    </tr>\n",
       "  </thead>\n",
       "  <tbody>\n",
       "    <tr>\n",
       "      <th>2016-09-06</th>\n",
       "      <td>10.580275</td>\n",
       "      <td>0.403045</td>\n",
       "      <td>0.002523</td>\n",
       "      <td>0.002877</td>\n",
       "      <td>-0.000354</td>\n",
       "      <td>0.410767</td>\n",
       "      <td>0.403261</td>\n",
       "      <td>0.395755</td>\n",
       "      <td>50.969145</td>\n",
       "      <td>0.408346</td>\n",
       "      <td>106405600</td>\n",
       "      <td>0.013168</td>\n",
       "      <td>0.018303</td>\n",
       "      <td>0.035416</td>\n",
       "      <td>0.040317</td>\n",
       "    </tr>\n",
       "    <tr>\n",
       "      <th>2016-10-06</th>\n",
       "      <td>10.809941</td>\n",
       "      <td>0.404521</td>\n",
       "      <td>0.001771</td>\n",
       "      <td>0.002656</td>\n",
       "      <td>-0.000884</td>\n",
       "      <td>0.411479</td>\n",
       "      <td>0.402950</td>\n",
       "      <td>0.394420</td>\n",
       "      <td>46.102008</td>\n",
       "      <td>0.395745</td>\n",
       "      <td>126851600</td>\n",
       "      <td>0.020629</td>\n",
       "      <td>0.020060</td>\n",
       "      <td>0.034292</td>\n",
       "      <td>0.040462</td>\n",
       "    </tr>\n",
       "    <tr>\n",
       "      <th>2016-06-13</th>\n",
       "      <td>10.246592</td>\n",
       "      <td>0.404583</td>\n",
       "      <td>0.000274</td>\n",
       "      <td>0.002180</td>\n",
       "      <td>-0.001905</td>\n",
       "      <td>0.415526</td>\n",
       "      <td>0.398940</td>\n",
       "      <td>0.382354</td>\n",
       "      <td>42.262212</td>\n",
       "      <td>0.384613</td>\n",
       "      <td>152082000</td>\n",
       "      <td>0.020359</td>\n",
       "      <td>0.020752</td>\n",
       "      <td>0.033499</td>\n",
       "      <td>0.039786</td>\n",
       "    </tr>\n",
       "    <tr>\n",
       "      <th>2016-06-14</th>\n",
       "      <td>9.723483</td>\n",
       "      <td>0.403251</td>\n",
       "      <td>-0.000040</td>\n",
       "      <td>0.001736</td>\n",
       "      <td>-0.001775</td>\n",
       "      <td>0.412627</td>\n",
       "      <td>0.397051</td>\n",
       "      <td>0.381474</td>\n",
       "      <td>46.886776</td>\n",
       "      <td>0.395419</td>\n",
       "      <td>127727600</td>\n",
       "      <td>0.026663</td>\n",
       "      <td>0.022793</td>\n",
       "      <td>0.024898</td>\n",
       "      <td>0.039781</td>\n",
       "    </tr>\n",
       "    <tr>\n",
       "      <th>2016-06-15</th>\n",
       "      <td>9.425555</td>\n",
       "      <td>0.403046</td>\n",
       "      <td>-0.000456</td>\n",
       "      <td>0.001297</td>\n",
       "      <td>-0.001754</td>\n",
       "      <td>0.410673</td>\n",
       "      <td>0.395479</td>\n",
       "      <td>0.380286</td>\n",
       "      <td>46.097859</td>\n",
       "      <td>0.393275</td>\n",
       "      <td>117780800</td>\n",
       "      <td>0.026546</td>\n",
       "      <td>0.020267</td>\n",
       "      <td>0.021232</td>\n",
       "      <td>0.039612</td>\n",
       "    </tr>\n",
       "  </tbody>\n",
       "</table>\n",
       "</div>"
      ],
      "text/plain": [
       "               ADX_FD    SMA_FD      macd  macdsignal  macdhist  upperband  \\\n",
       "Date                                                                         \n",
       "2016-09-06  10.580275  0.403045  0.002523    0.002877 -0.000354   0.410767   \n",
       "2016-10-06  10.809941  0.404521  0.001771    0.002656 -0.000884   0.411479   \n",
       "2016-06-13  10.246592  0.404583  0.000274    0.002180 -0.001905   0.415526   \n",
       "2016-06-14   9.723483  0.403251 -0.000040    0.001736 -0.001775   0.412627   \n",
       "2016-06-15   9.425555  0.403046 -0.000456    0.001297 -0.001754   0.410673   \n",
       "\n",
       "            middleband  lowerband     RSI_FD  Close_FD     Volume      std5  \\\n",
       "Date                                                                          \n",
       "2016-09-06    0.403261   0.395755  50.969145  0.408346  106405600  0.013168   \n",
       "2016-10-06    0.402950   0.394420  46.102008  0.395745  126851600  0.020629   \n",
       "2016-06-13    0.398940   0.382354  42.262212  0.384613  152082000  0.020359   \n",
       "2016-06-14    0.397051   0.381474  46.886776  0.395419  127727600  0.026663   \n",
       "2016-06-15    0.395479   0.380286  46.097859  0.393275  117780800  0.026546   \n",
       "\n",
       "               std10     std20     std40  \n",
       "Date                                      \n",
       "2016-09-06  0.018303  0.035416  0.040317  \n",
       "2016-10-06  0.020060  0.034292  0.040462  \n",
       "2016-06-13  0.020752  0.033499  0.039786  \n",
       "2016-06-14  0.022793  0.024898  0.039781  \n",
       "2016-06-15  0.020267  0.021232  0.039612  "
      ]
     },
     "execution_count": 3,
     "metadata": {},
     "output_type": "execute_result"
    }
   ],
   "source": [
    "predictor_list = ['ADX_FD', 'SMA_FD', 'macd', 'macdsignal', 'macdhist', 'upperband', 'middleband', 'lowerband', 'RSI_FD', 'Close_FD',\n",
    "'Volume', 'std5', 'std10', 'std20', 'std40']\n",
    "\n",
    "X = df_aapl[predictor_list]\n",
    "X.head()"
   ]
  },
  {
   "cell_type": "markdown",
   "id": "2ba355eb",
   "metadata": {},
   "source": [
    "#### 3.1.2 Storing target variable into y"
   ]
  },
  {
   "cell_type": "code",
   "execution_count": 4,
   "id": "6631a1c7",
   "metadata": {
    "scrolled": true
   },
   "outputs": [
    {
     "data": {
      "text/html": [
       "<div>\n",
       "<style scoped>\n",
       "    .dataframe tbody tr th:only-of-type {\n",
       "        vertical-align: middle;\n",
       "    }\n",
       "\n",
       "    .dataframe tbody tr th {\n",
       "        vertical-align: top;\n",
       "    }\n",
       "\n",
       "    .dataframe thead th {\n",
       "        text-align: right;\n",
       "    }\n",
       "</style>\n",
       "<table border=\"1\" class=\"dataframe\">\n",
       "  <thead>\n",
       "    <tr style=\"text-align: right;\">\n",
       "      <th></th>\n",
       "      <th>future_return</th>\n",
       "    </tr>\n",
       "    <tr>\n",
       "      <th>Date</th>\n",
       "      <th></th>\n",
       "    </tr>\n",
       "  </thead>\n",
       "  <tbody>\n",
       "    <tr>\n",
       "      <th>2016-09-06</th>\n",
       "      <td>-0.030858</td>\n",
       "    </tr>\n",
       "    <tr>\n",
       "      <th>2016-10-06</th>\n",
       "      <td>-0.028131</td>\n",
       "    </tr>\n",
       "    <tr>\n",
       "      <th>2016-06-13</th>\n",
       "      <td>0.028097</td>\n",
       "    </tr>\n",
       "    <tr>\n",
       "      <th>2016-06-14</th>\n",
       "      <td>-0.005422</td>\n",
       "    </tr>\n",
       "    <tr>\n",
       "      <th>2016-06-15</th>\n",
       "      <td>0.017521</td>\n",
       "    </tr>\n",
       "  </tbody>\n",
       "</table>\n",
       "</div>"
      ],
      "text/plain": [
       "            future_return\n",
       "Date                     \n",
       "2016-09-06      -0.030858\n",
       "2016-10-06      -0.028131\n",
       "2016-06-13       0.028097\n",
       "2016-06-14      -0.005422\n",
       "2016-06-15       0.017521"
      ]
     },
     "execution_count": 4,
     "metadata": {},
     "output_type": "execute_result"
    }
   ],
   "source": [
    "target_list = ['future_return']\n",
    "y = df_aapl[target_list]\n",
    "y.head()"
   ]
  },
  {
   "cell_type": "markdown",
   "id": "672a0a1b",
   "metadata": {},
   "source": [
    "# Step 4: Data Segregation\n",
    "\n",
    "Before we build our models, we need to split the data set into train and test data. Our models will use the train data to learn the properties of data and the test data to estimate the model’s accuracy of the predictions.\n",
    "\n",
    "We have training data in the X_train and y_train for creating the classification tree model and a X_test and y_test to verify the model on unseen data.\n",
    "\n",
    "We will split the dataset into two parts, first 80% of the dataset will use to create the model and the remaining 20% will be used as a test dataset.\n",
    "\n",
    "The size of the test set is typically about 20% of the total sample. \n",
    "https://otexts.com/fpp3/accuracy.html"
   ]
  },
  {
   "cell_type": "code",
   "execution_count": 5,
   "id": "242b0fbd",
   "metadata": {},
   "outputs": [
    {
     "name": "stdout",
     "output_type": "stream",
     "text": [
      "(968, 15) (968, 1)\n",
      "(243, 15) (243, 1)\n"
     ]
    }
   ],
   "source": [
    "split_percentage = 0.8\n",
    "split = int(split_percentage*len(X))\n",
    "# Train data set\n",
    "X_train = X[:split]\n",
    "y_train = y[:split]\n",
    "# Test data set\n",
    "X_test = X[split:]\n",
    "y_test = y[split:]\n",
    "\n",
    "print(X_train.shape, y_train.shape)\n",
    "print(X_test.shape, y_test.shape)"
   ]
  },
  {
   "cell_type": "markdown",
   "id": "e4ae379c",
   "metadata": {},
   "source": [
    "# Step 5: Model training\n",
    "\n",
    "We use Random Forest - Feature Importance to explain the predictive power of different technical indicators on the Apple Stock.\n",
    "\n",
    "We then use SVR as well as LSTM.\n",
    "\n",
    "Based on performance of our models, technical indicators alone is not enough, we also need other relevant information such as sentiment, etc... \n",
    "\n",
    "Deep learning\n",
    " * Reinforced learning using neural network\n",
    " * LSTM\n",
    " * NLP\n",
    " \n",
    "## 5.1 Establishing a Naive baseline"
   ]
  },
  {
   "cell_type": "code",
   "execution_count": 6,
   "id": "8c2877f3",
   "metadata": {
    "scrolled": true
   },
   "outputs": [
    {
     "name": "stdout",
     "output_type": "stream",
     "text": [
      "MSE: 0.0020743768236953478\n",
      "RMSE: 0.045545327133476025\n"
     ]
    }
   ],
   "source": [
    "baseline = np.mean(y_train)\n",
    "\n",
    "#Get an array with baseline with the size of the testing dataset \n",
    "y_predicted_naive = np.repeat(baseline, len(y_test))\n",
    "\n",
    "# import the metric \n",
    "from sklearn.metrics import mean_squared_error\n",
    "\n",
    "#y_test are the true values of y \n",
    "MSE_naive = mean_squared_error(y_test, y_predicted_naive)\n",
    "RMSE_naive = np.sqrt(MSE_naive)\n",
    "\n",
    "print('MSE:', MSE_naive)\n",
    "print('RMSE:', RMSE_naive)"
   ]
  },
  {
   "cell_type": "code",
   "execution_count": 7,
   "id": "30f3e60e",
   "metadata": {},
   "outputs": [
    {
     "name": "stdout",
     "output_type": "stream",
     "text": [
      "Baseline:\n",
      "The naive RMSE baseline is  0.045545327133476025\n"
     ]
    }
   ],
   "source": [
    "print('Baseline:')\n",
    "print('The naive RMSE baseline is ', RMSE_naive)"
   ]
  },
  {
   "cell_type": "markdown",
   "id": "0146f1e6",
   "metadata": {},
   "source": [
    "## 5.2 Fitting the model using Support Vector Machine Regressor\n",
    "\n",
    "SVM is affected by the range in the variables. This is because it uses distances between the data points to determine their similarity. Furthermore, SVR with RBF kernel assumes that all the variables are centred around zero and variance is of the same order (Bhandari 2020). \n",
    "\n",
    "Accordingly, we will apply the min-max transformation in order to transform the values of the variables to fall within the bounded intervals (min and max). "
   ]
  },
  {
   "cell_type": "code",
   "execution_count": 8,
   "id": "f063146d",
   "metadata": {},
   "outputs": [],
   "source": [
    "# Normalisation \n",
    "from sklearn.preprocessing import MinMaxScaler\n",
    "scaler = MinMaxScaler()"
   ]
  },
  {
   "cell_type": "code",
   "execution_count": 9,
   "id": "371141cc",
   "metadata": {},
   "outputs": [
    {
     "data": {
      "text/plain": [
       "Pipeline(steps=[('minmaxscaler', MinMaxScaler()), ('svr', SVR())])"
      ]
     },
     "execution_count": 9,
     "metadata": {},
     "output_type": "execute_result"
    }
   ],
   "source": [
    "# Importing SVR\n",
    "from sklearn.svm import SVR\n",
    "# Making a pipeline\n",
    "from sklearn.pipeline import make_pipeline\n",
    "\n",
    "svr = SVR()\n",
    "\n",
    "# We build a model with MinMaxScaler and SVR\n",
    "svr_model1 = make_pipeline(scaler, svr)\n",
    "svr_model1"
   ]
  },
  {
   "cell_type": "code",
   "execution_count": 10,
   "id": "0b8857c7",
   "metadata": {},
   "outputs": [
    {
     "data": {
      "text/plain": [
       "Pipeline(steps=[('minmaxscaler', MinMaxScaler()), ('svr', SVR())])"
      ]
     },
     "execution_count": 10,
     "metadata": {},
     "output_type": "execute_result"
    }
   ],
   "source": [
    "# Fit the SVR model\n",
    "svr_model1.fit(X_train, y_train)"
   ]
  },
  {
   "cell_type": "code",
   "execution_count": 11,
   "id": "bfe92d81",
   "metadata": {},
   "outputs": [],
   "source": [
    "#Prediction in the training dataset\n",
    "y_svr_train_predict1 = svr_model1.predict(X_train)\n",
    "\n",
    "# Prediction in the testing dataset \n",
    "y_svr_test_predict1 = svr_model1.predict(X_test) "
   ]
  },
  {
   "cell_type": "markdown",
   "id": "3ac9e0b6",
   "metadata": {},
   "source": [
    "#### 5.2.1 Evaluating the performance of the model prior to Hyperparameter Tuning "
   ]
  },
  {
   "cell_type": "code",
   "execution_count": 12,
   "id": "74e07397",
   "metadata": {},
   "outputs": [],
   "source": [
    "# Getting the RMSE scores\n",
    "RMSE_training1 = np.sqrt(mean_squared_error(y_train, y_svr_train_predict1))\n",
    "\n",
    "RMSE_test1 =np.sqrt(mean_squared_error(y_test, y_svr_test_predict1))\n",
    "\n",
    "# Getting the MSE scores\n",
    "MSE_training1 = mean_squared_error(y_train, y_svr_train_predict1)\n",
    "\n",
    "MSE_test1 = mean_squared_error(y_test, y_svr_test_predict1)\n",
    "\n",
    "# Getting the R-squared scores\n",
    "from sklearn.metrics import r2_score\n",
    "\n",
    "R2_training1 = r2_score(y_train, y_svr_train_predict1)\n",
    "\n",
    "R2_test1 = r2_score(y_test, y_svr_test_predict1)"
   ]
  },
  {
   "cell_type": "code",
   "execution_count": 13,
   "id": "48889dd9",
   "metadata": {},
   "outputs": [
    {
     "name": "stdout",
     "output_type": "stream",
     "text": [
      "MSE score\n",
      "Training data:\n",
      "The model performance (before hyperparameter tuning) in training dataset is  0.0017607280143257555\n",
      "\n",
      "MSE score\n",
      "Testing data:\n",
      "The model performance (before hyperparameter tuning) in testing dataset is  0.003221195657160044\n"
     ]
    }
   ],
   "source": [
    "print('MSE score')\n",
    "print('Training data:')\n",
    "print('The model performance (before hyperparameter tuning) in training dataset is ', MSE_training1)\n",
    "print()\n",
    "print('MSE score')\n",
    "print('Testing data:')\n",
    "print('The model performance (before hyperparameter tuning) in testing dataset is ', MSE_test1)"
   ]
  },
  {
   "cell_type": "code",
   "execution_count": 14,
   "id": "1e751829",
   "metadata": {},
   "outputs": [
    {
     "name": "stdout",
     "output_type": "stream",
     "text": [
      "RMSE score\n",
      "Training data:\n",
      "The model performance (before hyperparameter tuning) in training dataset is  0.04196102971002685\n",
      "It has an improvement over baseline of 7.87 %.\n",
      "\n",
      "RMSE score\n",
      "Testing data:\n",
      "The model performance (before hyperparameter tuning) in testing dataset is  0.05675557820302815\n",
      "It has an improvement over baseline of 24.61 %.\n",
      "\n",
      "R-squared score\n",
      "Training data:\n",
      "The model performance (before hyperparameter tuning) in training dataset is  0.21146677512800482\n",
      "\n",
      "R-squared score\n",
      "Testing data:\n",
      "The model performance (before hyperparameter tuning) in testing dataset is  -0.5528578527870651\n"
     ]
    }
   ],
   "source": [
    "print('RMSE score')\n",
    "print('Training data:')\n",
    "improvement_baseline1 = 100*abs(RMSE_training1 - RMSE_naive)/RMSE_naive\n",
    "print('The model performance (before hyperparameter tuning) in training dataset is ', RMSE_training1)\n",
    "print('It has an improvement over baseline of', round(improvement_baseline1, 2), '%.')\n",
    "print()\n",
    "print('RMSE score')\n",
    "print('Testing data:')\n",
    "improvement_baseline3 = 100*abs(RMSE_test1 - RMSE_naive)/RMSE_naive\n",
    "print('The model performance (before hyperparameter tuning) in testing dataset is ', RMSE_test1)\n",
    "print('It has an improvement over baseline of', round(improvement_baseline3, 2), '%.')\n",
    "print()\n",
    "print('R-squared score')\n",
    "print('Training data:')\n",
    "print('The model performance (before hyperparameter tuning) in training dataset is ', R2_training1)\n",
    "print()\n",
    "print('R-squared score')\n",
    "print('Testing data:')\n",
    "print('The model performance (before hyperparameter tuning) in testing dataset is ', R2_test1)"
   ]
  },
  {
   "cell_type": "markdown",
   "id": "515b70b1",
   "metadata": {},
   "source": [
    "Based on the above, the training set performed significantly better than the test set signifying that the model is prone to overfitting. \n",
    "\n",
    "In order to address the above, we will perform hyperparameter tuning. "
   ]
  },
  {
   "cell_type": "markdown",
   "id": "d51f4730",
   "metadata": {},
   "source": [
    "## 5.3 Hyperparameter tuning of Support Vector Machine Regressor"
   ]
  },
  {
   "cell_type": "code",
   "execution_count": 15,
   "id": "835714d3",
   "metadata": {},
   "outputs": [
    {
     "data": {
      "text/plain": [
       "Pipeline(steps=[('minmaxscaler', MinMaxScaler()), ('svr', SVR())])"
      ]
     },
     "execution_count": 15,
     "metadata": {},
     "output_type": "execute_result"
    }
   ],
   "source": [
    "# We build a model with MinMaxScaler and SVR\n",
    "svr_model2 = make_pipeline(scaler, svr)\n",
    "svr_model2"
   ]
  },
  {
   "cell_type": "code",
   "execution_count": 16,
   "id": "bc14ccdf",
   "metadata": {},
   "outputs": [
    {
     "data": {
      "text/plain": [
       "Pipeline(steps=[('minmaxscaler', MinMaxScaler()), ('svr', SVR())])"
      ]
     },
     "execution_count": 16,
     "metadata": {},
     "output_type": "execute_result"
    }
   ],
   "source": [
    "svr_model2.fit(X_train, y_train)"
   ]
  },
  {
   "cell_type": "code",
   "execution_count": 17,
   "id": "e9c2c13b",
   "metadata": {},
   "outputs": [
    {
     "data": {
      "text/plain": [
       "{'memory': None,\n",
       " 'steps': [('minmaxscaler', MinMaxScaler()), ('svr', SVR())],\n",
       " 'verbose': False,\n",
       " 'minmaxscaler': MinMaxScaler(),\n",
       " 'svr': SVR(),\n",
       " 'minmaxscaler__clip': False,\n",
       " 'minmaxscaler__copy': True,\n",
       " 'minmaxscaler__feature_range': (0, 1),\n",
       " 'svr__C': 1.0,\n",
       " 'svr__cache_size': 200,\n",
       " 'svr__coef0': 0.0,\n",
       " 'svr__degree': 3,\n",
       " 'svr__epsilon': 0.1,\n",
       " 'svr__gamma': 'scale',\n",
       " 'svr__kernel': 'rbf',\n",
       " 'svr__max_iter': -1,\n",
       " 'svr__shrinking': True,\n",
       " 'svr__tol': 0.001,\n",
       " 'svr__verbose': False}"
      ]
     },
     "execution_count": 17,
     "metadata": {},
     "output_type": "execute_result"
    }
   ],
   "source": [
    "# hyperparameters currently in use by our SVR model\n",
    "svr_model2.get_params()"
   ]
  },
  {
   "cell_type": "markdown",
   "id": "2d05d406",
   "metadata": {},
   "source": [
    "### 5.3.1 RandomizedSearchCV\n",
    "\n",
    "When the dimensionality of the grid is high, the number of computations in Grid Search increases drastically, making it computationally expensive.\n",
    "\n",
    "Randomized Search is given the number of iterations to be computed and hence is computationally less expensive with a similar level of accuracy as Grid Search, making it a better choice when the dimensionality is high.\n",
    "\n",
    "See Marco pg 131. "
   ]
  },
  {
   "cell_type": "code",
   "execution_count": 18,
   "id": "26ce26d2",
   "metadata": {},
   "outputs": [
    {
     "name": "stdout",
     "output_type": "stream",
     "text": [
      "{'svr__C': [1000, 12000, 23000, 34000, 45000, 56000, 67000, 78000, 89000, 100000], 'svr__epsilon': [0, 1, 2, 3, 4, 5, 6, 7, 8, 10], 'svr__gamma': [0, 1, 2, 3, 4, 5, 6, 7, 8, 10], 'svr__kernel': ['linear', 'rbf']}\n"
     ]
    }
   ],
   "source": [
    "# Use the random grid to search for best hyperparameters\n",
    "from sklearn.model_selection import RandomizedSearchCV\n",
    "\n",
    "# C\n",
    "C = [int(x) for x in np.linspace(start = 1000, stop = 100000, num = 10)]\n",
    "\n",
    "# Epsilon\n",
    "epsilon = [int(x) for x in np.linspace(start = 0.01, stop = 10, num = 10)]\n",
    "\n",
    "# Gamma\n",
    "gamma = [int(x) for x in np.linspace(start = 0.01, stop = 10, num = 10)]\n",
    "\n",
    "# Types of kernel\n",
    "kernel = ['linear', 'rbf']\n",
    "\n",
    "# Create the random grid\n",
    "svr_random_grid = {'svr__C': C,\n",
    "               'svr__epsilon': epsilon,\n",
    "               'svr__gamma': gamma,\n",
    "               'svr__kernel': kernel}\n",
    "\n",
    "print(svr_random_grid)"
   ]
  },
  {
   "cell_type": "code",
   "execution_count": 19,
   "id": "853ff58e",
   "metadata": {},
   "outputs": [
    {
     "name": "stdout",
     "output_type": "stream",
     "text": [
      "Fitting 3 folds for each of 100 candidates, totalling 300 fits\n"
     ]
    },
    {
     "data": {
      "text/plain": [
       "RandomizedSearchCV(cv=3,\n",
       "                   estimator=Pipeline(steps=[('minmaxscaler', MinMaxScaler()),\n",
       "                                             ('svr', SVR())]),\n",
       "                   n_iter=100, n_jobs=-1,\n",
       "                   param_distributions={'svr__C': [1000, 12000, 23000, 34000,\n",
       "                                                   45000, 56000, 67000, 78000,\n",
       "                                                   89000, 100000],\n",
       "                                        'svr__epsilon': [0, 1, 2, 3, 4, 5, 6, 7,\n",
       "                                                         8, 10],\n",
       "                                        'svr__gamma': [0, 1, 2, 3, 4, 5, 6, 7,\n",
       "                                                       8, 10],\n",
       "                                        'svr__kernel': ['linear', 'rbf']},\n",
       "                   random_state=42, verbose=2)"
      ]
     },
     "execution_count": 19,
     "metadata": {},
     "output_type": "execute_result"
    }
   ],
   "source": [
    "# Random search of parameters, using 3 fold cross validation, \n",
    "# search across 100 different combinations, and use all available cores\n",
    "svr_random = RandomizedSearchCV(estimator = svr_model2, param_distributions = svr_random_grid, n_iter = 100, cv = 3, verbose=2, random_state=42, n_jobs = -1)\n",
    "\n",
    "# Fit the random search model\n",
    "svr_random.fit(X_train, y_train)"
   ]
  },
  {
   "cell_type": "code",
   "execution_count": 20,
   "id": "d619b685",
   "metadata": {},
   "outputs": [
    {
     "data": {
      "text/plain": [
       "{'svr__kernel': 'linear', 'svr__gamma': 6, 'svr__epsilon': 0, 'svr__C': 12000}"
      ]
     },
     "execution_count": 20,
     "metadata": {},
     "output_type": "execute_result"
    }
   ],
   "source": [
    "# We can view the best parameters from fitting the random search\n",
    "svr_random.best_params_"
   ]
  },
  {
   "cell_type": "code",
   "execution_count": 21,
   "id": "42f38b32",
   "metadata": {},
   "outputs": [
    {
     "data": {
      "text/plain": [
       "Pipeline(steps=[('minmaxscaler', MinMaxScaler()),\n",
       "                ('svr', SVR(C=12000, epsilon=0, gamma=6, kernel='linear'))])"
      ]
     },
     "execution_count": 21,
     "metadata": {},
     "output_type": "execute_result"
    }
   ],
   "source": [
    "# We then assign the values of the hyperparameters into our model\n",
    "svr_model2 = svr_random.best_estimator_\n",
    "svr_model2"
   ]
  },
  {
   "cell_type": "code",
   "execution_count": 22,
   "id": "dc15e4b5",
   "metadata": {},
   "outputs": [
    {
     "data": {
      "text/plain": [
       "Pipeline(steps=[('minmaxscaler', MinMaxScaler()),\n",
       "                ('svr', SVR(C=12000, epsilon=0, gamma=6, kernel='linear'))])"
      ]
     },
     "execution_count": 22,
     "metadata": {},
     "output_type": "execute_result"
    }
   ],
   "source": [
    "# Fitting the model after hyperparameter tuning:\n",
    "svr_model2.fit(X_train, y_train)"
   ]
  },
  {
   "cell_type": "markdown",
   "id": "8dcf5fc8",
   "metadata": {},
   "source": [
    "### 5.3.2 Evaluating the performance of the model after hyperparameter tuning "
   ]
  },
  {
   "cell_type": "code",
   "execution_count": 23,
   "id": "7d2c0f13",
   "metadata": {},
   "outputs": [],
   "source": [
    "# Prediction in the training dataset using tuned hyperparameter:\n",
    "y_svr_train_predict2 = svr_model2.predict(X_train)\n",
    "\n",
    "# Prediction in the testing dataset using tuned hyperparameter\n",
    "y_svr_test_predict2 = svr_model2.predict(X_test)\n",
    "\n",
    "# Getting the RMSE scores\n",
    "RMSE_training2 = np.sqrt(mean_squared_error(y_train, y_svr_train_predict2))\n",
    "\n",
    "RMSE_test2 =np.sqrt(mean_squared_error(y_test, y_svr_test_predict2))\n",
    "\n",
    "# Getting the MSE scores\n",
    "MSE_training2 = mean_squared_error(y_train, y_svr_train_predict2)\n",
    "\n",
    "MSE_test2 = mean_squared_error(y_test, y_svr_test_predict2)\n",
    "\n",
    "# Getting the R-squared scores\n",
    "from sklearn.metrics import r2_score\n",
    "\n",
    "R2_training2 = r2_score(y_train, y_svr_train_predict2)\n",
    "\n",
    "R2_test2 = r2_score(y_test, y_svr_test_predict2)"
   ]
  },
  {
   "cell_type": "code",
   "execution_count": 24,
   "id": "9395be07",
   "metadata": {},
   "outputs": [
    {
     "name": "stdout",
     "output_type": "stream",
     "text": [
      "MSE score\n",
      "Training data:\n",
      "The model performance (after hyperparameter tuning) in training dataset is  0.0014095240162839188\n",
      "\n",
      "MSE score\n",
      "Testing data:\n",
      "The model performance (after hyperparameter tuning) in testing dataset is  0.0016461316657666245\n"
     ]
    }
   ],
   "source": [
    "print('MSE score')\n",
    "print('Training data:')\n",
    "print('The model performance (after hyperparameter tuning) in training dataset is ', MSE_training2)\n",
    "print()\n",
    "print('MSE score')\n",
    "print('Testing data:')\n",
    "print('The model performance (after hyperparameter tuning) in testing dataset is ', MSE_test2)"
   ]
  },
  {
   "cell_type": "code",
   "execution_count": 25,
   "id": "d96e0f8d",
   "metadata": {},
   "outputs": [
    {
     "name": "stdout",
     "output_type": "stream",
     "text": [
      "RMSE score\n",
      "Training data:\n",
      "The model performance (after hyperparameter tuning) in training dataset is  0.03754362817155421\n",
      "It has an improvement over baseline of 17.57 %.\n",
      "\n",
      "RMSE score\n",
      "Testing data:\n",
      "The model performance (after hyperparameter tuning) in testing dataset is  0.04057254817936168\n",
      "It has an improvement over baseline of 10.92 %.\n",
      "\n",
      "R-squared score\n",
      "Training data:\n",
      "The model performance (after hyperparameter tuning) in training dataset is  0.36875172709710036\n",
      "\n",
      "R-squared score\n",
      "Testing data:\n",
      "The model performance (after hyperparameter tuning) in testing dataset is  0.2064410995261221\n"
     ]
    }
   ],
   "source": [
    "print('RMSE score')\n",
    "print('Training data:')\n",
    "improvement_baseline2 = 100*abs(RMSE_training2 - RMSE_naive)/RMSE_naive\n",
    "print('The model performance (after hyperparameter tuning) in training dataset is ', RMSE_training2)\n",
    "print('It has an improvement over baseline of', round(improvement_baseline2, 2), '%.')\n",
    "print()\n",
    "print('RMSE score')\n",
    "print('Testing data:')\n",
    "improvement_baseline4 = 100*abs(RMSE_test2 - RMSE_naive)/RMSE_naive\n",
    "print('The model performance (after hyperparameter tuning) in testing dataset is ', RMSE_test2)\n",
    "print('It has an improvement over baseline of', round(improvement_baseline4, 2), '%.')\n",
    "print()\n",
    "print('R-squared score')\n",
    "print('Training data:')\n",
    "print('The model performance (after hyperparameter tuning) in training dataset is ', R2_training2)\n",
    "print()\n",
    "print('R-squared score')\n",
    "print('Testing data:')\n",
    "print('The model performance (after hyperparameter tuning) in testing dataset is ', R2_test2)"
   ]
  },
  {
   "cell_type": "markdown",
   "id": "7da32f12",
   "metadata": {},
   "source": [
    "# Step 6: Model Evaluation "
   ]
  },
  {
   "cell_type": "markdown",
   "id": "69fdc1c3",
   "metadata": {},
   "source": [
    "#### 6.1 Plotting the predicted values against real values"
   ]
  },
  {
   "cell_type": "code",
   "execution_count": 26,
   "id": "664aa919",
   "metadata": {},
   "outputs": [
    {
     "data": {
      "text/plain": [
       "Text(0.5, 1.0, 'Comparison between predicted values using Support Vector Machine regressor against real values')"
      ]
     },
     "execution_count": 26,
     "metadata": {},
     "output_type": "execute_result"
    },
    {
     "data": {
      "image/png": "[encoded data removed]",
      "text/plain": [
       "<Figure size 720x720 with 1 Axes>"
      ]
     },
     "metadata": {
      "needs_background": "light"
     },
     "output_type": "display_data"
    }
   ],
   "source": [
    "df_aapl['predicted_returns'] = svr_model2.predict(X)\n",
    "df_aapl[['future_return','predicted_returns']].plot(alpha = 0.5, figsize = (10,10))\n",
    "plt.xlabel('Time')\n",
    "plt.ylabel('future vs predicted returns')\n",
    "plt.title('Comparison between predicted values using Support Vector Machine regressor against real values')"
   ]
  },
  {
   "cell_type": "code",
   "execution_count": 27,
   "id": "05025e40",
   "metadata": {
    "scrolled": false
   },
   "outputs": [
    {
     "data": {
      "text/plain": [
       "Text(0.5, 1.0, 'Comparison between predicted values against real values using SVR')"
      ]
     },
     "execution_count": 27,
     "metadata": {},
     "output_type": "execute_result"
    },
    {
     "data": {
      "image/png": "[encoded data removed]",
      "text/plain": [
       "<Figure size 720x720 with 1 Axes>"
      ]
     },
     "metadata": {
      "needs_background": "light"
     },
     "output_type": "display_data"
    }
   ],
   "source": [
    "df_aapl.plot.scatter(x = 'future_return', y = 'predicted_returns', figsize = (10,10))\n",
    "plt.title('Comparison between predicted values against real values using SVR')"
   ]
  },
  {
   "cell_type": "markdown",
   "id": "b288ec22",
   "metadata": {},
   "source": [
    "Based on the above, our model actually predicts with relatively good accuracy where the returns is between -0.05 to 0.05. "
   ]
  },
  {
   "cell_type": "markdown",
   "id": "66a067c1",
   "metadata": {},
   "source": [
    "# Signal generation logic\n",
    "\n",
    "If the value of future returns is positive then we buy the stock, else we do not buy the stock. \n",
    "\n",
    "Based on our model, it appears that it is relatively accurate where the returns range from -0.05 (negative returns) and 0.05 (positive returns). Accordingly, we will generate our signals based on the following:\n",
    " * Where the return is above 0 and below 0.05, the returns will be positive and we buy the stock. We will designate a signal of 1. \n",
    " * Where the return is below 0 and above -0.05, the returns will be negative and we don't buy the stock. If we held the stock at the end of previous closing trade day, this is also a signal to sell the stock. We will designate a signal of -1. \n",
    " * In taking a risk-adverse approach, where the values fall outside of our pre-defined range, we will not perform any trade since the model cannot predict with good accuracy whether the returns will be positive or negative. We will also designate a signal of 0."
   ]
  },
  {
   "cell_type": "code",
   "execution_count": 28,
   "id": "894d4af6",
   "metadata": {},
   "outputs": [],
   "source": [
    "def returns_to_class(df):\n",
    "    if df.predicted_returns > 0.0 and df.predicted_returns < 0.05:\n",
    "        return 1\n",
    "    elif df.predicted_returns < 0.0 and df.predicted_returns > -0.05:\n",
    "        return -1\n",
    "    else:\n",
    "        return 0\n",
    "\n",
    "df_aapl['Class'] = df_aapl.apply(returns_to_class, axis=1)"
   ]
  },
  {
   "cell_type": "code",
   "execution_count": 29,
   "id": "b3b5c695",
   "metadata": {},
   "outputs": [
    {
     "data": {
      "text/plain": [
       "Class\n",
       "-1    553\n",
       " 0    116\n",
       " 1    542\n",
       "Name: predicted_returns, dtype: int64"
      ]
     },
     "execution_count": 29,
     "metadata": {},
     "output_type": "execute_result"
    }
   ],
   "source": [
    "df_aapl.groupby('Class')['predicted_returns'].count()"
   ]
  },
  {
   "cell_type": "markdown",
   "id": "7d822d25",
   "metadata": {},
   "source": [
    "Once we have defined the different classes for the target variable, we can see their distribution of Returns using the groupby method. As can be observed, out of the total data points majority of them (i.e. 561 data points) belong to '-1' class which signifies negative returns. On the other hand, there are 409 data points belonging to '1', which signifies positive returns. "
   ]
  },
  {
   "cell_type": "code",
   "execution_count": 30,
   "id": "82e48627",
   "metadata": {},
   "outputs": [],
   "source": [
    "df_aapl.reset_index('Date', inplace=True)"
   ]
  },
  {
   "cell_type": "code",
   "execution_count": 31,
   "id": "a99c8389",
   "metadata": {},
   "outputs": [
    {
     "data": {
      "text/html": [
       "<div>\n",
       "<style scoped>\n",
       "    .dataframe tbody tr th:only-of-type {\n",
       "        vertical-align: middle;\n",
       "    }\n",
       "\n",
       "    .dataframe tbody tr th {\n",
       "        vertical-align: top;\n",
       "    }\n",
       "\n",
       "    .dataframe thead th {\n",
       "        text-align: right;\n",
       "    }\n",
       "</style>\n",
       "<table border=\"1\" class=\"dataframe\">\n",
       "  <thead>\n",
       "    <tr style=\"text-align: right;\">\n",
       "      <th></th>\n",
       "      <th>Date</th>\n",
       "      <th>Class</th>\n",
       "      <th>predicted_returns</th>\n",
       "    </tr>\n",
       "  </thead>\n",
       "  <tbody>\n",
       "    <tr>\n",
       "      <th>0</th>\n",
       "      <td>2016-09-06</td>\n",
       "      <td>-1</td>\n",
       "      <td>-0.007337</td>\n",
       "    </tr>\n",
       "    <tr>\n",
       "      <th>1</th>\n",
       "      <td>2016-10-06</td>\n",
       "      <td>1</td>\n",
       "      <td>0.015644</td>\n",
       "    </tr>\n",
       "    <tr>\n",
       "      <th>2</th>\n",
       "      <td>2016-06-13</td>\n",
       "      <td>1</td>\n",
       "      <td>0.034228</td>\n",
       "    </tr>\n",
       "    <tr>\n",
       "      <th>3</th>\n",
       "      <td>2016-06-14</td>\n",
       "      <td>1</td>\n",
       "      <td>0.006963</td>\n",
       "    </tr>\n",
       "    <tr>\n",
       "      <th>4</th>\n",
       "      <td>2016-06-15</td>\n",
       "      <td>1</td>\n",
       "      <td>0.009796</td>\n",
       "    </tr>\n",
       "    <tr>\n",
       "      <th>...</th>\n",
       "      <td>...</td>\n",
       "      <td>...</td>\n",
       "      <td>...</td>\n",
       "    </tr>\n",
       "    <tr>\n",
       "      <th>1206</th>\n",
       "      <td>2021-03-25</td>\n",
       "      <td>-1</td>\n",
       "      <td>-0.005521</td>\n",
       "    </tr>\n",
       "    <tr>\n",
       "      <th>1207</th>\n",
       "      <td>2021-03-26</td>\n",
       "      <td>-1</td>\n",
       "      <td>-0.013019</td>\n",
       "    </tr>\n",
       "    <tr>\n",
       "      <th>1208</th>\n",
       "      <td>2021-03-29</td>\n",
       "      <td>-1</td>\n",
       "      <td>-0.013802</td>\n",
       "    </tr>\n",
       "    <tr>\n",
       "      <th>1209</th>\n",
       "      <td>2021-03-30</td>\n",
       "      <td>1</td>\n",
       "      <td>0.011989</td>\n",
       "    </tr>\n",
       "    <tr>\n",
       "      <th>1210</th>\n",
       "      <td>2021-03-31</td>\n",
       "      <td>-1</td>\n",
       "      <td>-0.032615</td>\n",
       "    </tr>\n",
       "  </tbody>\n",
       "</table>\n",
       "<p>1211 rows × 3 columns</p>\n",
       "</div>"
      ],
      "text/plain": [
       "           Date  Class  predicted_returns\n",
       "0    2016-09-06     -1          -0.007337\n",
       "1    2016-10-06      1           0.015644\n",
       "2    2016-06-13      1           0.034228\n",
       "3    2016-06-14      1           0.006963\n",
       "4    2016-06-15      1           0.009796\n",
       "...         ...    ...                ...\n",
       "1206 2021-03-25     -1          -0.005521\n",
       "1207 2021-03-26     -1          -0.013019\n",
       "1208 2021-03-29     -1          -0.013802\n",
       "1209 2021-03-30      1           0.011989\n",
       "1210 2021-03-31     -1          -0.032615\n",
       "\n",
       "[1211 rows x 3 columns]"
      ]
     },
     "execution_count": 31,
     "metadata": {},
     "output_type": "execute_result"
    }
   ],
   "source": [
    "signal_list = ['Date','Class', 'predicted_returns']\n",
    "df_signal = df_aapl[signal_list]\n",
    "df_signal"
   ]
  },
  {
   "cell_type": "code",
   "execution_count": 32,
   "id": "e3b02186",
   "metadata": {},
   "outputs": [],
   "source": [
    "df_signal.set_index('Date', inplace=True)"
   ]
  },
  {
   "cell_type": "code",
   "execution_count": 33,
   "id": "96a61a51",
   "metadata": {},
   "outputs": [
    {
     "data": {
      "image/png": "[encoded data removed]",
      "text/plain": [
       "<Figure size 432x288 with 1 Axes>"
      ]
     },
     "metadata": {
      "needs_background": "light"
     },
     "output_type": "display_data"
    }
   ],
   "source": [
    "df_signal.Class[-10:].plot()\n",
    "plt.show()"
   ]
  },
  {
   "cell_type": "markdown",
   "id": "62f7d8b3",
   "metadata": {},
   "source": [
    "The above graph shows the signal predicted for last 10 days. "
   ]
  },
  {
   "cell_type": "markdown",
   "id": "fa4215ed",
   "metadata": {},
   "source": [
    "### Sharpe Ratio\n",
    "\n",
    "Sharpe ratio helps to evaluate how good a strategy is. Generally, a strategy with a Sharpe ratio of > 1.5 is considered good.\n",
    "\n",
    "The Sharpe ratio is calculated as follows:\n",
    " * Sharpe ratio  = (average daily strategy returns / standard deviation of the strategy returns) * sqrt(252)\n",
    " * 252 is the number of trading days in a year. We will assume the number to be 252. \n",
    " \n",
    "https://www.investopedia.com/articles/07/sharpe_ratio.asp\n",
    "\n",
    "https://www.investopedia.com/terms/s/sharperatio.asp"
   ]
  },
  {
   "cell_type": "code",
   "execution_count": 34,
   "id": "a7fa8295",
   "metadata": {},
   "outputs": [],
   "source": [
    "df_aapl['strategy_returns'] = df_aapl.future_return * df_aapl.Class"
   ]
  },
  {
   "cell_type": "code",
   "execution_count": 35,
   "id": "6831faf5",
   "metadata": {},
   "outputs": [],
   "source": [
    "# The below function returns the Sharpe ratio for the excess returns \n",
    "# (Strategy returns - Risk free rate) passed to it.\n",
    "def annualized_sharpe_ratio(returns, N=252):\n",
    "    return np.sqrt(N) * returns.mean() / returns.std()"
   ]
  },
  {
   "cell_type": "markdown",
   "id": "a2ee5944",
   "metadata": {},
   "source": [
    "We calculate the Sharpe ratio for the strategy in train and test dataset. The risk-free rate is assumed to be 5% p.a.\n",
    "\n",
    "https://www.investopedia.com/terms/r/risk-freerate.asp"
   ]
  },
  {
   "cell_type": "code",
   "execution_count": 36,
   "id": "c388a362",
   "metadata": {},
   "outputs": [],
   "source": [
    "# Computing Sharpe ratio\n",
    "\n",
    "df_aapl['excess_daily_strategy_return'] = df_aapl.strategy_returns - 0.05/252\n",
    "\n",
    "# Train dataset\n",
    "sharpe_train = annualized_sharpe_ratio(\n",
    "    df_aapl.excess_daily_strategy_return.iloc[:split])\n",
    "\n",
    "# Test dataset\n",
    "sharpe_test = annualized_sharpe_ratio(\n",
    "    df_aapl.excess_daily_strategy_return.iloc[split:])"
   ]
  },
  {
   "cell_type": "markdown",
   "id": "6b0a4789",
   "metadata": {},
   "source": [
    "# Visualising cumulative returns \n",
    "\n",
    "#### Cumulative returns in train set"
   ]
  },
  {
   "cell_type": "code",
   "execution_count": 37,
   "id": "f5c793dd",
   "metadata": {},
   "outputs": [
    {
     "data": {
      "image/png": "[encoded data removed]",
      "text/plain": [
       "<Figure size 432x288 with 1 Axes>"
      ]
     },
     "metadata": {
      "needs_background": "light"
     },
     "output_type": "display_data"
    }
   ],
   "source": [
    "# Plot the cumulative returns in train dataset\n",
    "df_aapl.strategy_returns[:split].cumsum().plot()\n",
    "\n",
    "# Show the legend\n",
    "plt.legend()\n",
    "\n",
    "# Show the graph\n",
    "plt.show()"
   ]
  },
  {
   "cell_type": "markdown",
   "id": "07e085a4",
   "metadata": {},
   "source": [
    "#### Cumulative returns in test set"
   ]
  },
  {
   "cell_type": "code",
   "execution_count": 38,
   "id": "c3c0978a",
   "metadata": {},
   "outputs": [
    {
     "data": {
      "image/png": "[encoded data removed]",
      "text/plain": [
       "<Figure size 432x288 with 1 Axes>"
      ]
     },
     "metadata": {
      "needs_background": "light"
     },
     "output_type": "display_data"
    }
   ],
   "source": [
    "# Plot the cumulative returns in test dataset\n",
    "df_aapl.strategy_returns[split:].cumsum().plot()\n",
    "\n",
    "# Show the legend\n",
    "plt.legend()\n",
    "\n",
    "# Show the graph\n",
    "plt.show()"
   ]
  },
  {
   "cell_type": "code",
   "execution_count": 39,
   "id": "bd89f66f",
   "metadata": {},
   "outputs": [
    {
     "name": "stdout",
     "output_type": "stream",
     "text": [
      "|              |   Train set |   Test Set |\n",
      "|--------------+-------------+------------|\n",
      "| Sharpe Ratio |     4.40151 |    3.66644 |\n"
     ]
    }
   ],
   "source": [
    "# Tabulate the performance in train and test dataset\n",
    "from tabulate import tabulate\n",
    "print(tabulate(\n",
    "    [\n",
    "        ['Sharpe Ratio', sharpe_train, sharpe_test],\n",
    "    ],\n",
    "    headers=['Train set', 'Test Set'],\n",
    "    tablefmt='orgtbl'))"
   ]
  }
 ],
 "metadata": {
  "kernelspec": {
   "display_name": "Python 3",
   "language": "python",
   "name": "python3"
  },
  "language_info": {
   "codemirror_mode": {
    "name": "ipython",
    "version": 3
   },
   "file_extension": ".py",
   "mimetype": "text/x-python",
   "name": "python",
   "nbconvert_exporter": "python",
   "pygments_lexer": "ipython3",
   "version": "3.8.2"
  }
 },
 "nbformat": 4,
 "nbformat_minor": 5
}
