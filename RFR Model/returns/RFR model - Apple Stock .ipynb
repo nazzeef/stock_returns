{
 "cells": [
  {
   "cell_type": "markdown",
   "id": "98c86510",
   "metadata": {},
   "source": [
    "## Prepared by:\n",
    "\n",
    "Nazzeef Nazri\n",
    "\n",
    "a1621410"
   ]
  },
  {
   "cell_type": "markdown",
   "id": "62805bf6",
   "metadata": {},
   "source": [
    "# Assessment 3 - Case Study Report\n",
    "\n",
    "This notebook will demonstrate the application of a supervised machine learning model using the historical Apple stock data extracted from Yahoo Finance. \n",
    "\n",
    "The machine learning pipeline has six main steps:\n",
    "\n",
    " 1. Problem definition where you define your problem;\n",
    " 2. Data ingestion where you collect your data;\n",
    " 3. Data preparation where you clean your data;\n",
    " 4. Data segregation where you separate your data;\n",
    " 5. Model training where you use the machine learning algorithms;\n",
    " 6. Candidate model evaluation where you evaluate the models you have used."
   ]
  },
  {
   "cell_type": "markdown",
   "id": "e087c0b9",
   "metadata": {},
   "source": [
    "# Step 1: Problem Statement\n",
    "\n",
    "1. Can supervised machine learning models predict the next day stock returns in order to generate profitable trading signals?\n",
    "2. Can these models explain which technical indicators are best at predicting next day stock returns, and by extension, the trading strategy to adopt for a particular stock?"
   ]
  },
  {
   "cell_type": "markdown",
   "id": "7e92368a",
   "metadata": {},
   "source": [
    "# Step 2: Data ingestion\n",
    "\n",
    "We collected the historical Apple Stock data from Yahoo Finance with the dates ranging from 1st April 2016 to 1st April 2021 (5 years historical data)\n",
    "\n",
    "The Apple stock is synonymously referred in the stock exchange with the ticker symbol 'AAPL'. \n",
    "\n",
    "The steps for collecting the data using the yfinance package is found described by Shah (2020). \n",
    "\n",
    "The **Apple Stock dataset** has 7 variables and 1321 rows of stock data. The data consists of Open-High-Low-Close prices and Volume data. They are as follows: \n",
    "* `Date`: The date the stock data is published\n",
    "* `Open`: The price that the AAPL stock started trading for the day\n",
    "* `High`: The maximum AAPL stock price at a given time period for the day\n",
    "* `Low`: The minimum AAPL stock price at a given time period for the day\n",
    "* `Close`: The price that the AAPL stock ended trading for the day\n",
    "* `Adj Close`: The price that the AAPL stock ended trading for the day adjusted for corporate actions such as dividends, stock splits, and new share issuance.\n",
    "* `Volume`: The total amount of trading activity for the AAPL stock. \n",
    "\n",
    "\n",
    "The predictor and target variables will be created using this raw data."
   ]
  },
  {
   "cell_type": "markdown",
   "id": "61295898",
   "metadata": {},
   "source": [
    "#### 2.1 Collecting the data:"
   ]
  },
  {
   "cell_type": "code",
   "execution_count": 1,
   "id": "bd190002",
   "metadata": {},
   "outputs": [],
   "source": [
    "# For data manipulation\n",
    "import pandas as pd\n",
    "import numpy as np\n",
    "\n",
    "# To extract historical stock data \n",
    "import yfinance as yf\n",
    "\n",
    "# For producing technical indicators\n",
    "import talib as ta\n",
    "\n",
    "# For plotting graphs\n",
    "import matplotlib.pyplot as plt \n",
    "import matplotlib as mpl\n",
    "\n",
    "# To access datetime\n",
    "from datetime import datetime    \n",
    "%matplotlib inline\n",
    "\n",
    "# To ignore the warnings\n",
    "import warnings                   \n",
    "warnings.filterwarnings(\"ignore\")"
   ]
  },
  {
   "cell_type": "code",
   "execution_count": 2,
   "id": "917e7cb1",
   "metadata": {},
   "outputs": [
    {
     "name": "stdout",
     "output_type": "stream",
     "text": [
      "[*********************100%***********************]  1 of 1 completed\n"
     ]
    }
   ],
   "source": [
    "# Downloading historical AAPL stock data from 01/01/2016 to 01/04/2021\n",
    "df_aapl = yf.download('AAPL','2016-04-02','2021-04-02')"
   ]
  },
  {
   "cell_type": "markdown",
   "id": "07992533",
   "metadata": {},
   "source": [
    "#### 2.2 Investigating the characteristics of the data:"
   ]
  },
  {
   "cell_type": "code",
   "execution_count": 3,
   "id": "937148d6",
   "metadata": {},
   "outputs": [],
   "source": [
    "# Convert date index into a column\n",
    "df_aapl.reset_index(level=0, inplace=True)"
   ]
  },
  {
   "cell_type": "code",
   "execution_count": 4,
   "id": "0fc66c7e",
   "metadata": {},
   "outputs": [],
   "source": [
    "# Prepare data\n",
    "df_aapl['year'] = [d.year for d in df_aapl.Date]\n",
    "df_aapl['month'] = [d.strftime('%b') for d in df_aapl.Date]\n",
    "years = df_aapl['year'].unique()"
   ]
  },
  {
   "cell_type": "code",
   "execution_count": 5,
   "id": "7ae82113",
   "metadata": {},
   "outputs": [
    {
     "name": "stdout",
     "output_type": "stream",
     "text": [
      "First date: 2016-04-01 00:00:00  Last Date: 2021-04-01 00:00:00\n"
     ]
    }
   ],
   "source": [
    "# Print the first and the last date of the dataframe\n",
    "print('First date:', df_aapl.Date.min(), ' Last Date:', df_aapl.Date.max())"
   ]
  },
  {
   "cell_type": "code",
   "execution_count": 6,
   "id": "b6275a74",
   "metadata": {},
   "outputs": [
    {
     "data": {
      "text/plain": [
       "(1260, 9)"
      ]
     },
     "execution_count": 6,
     "metadata": {},
     "output_type": "execute_result"
    }
   ],
   "source": [
    "# Prints the dimension of the dataframe\n",
    "df_aapl.shape"
   ]
  },
  {
   "cell_type": "code",
   "execution_count": 7,
   "id": "48c4d462",
   "metadata": {},
   "outputs": [
    {
     "data": {
      "text/html": [
       "<div>\n",
       "<style scoped>\n",
       "    .dataframe tbody tr th:only-of-type {\n",
       "        vertical-align: middle;\n",
       "    }\n",
       "\n",
       "    .dataframe tbody tr th {\n",
       "        vertical-align: top;\n",
       "    }\n",
       "\n",
       "    .dataframe thead th {\n",
       "        text-align: right;\n",
       "    }\n",
       "</style>\n",
       "<table border=\"1\" class=\"dataframe\">\n",
       "  <thead>\n",
       "    <tr style=\"text-align: right;\">\n",
       "      <th></th>\n",
       "      <th>Date</th>\n",
       "      <th>Open</th>\n",
       "      <th>High</th>\n",
       "      <th>Low</th>\n",
       "      <th>Close</th>\n",
       "      <th>Adj Close</th>\n",
       "      <th>Volume</th>\n",
       "      <th>year</th>\n",
       "      <th>month</th>\n",
       "    </tr>\n",
       "  </thead>\n",
       "  <tbody>\n",
       "    <tr>\n",
       "      <th>0</th>\n",
       "      <td>2016-04-01</td>\n",
       "      <td>27.195000</td>\n",
       "      <td>27.500000</td>\n",
       "      <td>27.049999</td>\n",
       "      <td>27.497499</td>\n",
       "      <td>25.575666</td>\n",
       "      <td>103496000</td>\n",
       "      <td>2016</td>\n",
       "      <td>Apr</td>\n",
       "    </tr>\n",
       "    <tr>\n",
       "      <th>1</th>\n",
       "      <td>2016-04-04</td>\n",
       "      <td>27.605000</td>\n",
       "      <td>28.047501</td>\n",
       "      <td>27.567499</td>\n",
       "      <td>27.780001</td>\n",
       "      <td>25.838421</td>\n",
       "      <td>149424800</td>\n",
       "      <td>2016</td>\n",
       "      <td>Apr</td>\n",
       "    </tr>\n",
       "    <tr>\n",
       "      <th>2</th>\n",
       "      <td>2016-04-05</td>\n",
       "      <td>27.377501</td>\n",
       "      <td>27.682501</td>\n",
       "      <td>27.355000</td>\n",
       "      <td>27.452499</td>\n",
       "      <td>25.533810</td>\n",
       "      <td>106314800</td>\n",
       "      <td>2016</td>\n",
       "      <td>Apr</td>\n",
       "    </tr>\n",
       "    <tr>\n",
       "      <th>3</th>\n",
       "      <td>2016-04-06</td>\n",
       "      <td>27.557501</td>\n",
       "      <td>27.745001</td>\n",
       "      <td>27.299999</td>\n",
       "      <td>27.740000</td>\n",
       "      <td>25.801216</td>\n",
       "      <td>105616400</td>\n",
       "      <td>2016</td>\n",
       "      <td>Apr</td>\n",
       "    </tr>\n",
       "    <tr>\n",
       "      <th>4</th>\n",
       "      <td>2016-04-07</td>\n",
       "      <td>27.487499</td>\n",
       "      <td>27.605000</td>\n",
       "      <td>27.030001</td>\n",
       "      <td>27.135000</td>\n",
       "      <td>25.238501</td>\n",
       "      <td>127207600</td>\n",
       "      <td>2016</td>\n",
       "      <td>Apr</td>\n",
       "    </tr>\n",
       "  </tbody>\n",
       "</table>\n",
       "</div>"
      ],
      "text/plain": [
       "        Date       Open       High        Low      Close  Adj Close  \\\n",
       "0 2016-04-01  27.195000  27.500000  27.049999  27.497499  25.575666   \n",
       "1 2016-04-04  27.605000  28.047501  27.567499  27.780001  25.838421   \n",
       "2 2016-04-05  27.377501  27.682501  27.355000  27.452499  25.533810   \n",
       "3 2016-04-06  27.557501  27.745001  27.299999  27.740000  25.801216   \n",
       "4 2016-04-07  27.487499  27.605000  27.030001  27.135000  25.238501   \n",
       "\n",
       "      Volume  year month  \n",
       "0  103496000  2016   Apr  \n",
       "1  149424800  2016   Apr  \n",
       "2  106314800  2016   Apr  \n",
       "3  105616400  2016   Apr  \n",
       "4  127207600  2016   Apr  "
      ]
     },
     "execution_count": 7,
     "metadata": {},
     "output_type": "execute_result"
    }
   ],
   "source": [
    "# Prints the first 5 rows of the dataframe\n",
    "df_aapl.head()"
   ]
  },
  {
   "cell_type": "code",
   "execution_count": 8,
   "id": "6caf7976",
   "metadata": {},
   "outputs": [
    {
     "data": {
      "text/html": [
       "<div>\n",
       "<style scoped>\n",
       "    .dataframe tbody tr th:only-of-type {\n",
       "        vertical-align: middle;\n",
       "    }\n",
       "\n",
       "    .dataframe tbody tr th {\n",
       "        vertical-align: top;\n",
       "    }\n",
       "\n",
       "    .dataframe thead th {\n",
       "        text-align: right;\n",
       "    }\n",
       "</style>\n",
       "<table border=\"1\" class=\"dataframe\">\n",
       "  <thead>\n",
       "    <tr style=\"text-align: right;\">\n",
       "      <th></th>\n",
       "      <th>Date</th>\n",
       "      <th>Open</th>\n",
       "      <th>High</th>\n",
       "      <th>Low</th>\n",
       "      <th>Close</th>\n",
       "      <th>Adj Close</th>\n",
       "      <th>Volume</th>\n",
       "      <th>year</th>\n",
       "      <th>month</th>\n",
       "    </tr>\n",
       "  </thead>\n",
       "  <tbody>\n",
       "    <tr>\n",
       "      <th>1255</th>\n",
       "      <td>2021-03-26</td>\n",
       "      <td>120.349998</td>\n",
       "      <td>121.480003</td>\n",
       "      <td>118.919998</td>\n",
       "      <td>121.209999</td>\n",
       "      <td>121.209999</td>\n",
       "      <td>93958900</td>\n",
       "      <td>2021</td>\n",
       "      <td>Mar</td>\n",
       "    </tr>\n",
       "    <tr>\n",
       "      <th>1256</th>\n",
       "      <td>2021-03-29</td>\n",
       "      <td>121.650002</td>\n",
       "      <td>122.580002</td>\n",
       "      <td>120.730003</td>\n",
       "      <td>121.389999</td>\n",
       "      <td>121.389999</td>\n",
       "      <td>80819200</td>\n",
       "      <td>2021</td>\n",
       "      <td>Mar</td>\n",
       "    </tr>\n",
       "    <tr>\n",
       "      <th>1257</th>\n",
       "      <td>2021-03-30</td>\n",
       "      <td>120.110001</td>\n",
       "      <td>120.400002</td>\n",
       "      <td>118.860001</td>\n",
       "      <td>119.900002</td>\n",
       "      <td>119.900002</td>\n",
       "      <td>85671900</td>\n",
       "      <td>2021</td>\n",
       "      <td>Mar</td>\n",
       "    </tr>\n",
       "    <tr>\n",
       "      <th>1258</th>\n",
       "      <td>2021-03-31</td>\n",
       "      <td>121.650002</td>\n",
       "      <td>123.519997</td>\n",
       "      <td>121.150002</td>\n",
       "      <td>122.150002</td>\n",
       "      <td>122.150002</td>\n",
       "      <td>118323800</td>\n",
       "      <td>2021</td>\n",
       "      <td>Mar</td>\n",
       "    </tr>\n",
       "    <tr>\n",
       "      <th>1259</th>\n",
       "      <td>2021-04-01</td>\n",
       "      <td>123.660004</td>\n",
       "      <td>124.180000</td>\n",
       "      <td>122.489998</td>\n",
       "      <td>123.000000</td>\n",
       "      <td>123.000000</td>\n",
       "      <td>74957400</td>\n",
       "      <td>2021</td>\n",
       "      <td>Apr</td>\n",
       "    </tr>\n",
       "  </tbody>\n",
       "</table>\n",
       "</div>"
      ],
      "text/plain": [
       "           Date        Open        High         Low       Close   Adj Close  \\\n",
       "1255 2021-03-26  120.349998  121.480003  118.919998  121.209999  121.209999   \n",
       "1256 2021-03-29  121.650002  122.580002  120.730003  121.389999  121.389999   \n",
       "1257 2021-03-30  120.110001  120.400002  118.860001  119.900002  119.900002   \n",
       "1258 2021-03-31  121.650002  123.519997  121.150002  122.150002  122.150002   \n",
       "1259 2021-04-01  123.660004  124.180000  122.489998  123.000000  123.000000   \n",
       "\n",
       "         Volume  year month  \n",
       "1255   93958900  2021   Mar  \n",
       "1256   80819200  2021   Mar  \n",
       "1257   85671900  2021   Mar  \n",
       "1258  118323800  2021   Mar  \n",
       "1259   74957400  2021   Apr  "
      ]
     },
     "execution_count": 8,
     "metadata": {},
     "output_type": "execute_result"
    }
   ],
   "source": [
    "# Prints the last 5 rows of the dataframe\n",
    "df_aapl.tail()"
   ]
  },
  {
   "cell_type": "code",
   "execution_count": 9,
   "id": "76730eea",
   "metadata": {},
   "outputs": [
    {
     "name": "stdout",
     "output_type": "stream",
     "text": [
      "<class 'pandas.core.frame.DataFrame'>\n",
      "RangeIndex: 1260 entries, 0 to 1259\n",
      "Data columns (total 9 columns):\n",
      " #   Column     Non-Null Count  Dtype         \n",
      "---  ------     --------------  -----         \n",
      " 0   Date       1260 non-null   datetime64[ns]\n",
      " 1   Open       1260 non-null   float64       \n",
      " 2   High       1260 non-null   float64       \n",
      " 3   Low        1260 non-null   float64       \n",
      " 4   Close      1260 non-null   float64       \n",
      " 5   Adj Close  1260 non-null   float64       \n",
      " 6   Volume     1260 non-null   int64         \n",
      " 7   year       1260 non-null   int64         \n",
      " 8   month      1260 non-null   object        \n",
      "dtypes: datetime64[ns](1), float64(5), int64(2), object(1)\n",
      "memory usage: 88.7+ KB\n"
     ]
    }
   ],
   "source": [
    "# Prints a summary of the dataframe\n",
    "df_aapl.info()"
   ]
  },
  {
   "cell_type": "code",
   "execution_count": 10,
   "id": "a97673ab",
   "metadata": {
    "scrolled": true
   },
   "outputs": [
    {
     "data": {
      "text/html": [
       "<div>\n",
       "<style scoped>\n",
       "    .dataframe tbody tr th:only-of-type {\n",
       "        vertical-align: middle;\n",
       "    }\n",
       "\n",
       "    .dataframe tbody tr th {\n",
       "        vertical-align: top;\n",
       "    }\n",
       "\n",
       "    .dataframe thead th {\n",
       "        text-align: right;\n",
       "    }\n",
       "</style>\n",
       "<table border=\"1\" class=\"dataframe\">\n",
       "  <thead>\n",
       "    <tr style=\"text-align: right;\">\n",
       "      <th></th>\n",
       "      <th>Open</th>\n",
       "      <th>High</th>\n",
       "      <th>Low</th>\n",
       "      <th>Close</th>\n",
       "      <th>Adj Close</th>\n",
       "      <th>Volume</th>\n",
       "      <th>year</th>\n",
       "    </tr>\n",
       "  </thead>\n",
       "  <tbody>\n",
       "    <tr>\n",
       "      <th>count</th>\n",
       "      <td>1260.000000</td>\n",
       "      <td>1260.000000</td>\n",
       "      <td>1260.000000</td>\n",
       "      <td>1260.000000</td>\n",
       "      <td>1260.000000</td>\n",
       "      <td>1.260000e+03</td>\n",
       "      <td>1260.000000</td>\n",
       "    </tr>\n",
       "    <tr>\n",
       "      <th>mean</th>\n",
       "      <td>56.778028</td>\n",
       "      <td>57.401306</td>\n",
       "      <td>56.159502</td>\n",
       "      <td>56.806563</td>\n",
       "      <td>55.665283</td>\n",
       "      <td>1.299453e+08</td>\n",
       "      <td>2018.246825</td>\n",
       "    </tr>\n",
       "    <tr>\n",
       "      <th>std</th>\n",
       "      <td>30.139081</td>\n",
       "      <td>30.573186</td>\n",
       "      <td>29.597485</td>\n",
       "      <td>30.093071</td>\n",
       "      <td>30.573362</td>\n",
       "      <td>5.867933e+07</td>\n",
       "      <td>1.480677</td>\n",
       "    </tr>\n",
       "    <tr>\n",
       "      <th>min</th>\n",
       "      <td>22.500000</td>\n",
       "      <td>22.917500</td>\n",
       "      <td>22.367500</td>\n",
       "      <td>22.584999</td>\n",
       "      <td>21.134403</td>\n",
       "      <td>4.544800e+07</td>\n",
       "      <td>2016.000000</td>\n",
       "    </tr>\n",
       "    <tr>\n",
       "      <th>25%</th>\n",
       "      <td>37.550001</td>\n",
       "      <td>37.956876</td>\n",
       "      <td>37.281876</td>\n",
       "      <td>37.624375</td>\n",
       "      <td>36.060785</td>\n",
       "      <td>9.104090e+07</td>\n",
       "      <td>2017.000000</td>\n",
       "    </tr>\n",
       "    <tr>\n",
       "      <th>50%</th>\n",
       "      <td>46.483751</td>\n",
       "      <td>46.841249</td>\n",
       "      <td>46.160000</td>\n",
       "      <td>46.488750</td>\n",
       "      <td>45.149832</td>\n",
       "      <td>1.137230e+08</td>\n",
       "      <td>2018.000000</td>\n",
       "    </tr>\n",
       "    <tr>\n",
       "      <th>75%</th>\n",
       "      <td>66.499998</td>\n",
       "      <td>67.171875</td>\n",
       "      <td>65.780003</td>\n",
       "      <td>66.626875</td>\n",
       "      <td>66.037977</td>\n",
       "      <td>1.503802e+08</td>\n",
       "      <td>2019.250000</td>\n",
       "    </tr>\n",
       "    <tr>\n",
       "      <th>max</th>\n",
       "      <td>143.600006</td>\n",
       "      <td>145.089996</td>\n",
       "      <td>141.369995</td>\n",
       "      <td>143.160004</td>\n",
       "      <td>142.946396</td>\n",
       "      <td>4.584084e+08</td>\n",
       "      <td>2021.000000</td>\n",
       "    </tr>\n",
       "  </tbody>\n",
       "</table>\n",
       "</div>"
      ],
      "text/plain": [
       "              Open         High          Low        Close    Adj Close  \\\n",
       "count  1260.000000  1260.000000  1260.000000  1260.000000  1260.000000   \n",
       "mean     56.778028    57.401306    56.159502    56.806563    55.665283   \n",
       "std      30.139081    30.573186    29.597485    30.093071    30.573362   \n",
       "min      22.500000    22.917500    22.367500    22.584999    21.134403   \n",
       "25%      37.550001    37.956876    37.281876    37.624375    36.060785   \n",
       "50%      46.483751    46.841249    46.160000    46.488750    45.149832   \n",
       "75%      66.499998    67.171875    65.780003    66.626875    66.037977   \n",
       "max     143.600006   145.089996   141.369995   143.160004   142.946396   \n",
       "\n",
       "             Volume         year  \n",
       "count  1.260000e+03  1260.000000  \n",
       "mean   1.299453e+08  2018.246825  \n",
       "std    5.867933e+07     1.480677  \n",
       "min    4.544800e+07  2016.000000  \n",
       "25%    9.104090e+07  2017.000000  \n",
       "50%    1.137230e+08  2018.000000  \n",
       "75%    1.503802e+08  2019.250000  \n",
       "max    4.584084e+08  2021.000000  "
      ]
     },
     "execution_count": 10,
     "metadata": {},
     "output_type": "execute_result"
    }
   ],
   "source": [
    "# Generate descriptive statistics of the dataframe\n",
    "df_aapl.describe()"
   ]
  },
  {
   "cell_type": "markdown",
   "id": "61fa8520",
   "metadata": {},
   "source": [
    "# Step 3: Data Preparation\n",
    "\n",
    "\n",
    "## 3.1 Checking for anomalies\n",
    "\n",
    "We will perform a quick check and address any anomalies (if any). In essence, we want to ensure that the data is:\n",
    "1. Currency \n",
    "   * Data is up to date (not an issue for this scenario). We will be looking at 5 years worth of historical AAPL stock data from 01 April 2016 until 01 April 2021. \n",
    "2. Consistency\n",
    "   * Data is usable. There are no data format/irregularities, spelling/typos, domain format errors or use of special characters (syntactical anomalies). This is not an issue for our scenario. \n",
    "3. Accurate\n",
    "   * Data is not wrong. There are no duplicates, invalid observations or contradictions (semantic anomalies). \n",
    "4. Complete\n",
    "   * There are no missing values (coverage anomalies)"
   ]
  },
  {
   "cell_type": "markdown",
   "id": "9eefd30c",
   "metadata": {},
   "source": [
    "#### 3.1.1 Checking if there are any missing values (coverage anomalies)"
   ]
  },
  {
   "cell_type": "code",
   "execution_count": 11,
   "id": "7fb9380d",
   "metadata": {},
   "outputs": [
    {
     "data": {
      "text/plain": [
       "Date         0\n",
       "Open         0\n",
       "High         0\n",
       "Low          0\n",
       "Close        0\n",
       "Adj Close    0\n",
       "Volume       0\n",
       "year         0\n",
       "month        0\n",
       "dtype: int64"
      ]
     },
     "execution_count": 11,
     "metadata": {},
     "output_type": "execute_result"
    }
   ],
   "source": [
    "# Checking if there are any missing values\n",
    "df_aapl.isnull().sum()"
   ]
  },
  {
   "cell_type": "markdown",
   "id": "58cb8952",
   "metadata": {},
   "source": [
    "Based on the above, there are no missing values.\n",
    "\n",
    "#### 3.1.2 Checking if there are any duplicated values (semantic anomalies)"
   ]
  },
  {
   "cell_type": "code",
   "execution_count": 12,
   "id": "b1d85e02",
   "metadata": {},
   "outputs": [
    {
     "data": {
      "text/plain": [
       "0"
      ]
     },
     "execution_count": 12,
     "metadata": {},
     "output_type": "execute_result"
    }
   ],
   "source": [
    "# Checking if there are any duplicated values\n",
    "df_aapl.duplicated().sum()"
   ]
  },
  {
   "cell_type": "markdown",
   "id": "b518d85f",
   "metadata": {},
   "source": [
    "Based on the above, there are no duplicated values.\n",
    "\n",
    "#### 3.1.3 Checking for any irregularites such as data format, etc (syntactical anomalies)"
   ]
  },
  {
   "cell_type": "code",
   "execution_count": 13,
   "id": "c708192a",
   "metadata": {},
   "outputs": [
    {
     "data": {
      "text/plain": [
       "Index(['Date', 'Open', 'High', 'Low', 'Close', 'Adj Close', 'Volume', 'year',\n",
       "       'month'],\n",
       "      dtype='object')"
      ]
     },
     "execution_count": 13,
     "metadata": {},
     "output_type": "execute_result"
    }
   ],
   "source": [
    "df_aapl.columns"
   ]
  },
  {
   "cell_type": "code",
   "execution_count": 14,
   "id": "c60d95b6",
   "metadata": {},
   "outputs": [
    {
     "data": {
      "text/plain": [
       "Date         datetime64[ns]\n",
       "Open                float64\n",
       "High                float64\n",
       "Low                 float64\n",
       "Close               float64\n",
       "Adj Close           float64\n",
       "Volume                int64\n",
       "year                  int64\n",
       "month                object\n",
       "dtype: object"
      ]
     },
     "execution_count": 14,
     "metadata": {},
     "output_type": "execute_result"
    }
   ],
   "source": [
    "df_aapl.dtypes"
   ]
  },
  {
   "cell_type": "markdown",
   "id": "83718a0f",
   "metadata": {},
   "source": [
    "Date is in datetime format, which is accurate. \n",
    "\n",
    "The prices (Open, High, Low, Close, Adj Close) are in float format whereas the Volume is in int format. "
   ]
  },
  {
   "cell_type": "markdown",
   "id": "8d656b24",
   "metadata": {},
   "source": [
    "## 3.2 Exploratory data analysis\n",
    "\n",
    "#### 3.2.1 Understanding time series patterns\n",
    "\n",
    "Time series data exhibits a variety of patterns, namely:\n",
    " 1. Trend, which refers to the changing direction of the series (i.e increasing or decreasing). \n",
    " 2. Seasonality occurs where a time series is affected by seasonal factors such as time of the year or day of the week. It is always a fixed and known period.  \n",
    " 3. Cycle occurs when the data exhibit rises and falls that are not of a fixed frequency. These fluctuations are usually due to economic conditions, and are often related to the “business cycle.” The duration of these fluctuations is usually at least 2 years. (Hyndman & Athanasopoulos 2021)\n",
    "\n",
    "#### 3.2.2 Stationarity\n",
    "\n",
    "#### What is stationarity? \n",
    "\n",
    "A stationary time series is one whose statistical properties do not depend on the time at which the series is observed. Thus, time series with trends, or with seasonality, are not stationary — the trend and seasonality will affect the value of the time series at different times (Hyndman & Athanasopoulos 2021).\n",
    "\n",
    "A Time Series is said to be stationary if its statistical properties such as mean, variance remain constant over time.\n",
    "\n",
    "\n",
    "#### Why is stationarity important?\n",
    "\n",
    "Using non-stationary time series data in financial models produces unreliable and spurious results and leads to poor understanding and forecasting. The solution to the problem is to transform the time series data so that it becomes stationary. (Iordanova 2020). "
   ]
  },
  {
   "cell_type": "code",
   "execution_count": 15,
   "id": "b9e0ba82",
   "metadata": {},
   "outputs": [],
   "source": [
    "# Converting Date to index \n",
    "df_aapl.set_index('Date', inplace=True)"
   ]
  },
  {
   "cell_type": "code",
   "execution_count": 16,
   "id": "dec0cc8e",
   "metadata": {
    "scrolled": false
   },
   "outputs": [
    {
     "data": {
      "image/png": "[encoded data removed]",
      "text/plain": [
       "<Figure size 720x432 with 1 Axes>"
      ]
     },
     "metadata": {
      "needs_background": "light"
     },
     "output_type": "display_data"
    }
   ],
   "source": [
    "plt.figure(figsize=(10,6))\n",
    "plt.grid(True)\n",
    "plt.xlabel('Dates')\n",
    "plt.ylabel('Close Prices')\n",
    "plt.plot(df_aapl['Adj Close'])\n",
    "plt.title('AAPL Adj closing price')\n",
    "plt.show()"
   ]
  },
  {
   "cell_type": "code",
   "execution_count": 17,
   "id": "417cced3",
   "metadata": {
    "scrolled": false
   },
   "outputs": [
    {
     "data": {
      "image/png": "[encoded data removed]",
      "text/plain": [
       "<Figure size 1600x560 with 2 Axes>"
      ]
     },
     "metadata": {
      "needs_background": "light"
     },
     "output_type": "display_data"
    }
   ],
   "source": [
    "import seaborn as sns\n",
    "df_aapl.reset_index(inplace=True)\n",
    "\n",
    "# Draw Plot\n",
    "fig, axes = plt.subplots(1, 2, figsize=(20,7), dpi= 80)\n",
    "sns.boxplot(x='year', y='Adj Close', data=df_aapl, ax=axes[0])\n",
    "sns.boxplot(x='month', y='Adj Close', data=df_aapl.loc[~df_aapl.year.isin([2016, 2021]), :])\n",
    "\n",
    "# Set Title\n",
    "axes[0].set_title('Year-wise Box Plot\\n(The Trend)', fontsize=18); \n",
    "axes[1].set_title('Month-wise Box Plot\\n(The Seasonality)', fontsize=18)\n",
    "plt.show()"
   ]
  },
  {
   "cell_type": "code",
   "execution_count": 18,
   "id": "60cba30e",
   "metadata": {},
   "outputs": [],
   "source": [
    "from statsmodels.tsa.stattools import adfuller\n",
    "\n",
    "def test_stationarity(timeseries):\n",
    "    #Determing rolling statistics\n",
    "    rolmean = timeseries.rolling(12).mean()\n",
    "    rolstd = timeseries.rolling(12).std()\n",
    "    #Plot rolling statistics:\n",
    "    plt.plot(timeseries, color='yellow',label='Original')\n",
    "    plt.plot(rolmean, color='red', label='Rolling Mean')\n",
    "    plt.plot(rolstd, color='black', label = 'Rolling Std')\n",
    "    plt.legend(loc='best')\n",
    "    plt.title('Rolling Mean and Standard Deviation')\n",
    "    plt.show(block=False)\n",
    "    print(\"Results of dickey fuller test\")\n",
    "    adft = adfuller(timeseries,autolag='AIC')\n",
    "    # output for dft will give us without defining what the values are.\n",
    "    #hence we manually write what values does it explains using a for loop\n",
    "    output = pd.Series(adft[0:4],index=['Test Statistics','p-value','No. of lags used','Number of observations used'])\n",
    "    for key,values in adft[4].items():\n",
    "        output['critical value (%s)'%key] =  values\n",
    "    print(output)"
   ]
  },
  {
   "cell_type": "code",
   "execution_count": 19,
   "id": "6b1b6f28",
   "metadata": {},
   "outputs": [
    {
     "data": {
      "image/png": "[encoded data removed]",
      "text/plain": [
       "<Figure size 432x288 with 1 Axes>"
      ]
     },
     "metadata": {
      "needs_background": "light"
     },
     "output_type": "display_data"
    },
    {
     "name": "stdout",
     "output_type": "stream",
     "text": [
      "Results of dickey fuller test\n",
      "Test Statistics                   0.273960\n",
      "p-value                           0.976118\n",
      "No. of lags used                 20.000000\n",
      "Number of observations used    1239.000000\n",
      "critical value (1%)              -3.435639\n",
      "critical value (5%)              -2.863876\n",
      "critical value (10%)             -2.568013\n",
      "dtype: float64\n"
     ]
    }
   ],
   "source": [
    "test_stationarity(df_aapl['Adj Close'])"
   ]
  },
  {
   "cell_type": "markdown",
   "id": "d38543be",
   "metadata": {},
   "source": [
    "#### Important Inferences\n",
    " \n",
    "   * The variance and the mean value in September and December is much higher than rest of the months indicating a strong seasonal effect. \n",
    "   * Explanation: Since 2011, Apple tend to launch their iPhones on September; December accounts for Christmas holidays (Infonewt 2020).\n",
    "   * The year on year trend clearly shows that the Closing Price of the AAPL stock have been increasing without fail.\n",
    "   * We can see the increasing mean and standard deviation. Hence, our series is not stationary.\n",
    "\n",
    "Alternatively, we can use the ADF test in order to confirm the stationarity of the data (Jain 2016).\n",
    "\n",
    "Exploring data becomes most important in a time series model – without this exploration, you will not know whether a series is stationary or not. "
   ]
  },
  {
   "cell_type": "markdown",
   "id": "b6a3d305",
   "metadata": {},
   "source": [
    "#### 3.2.3 Removing trend and seasonality"
   ]
  },
  {
   "cell_type": "markdown",
   "id": "2b96ea7c",
   "metadata": {},
   "source": [
    "In transforming our time-series data, we will consider two methods for removing trend and seasonality thus turning the data stationary:\n",
    " 1. Decomposition\n",
    " 2. Differencing (for financial data - we use Fractional Differencing)\n",
    "\n",
    "#### 3.2.3.1 Decomposition\n",
    "\n",
    "Time series data can exhibit a variety of patterns, and it is often helpful to split a time series into several components, each representing an underlying pattern category (Hyndman & Athanasopoulos 2021).\n",
    "\n",
    "When we decompose a time series into components, we usually combine the trend and cycle into a single trend-cycle component (often just called the trend for simplicity). Thus we can think of a time series as comprising three components: \n",
    " * A trend-cycle component, \n",
    " * a seasonal component, and \n",
    " * a remainder/residual component (containing anything else in the time series). \n",
    "\n",
    "We will extract these components from a time series in order to improve our understanding of the time series as well as improve forecast accuracy."
   ]
  },
  {
   "cell_type": "code",
   "execution_count": 20,
   "id": "4cee6c01",
   "metadata": {},
   "outputs": [
    {
     "data": {
      "text/plain": [
       "<Figure size 432x288 with 0 Axes>"
      ]
     },
     "metadata": {},
     "output_type": "display_data"
    },
    {
     "data": {
      "image/png": "[encoded data removed]",
      "text/plain": [
       "<Figure size 1152x648 with 4 Axes>"
      ]
     },
     "metadata": {
      "needs_background": "light"
     },
     "output_type": "display_data"
    }
   ],
   "source": [
    "from statsmodels.tsa.seasonal import seasonal_decompose\n",
    "\n",
    "# Applying log transformation on Close price\n",
    "aapl_log = np.log(df_aapl['Adj Close'])\n",
    "\n",
    "decomposition = seasonal_decompose(aapl_log, model='multiplicative', freq = 30)\n",
    "fig = plt.figure()  \n",
    "fig = decomposition.plot()  \n",
    "fig.set_size_inches(16, 9)"
   ]
  },
  {
   "cell_type": "code",
   "execution_count": 21,
   "id": "7b05be11",
   "metadata": {},
   "outputs": [],
   "source": [
    "trend = decomposition.trend\n",
    "seasonal = decomposition.seasonal\n",
    "residual = decomposition.resid"
   ]
  },
  {
   "cell_type": "markdown",
   "id": "ad84f31f",
   "metadata": {},
   "source": [
    "The residual component shown in the bottom panel is what is left over when the seasonal and trend-cycle components have been subtracted from the data."
   ]
  },
  {
   "cell_type": "code",
   "execution_count": 22,
   "id": "d2a88d22",
   "metadata": {
    "scrolled": false
   },
   "outputs": [
    {
     "data": {
      "image/png": "[encoded data removed]",
      "text/plain": [
       "<Figure size 432x288 with 1 Axes>"
      ]
     },
     "metadata": {
      "needs_background": "light"
     },
     "output_type": "display_data"
    },
    {
     "name": "stdout",
     "output_type": "stream",
     "text": [
      "Results of dickey fuller test\n",
      "Test Statistics               -9.907222e+00\n",
      "p-value                        3.239387e-17\n",
      "No. of lags used               2.100000e+01\n",
      "Number of observations used    1.208000e+03\n",
      "critical value (1%)           -3.435775e+00\n",
      "critical value (5%)           -2.863936e+00\n",
      "critical value (10%)          -2.568045e+00\n",
      "dtype: float64\n"
     ]
    }
   ],
   "source": [
    "aapl_decompose = residual\n",
    "aapl_decompose.dropna(inplace=True)\n",
    "test_stationarity(aapl_decompose)"
   ]
  },
  {
   "cell_type": "code",
   "execution_count": 23,
   "id": "3b1d2b21",
   "metadata": {},
   "outputs": [
    {
     "data": {
      "text/plain": [
       "15    1.010864\n",
       "16    1.011101\n",
       "17    1.011635\n",
       "18    0.993344\n",
       "19    0.984179\n",
       "Name: resid, dtype: float64"
      ]
     },
     "execution_count": 23,
     "metadata": {},
     "output_type": "execute_result"
    }
   ],
   "source": [
    "aapl_decompose.head()"
   ]
  },
  {
   "cell_type": "markdown",
   "id": "cbc939f6",
   "metadata": {},
   "source": [
    "The Dickey-Fuller test statistic is significantly lower than the 1% critical value. This time series is very close to stationary. \n",
    "\n",
    "However, based on the above, the AAPL stock is very much dominated by the trend and the seasonal components of the time series, with the residual component generally playing a minor role. For this reason, we will consider a differencing method for removing the trend and seasonality. "
   ]
  },
  {
   "cell_type": "markdown",
   "id": "d1f0e69b",
   "metadata": {},
   "source": [
    "#### 3.2.3.2 Differencing \n",
    "\n",
    "The commonly used transformation to make a series stationary is differencing up to some order: first order differencing is simply subtracting from each value the preceding one (extracting the rate of change). Second order differencing repeats this process for the resulting series and so on for higher orders. Eg in financial time series, you would consider (log) returns instead of absolute prices to make the model agnostic to the specific price level (in fact, for most financial sequences, first order differencing suffices to ensure stationarity. However, on the other hand, it wipes out memory which is the basis for the predictive power of the model: differencing restricts how past information propagates through the series (Kuttruff 2019)\n",
    "\n",
    "In order to preserve the memory, we will use Fractional Differencing. Using fractionally differenced variables as dependent variables or features for time series modelling could improve predictive performance in many cases because the time series is allowed to retain more memory while still being stationary. The codes below is extracted from De Prado's book (De Prado 2018). "
   ]
  },
  {
   "cell_type": "code",
   "execution_count": 24,
   "id": "560b8b55",
   "metadata": {},
   "outputs": [],
   "source": [
    "# Function to calculate the weights iteratively till a given threshold\n",
    "def getWeights_threshold(d, thres):\n",
    "    # Intitialise inital weight\n",
    "    w, k = [1.], 1\n",
    "    while True:\n",
    "        # Generate weight using previous weight\n",
    "        w_ = -w[-1]/k*(d-k+1)\n",
    "        # Break if absolute value of weight is below a prefixed threshold\n",
    "        if abs(w_) < thres:\n",
    "            break\n",
    "        w.append(w_)\n",
    "        k += 1\n",
    "    return np.array(w[::-1]).reshape(-1, 1)"
   ]
  },
  {
   "cell_type": "code",
   "execution_count": 25,
   "id": "03f7174c",
   "metadata": {},
   "outputs": [],
   "source": [
    "def fracDiff(series, d, thres=0.001):\n",
    "    # Generate weights using the generator\n",
    "    w = getWeights_threshold(d, thres)\n",
    "    df = {}\n",
    "    # Iterate over each column in the dataframe\n",
    "    for name in series.columns:\n",
    "        # Fill in the NaN values previous values\n",
    "        df_ = pd.Series(series[name].values, index=series.index).fillna(\n",
    "            method='ffill').dropna()\n",
    "        x = pd.Series(0, index=df_.index)\n",
    "        for k in range(w.shape[0]):\n",
    "            # Apply the generated weights on the lags\n",
    "            x = x+w[k, 0]*df_.shift(-k)\n",
    "    # df[name]=x.dropna().copy(deep=True)\n",
    "    df[name] = x.shift(k).copy(deep=True)\n",
    "    df = pd.concat(df, axis=1)\n",
    "    return df"
   ]
  },
  {
   "cell_type": "code",
   "execution_count": 26,
   "id": "8f8119ad",
   "metadata": {},
   "outputs": [],
   "source": [
    "# Function to find the optimal value of d\n",
    "def findMinD(series):\n",
    "    # Iterate over a range of d\n",
    "    for d in np.linspace(0, 1, 11):\n",
    "        # Find the fractionally differentiated series\n",
    "        df_ = fracDiff(series, d, thres=0.01).dropna()\n",
    "        # Get the ADF statistic\n",
    "        res = adfuller(df_.iloc[:, 0].values, maxlag=1,\n",
    "                       regression='c', autolag=None)\n",
    "        # Check if stationary \n",
    "        if (res[0] <= res[4]['1%']):\n",
    "            return d\n",
    "    return 1.0"
   ]
  },
  {
   "cell_type": "code",
   "execution_count": 27,
   "id": "01585bf8",
   "metadata": {},
   "outputs": [],
   "source": [
    "# Must use log prices for FD\n",
    "logAAPL = pd.DataFrame(np.log(df_aapl['Adj Close']))\n",
    "logAAPL1 = pd.DataFrame(np.log(df_aapl['High']))\n",
    "logAAPL2 = pd.DataFrame(np.log(df_aapl['Low']))\n",
    "logAAPL3 = pd.DataFrame(np.log(df_aapl['Open']))\n",
    "\n",
    "# Find the minimum optimal value of d\n",
    "d = findMinD(logAAPL)\n",
    "d1 = findMinD(logAAPL1)\n",
    "d2 = findMinD(logAAPL2)\n",
    "d3 = findMinD(logAAPL3)\n",
    "\n",
    "# Use the minimum value of d to get a FD series\n",
    "logAAPL_FD = fracDiff(logAAPL, d, thres=0.01)\n",
    "logAAPL_FD1 = fracDiff(logAAPL1, d1, thres=0.01)\n",
    "logAAPL_FD2 = fracDiff(logAAPL2, d2, thres=0.01)\n",
    "logAAPL_FD3 = fracDiff(logAAPL3, d3, thres=0.01)\n",
    "\n",
    "# Remove NaN values\n",
    "logAAPL_FD.dropna(inplace=True)\n",
    "logAAPL_FD1.dropna(inplace=True)\n",
    "logAAPL_FD2.dropna(inplace=True)\n",
    "logAAPL_FD3.dropna(inplace=True)"
   ]
  },
  {
   "cell_type": "code",
   "execution_count": 28,
   "id": "ce683b48",
   "metadata": {},
   "outputs": [
    {
     "name": "stdout",
     "output_type": "stream",
     "text": [
      "The value of d for generating binomial weights for Fractional differentiation: 0.6000000000000001\n"
     ]
    }
   ],
   "source": [
    "print(\"The value of d for generating binomial weights for Fractional differentiation: \"+str(d))"
   ]
  },
  {
   "cell_type": "code",
   "execution_count": 29,
   "id": "b86c15f5",
   "metadata": {},
   "outputs": [],
   "source": [
    "# ADF statisitc of the log of the original close price\n",
    "original_adf = adfuller(logAAPL.iloc[:, 0].values)[0]\n",
    "\n",
    "# Get the daily returns on the close price\n",
    "diff = logAAPL.pct_change()\n",
    "\n",
    "# Drop all NaN values\n",
    "diff.dropna(inplace=True)\n",
    "\n",
    "# ADF statistic of the daily returns of log of the original close price\n",
    "log_diff_adf = adfuller(diff.iloc[:, 0].values)[0]\n",
    "\n",
    "# ADF statisitc of the fractionally differentiated log closing price series\n",
    "fd_series_adf = adfuller(logAAPL_FD.iloc[:, 0])[0]"
   ]
  },
  {
   "cell_type": "code",
   "execution_count": 30,
   "id": "6fca2555",
   "metadata": {},
   "outputs": [
    {
     "name": "stdout",
     "output_type": "stream",
     "text": [
      "The adf statistic of the log of the close price: -0.037502952662594326\n",
      "The adf statistic of the returns of the close price: -10.62266163370912\n",
      "The adf statistic of the fractionally differenced close price: -0.8701244775265209\n"
     ]
    }
   ],
   "source": [
    "# Print the ADF statistic of the series calculated above\n",
    "print(\"The adf statistic of the log of the close price: \"+str(original_adf))\n",
    "print(\"The adf statistic of the returns of the close price: \"+str(log_diff_adf))\n",
    "print(\"The adf statistic of the fractionally differenced close price: \"+str(fd_series_adf))"
   ]
  },
  {
   "cell_type": "code",
   "execution_count": 31,
   "id": "abf5c068",
   "metadata": {},
   "outputs": [
    {
     "data": {
      "image/png": "[encoded data removed]",
      "text/plain": [
       "<Figure size 720x504 with 1 Axes>"
      ]
     },
     "metadata": {
      "needs_background": "light"
     },
     "output_type": "display_data"
    }
   ],
   "source": [
    "# Define the figure size for the plot\n",
    "plt.figure(figsize=(10, 7))\n",
    "\n",
    "# Define the label for the title of the figure\n",
    "plt.title(\"Fractionally differentiated Time-Series of AAPL\", fontsize=16)\n",
    "\n",
    "# Define the labels for x-axis and y-axis\n",
    "plt.xlabel(\"Time\", fontsize=14)\n",
    "plt.ylabel(\"Log Close Prices\", fontsize=14)\n",
    "\n",
    "# Define the tick size for x-axis and y-axis\n",
    "plt.xticks(fontsize=12)\n",
    "plt.yticks(fontsize=12)\n",
    "plt.grid()\n",
    "\n",
    "# Plotting the cumulation of the daily returns of tick bars\n",
    "plt.plot(logAAPL_FD, color='g')\n",
    "plt.plot(diff, color='b')\n",
    "plt.plot(logAAPL, color='r')\n",
    "\n",
    "plt.show()"
   ]
  },
  {
   "cell_type": "markdown",
   "id": "a6d20117",
   "metadata": {},
   "source": [
    "As is evident from the graph the fractionally differenced series (green) preserves more memory than the return series (blue) but less than the original series (red). It is a minimally differentiated series that is stationary.\n",
    "\n",
    "For this reason, we will use the fractionally differenced Close price as one of the input features for our model. "
   ]
  },
  {
   "cell_type": "code",
   "execution_count": 32,
   "id": "4609f30b",
   "metadata": {},
   "outputs": [
    {
     "data": {
      "image/png": "[encoded data removed]",
      "text/plain": [
       "<Figure size 432x288 with 1 Axes>"
      ]
     },
     "metadata": {
      "needs_background": "light"
     },
     "output_type": "display_data"
    },
    {
     "name": "stdout",
     "output_type": "stream",
     "text": [
      "Results of dickey fuller test\n",
      "Test Statistics                  -0.870124\n",
      "p-value                           0.797652\n",
      "No. of lags used                 17.000000\n",
      "Number of observations used    1234.000000\n",
      "critical value (1%)              -3.435660\n",
      "critical value (5%)              -2.863885\n",
      "critical value (10%)             -2.568019\n",
      "dtype: float64\n"
     ]
    }
   ],
   "source": [
    "test_stationarity(logAAPL_FD)"
   ]
  },
  {
   "cell_type": "markdown",
   "id": "7a08c05b",
   "metadata": {},
   "source": [
    "The Dickey-Fuller test statistic is closer to the 1% critical value. Although the decomposed time series is more stationary, it preserves more memory which is the basis for the predictive power of the model: differencing restricts how past information propagates through the series."
   ]
  },
  {
   "cell_type": "code",
   "execution_count": 33,
   "id": "b1d85839",
   "metadata": {},
   "outputs": [],
   "source": [
    "# Adding Close_FD into the df_aapl dataframe\n",
    "df_aapl['Close_FD'] = logAAPL_FD['Adj Close']\n",
    "\n",
    "# Adding High_FD into the df_aapl dataframe\n",
    "df_aapl['High_FD'] = logAAPL_FD1['High']\n",
    "\n",
    "# Adding Low_FD into the df_aapl dataframe\n",
    "df_aapl['Low_FD'] = logAAPL_FD2['Low']\n",
    "\n",
    "# Adding Open_FD into the df_aapl dataframe\n",
    "df_aapl['Open_FD'] = logAAPL_FD3['Open']"
   ]
  },
  {
   "cell_type": "code",
   "execution_count": 34,
   "id": "3d13ec96",
   "metadata": {
    "scrolled": true
   },
   "outputs": [
    {
     "data": {
      "text/html": [
       "<div>\n",
       "<style scoped>\n",
       "    .dataframe tbody tr th:only-of-type {\n",
       "        vertical-align: middle;\n",
       "    }\n",
       "\n",
       "    .dataframe tbody tr th {\n",
       "        vertical-align: top;\n",
       "    }\n",
       "\n",
       "    .dataframe thead th {\n",
       "        text-align: right;\n",
       "    }\n",
       "</style>\n",
       "<table border=\"1\" class=\"dataframe\">\n",
       "  <thead>\n",
       "    <tr style=\"text-align: right;\">\n",
       "      <th></th>\n",
       "      <th>Date</th>\n",
       "      <th>Open</th>\n",
       "      <th>High</th>\n",
       "      <th>Low</th>\n",
       "      <th>Close</th>\n",
       "      <th>Adj Close</th>\n",
       "      <th>Volume</th>\n",
       "      <th>year</th>\n",
       "      <th>month</th>\n",
       "      <th>Close_FD</th>\n",
       "      <th>High_FD</th>\n",
       "      <th>Low_FD</th>\n",
       "      <th>Open_FD</th>\n",
       "    </tr>\n",
       "  </thead>\n",
       "  <tbody>\n",
       "    <tr>\n",
       "      <th>1255</th>\n",
       "      <td>2021-03-26</td>\n",
       "      <td>120.349998</td>\n",
       "      <td>121.480003</td>\n",
       "      <td>118.919998</td>\n",
       "      <td>121.209999</td>\n",
       "      <td>121.209999</td>\n",
       "      <td>93958900</td>\n",
       "      <td>2021</td>\n",
       "      <td>Mar</td>\n",
       "      <td>0.614401</td>\n",
       "      <td>0.606763</td>\n",
       "      <td>0.604769</td>\n",
       "      <td>0.610071</td>\n",
       "    </tr>\n",
       "    <tr>\n",
       "      <th>1256</th>\n",
       "      <td>2021-03-29</td>\n",
       "      <td>121.650002</td>\n",
       "      <td>122.580002</td>\n",
       "      <td>120.730003</td>\n",
       "      <td>121.389999</td>\n",
       "      <td>121.389999</td>\n",
       "      <td>80819200</td>\n",
       "      <td>2021</td>\n",
       "      <td>Mar</td>\n",
       "      <td>0.613622</td>\n",
       "      <td>0.618564</td>\n",
       "      <td>0.622182</td>\n",
       "      <td>0.620004</td>\n",
       "    </tr>\n",
       "    <tr>\n",
       "      <th>1257</th>\n",
       "      <td>2021-03-30</td>\n",
       "      <td>120.110001</td>\n",
       "      <td>120.400002</td>\n",
       "      <td>118.860001</td>\n",
       "      <td>119.900002</td>\n",
       "      <td>119.900002</td>\n",
       "      <td>85671900</td>\n",
       "      <td>2021</td>\n",
       "      <td>Mar</td>\n",
       "      <td>0.600316</td>\n",
       "      <td>0.596327</td>\n",
       "      <td>0.598470</td>\n",
       "      <td>0.601455</td>\n",
       "    </tr>\n",
       "    <tr>\n",
       "      <th>1258</th>\n",
       "      <td>2021-03-31</td>\n",
       "      <td>121.650002</td>\n",
       "      <td>123.519997</td>\n",
       "      <td>121.150002</td>\n",
       "      <td>122.150002</td>\n",
       "      <td>122.150002</td>\n",
       "      <td>118323800</td>\n",
       "      <td>2021</td>\n",
       "      <td>Mar</td>\n",
       "      <td>0.625976</td>\n",
       "      <td>0.632107</td>\n",
       "      <td>0.625568</td>\n",
       "      <td>0.620971</td>\n",
       "    </tr>\n",
       "    <tr>\n",
       "      <th>1259</th>\n",
       "      <td>2021-04-01</td>\n",
       "      <td>123.660004</td>\n",
       "      <td>124.180000</td>\n",
       "      <td>122.489998</td>\n",
       "      <td>123.000000</td>\n",
       "      <td>123.000000</td>\n",
       "      <td>74957400</td>\n",
       "      <td>2021</td>\n",
       "      <td>Apr</td>\n",
       "      <td>0.623026</td>\n",
       "      <td>0.623954</td>\n",
       "      <td>0.626409</td>\n",
       "      <td>0.630748</td>\n",
       "    </tr>\n",
       "  </tbody>\n",
       "</table>\n",
       "</div>"
      ],
      "text/plain": [
       "           Date        Open        High         Low       Close   Adj Close  \\\n",
       "1255 2021-03-26  120.349998  121.480003  118.919998  121.209999  121.209999   \n",
       "1256 2021-03-29  121.650002  122.580002  120.730003  121.389999  121.389999   \n",
       "1257 2021-03-30  120.110001  120.400002  118.860001  119.900002  119.900002   \n",
       "1258 2021-03-31  121.650002  123.519997  121.150002  122.150002  122.150002   \n",
       "1259 2021-04-01  123.660004  124.180000  122.489998  123.000000  123.000000   \n",
       "\n",
       "         Volume  year month  Close_FD   High_FD    Low_FD   Open_FD  \n",
       "1255   93958900  2021   Mar  0.614401  0.606763  0.604769  0.610071  \n",
       "1256   80819200  2021   Mar  0.613622  0.618564  0.622182  0.620004  \n",
       "1257   85671900  2021   Mar  0.600316  0.596327  0.598470  0.601455  \n",
       "1258  118323800  2021   Mar  0.625976  0.632107  0.625568  0.620971  \n",
       "1259   74957400  2021   Apr  0.623026  0.623954  0.626409  0.630748  "
      ]
     },
     "execution_count": 34,
     "metadata": {},
     "output_type": "execute_result"
    }
   ],
   "source": [
    "df_aapl.tail()"
   ]
  },
  {
   "cell_type": "markdown",
   "id": "0e77b758",
   "metadata": {},
   "source": [
    "## 3.3 Feature Engineering\n",
    "\n",
    "### 3.3.1 Creating predictor variables\n",
    "\n",
    "We will use the following as input features for our models in order to account for the mean-reversion strategy and momentum-based strategy:\n",
    " 1. Fractionally differenced Close Price\n",
    " 2. Technical Indicators (ADX, SMA, MACD, RSI, BBANDS, Standard deviation)\n",
    " 5. Volume \n",
    "\n",
    "The technical indicators are created using the TA-Lib package, which we have imported earlier. "
   ]
  },
  {
   "cell_type": "code",
   "execution_count": 35,
   "id": "d70f40d1",
   "metadata": {},
   "outputs": [],
   "source": [
    "# Computing Average Directional Index (ADX) for 14 days\n",
    "df_aapl['ADX_FD'] = ta.ADX(df_aapl['High_FD'].values, df_aapl['Low_FD'].values,\n",
    "                   df_aapl['Close_FD'].values, timeperiod=14)\n",
    "\n",
    "# Computing Simple Moving Average (SMA) for 20 days\n",
    "df_aapl['SMA_FD'] = ta.SMA(df_aapl['Close_FD'].values, timeperiod=20)\n",
    "\n",
    "# Computing Moving Average Convergenge/Divergence (MACD)\n",
    "df_aapl['macd'], df_aapl['macdsignal'], df_aapl['macdhist'] = ta.MACD(df_aapl['Close_FD'], fastperiod=12, slowperiod=26, signalperiod=9)"
   ]
  },
  {
   "cell_type": "code",
   "execution_count": 36,
   "id": "bb25508c",
   "metadata": {},
   "outputs": [],
   "source": [
    "# Computing Bollinger Bands (BBANDS) for 5 days\n",
    "df_aapl['upperband'], df_aapl['middleband'], df_aapl['lowerband'] = ta.BBANDS(df_aapl['Close_FD'].values, timeperiod=5)\n",
    "\n",
    "# Computing Relative Strength Index (RSI) for 14 days\n",
    "df_aapl['RSI_FD'] = ta.RSI(df_aapl['Close_FD'].values, timeperiod=14)\n",
    "\n",
    "# One day returns\n",
    "df_aapl['ret1'] = df_aapl.Close_FD.pct_change()\n",
    "\n",
    "# 5 day Standard Deviation\n",
    "df_aapl['std5'] = df_aapl.ret1.rolling(5).std()\n",
    "\n",
    "# 10 day Standard Deviation\n",
    "df_aapl['std10'] = df_aapl.ret1.rolling(10).std()\n",
    "\n",
    "# 20 day Standard Deviation\n",
    "df_aapl['std20'] = df_aapl.ret1.rolling(20).std()\n",
    "\n",
    "# 40 day Standard Deviation\n",
    "df_aapl['std40'] = df_aapl.ret1.rolling(40).std()"
   ]
  },
  {
   "cell_type": "code",
   "execution_count": 37,
   "id": "859fb00f",
   "metadata": {},
   "outputs": [
    {
     "data": {
      "text/html": [
       "<div>\n",
       "<style scoped>\n",
       "    .dataframe tbody tr th:only-of-type {\n",
       "        vertical-align: middle;\n",
       "    }\n",
       "\n",
       "    .dataframe tbody tr th {\n",
       "        vertical-align: top;\n",
       "    }\n",
       "\n",
       "    .dataframe thead th {\n",
       "        text-align: right;\n",
       "    }\n",
       "</style>\n",
       "<table border=\"1\" class=\"dataframe\">\n",
       "  <thead>\n",
       "    <tr style=\"text-align: right;\">\n",
       "      <th></th>\n",
       "      <th>Date</th>\n",
       "      <th>Open</th>\n",
       "      <th>High</th>\n",
       "      <th>Low</th>\n",
       "      <th>Close</th>\n",
       "      <th>Adj Close</th>\n",
       "      <th>Volume</th>\n",
       "      <th>year</th>\n",
       "      <th>month</th>\n",
       "      <th>Close_FD</th>\n",
       "      <th>...</th>\n",
       "      <th>macdhist</th>\n",
       "      <th>upperband</th>\n",
       "      <th>middleband</th>\n",
       "      <th>lowerband</th>\n",
       "      <th>RSI_FD</th>\n",
       "      <th>ret1</th>\n",
       "      <th>std5</th>\n",
       "      <th>std10</th>\n",
       "      <th>std20</th>\n",
       "      <th>std40</th>\n",
       "    </tr>\n",
       "  </thead>\n",
       "  <tbody>\n",
       "    <tr>\n",
       "      <th>1255</th>\n",
       "      <td>2021-03-26</td>\n",
       "      <td>120.349998</td>\n",
       "      <td>121.480003</td>\n",
       "      <td>118.919998</td>\n",
       "      <td>121.209999</td>\n",
       "      <td>121.209999</td>\n",
       "      <td>93958900</td>\n",
       "      <td>2021</td>\n",
       "      <td>Mar</td>\n",
       "      <td>0.614401</td>\n",
       "      <td>...</td>\n",
       "      <td>0.000067</td>\n",
       "      <td>0.637826</td>\n",
       "      <td>0.612252</td>\n",
       "      <td>0.586678</td>\n",
       "      <td>50.484488</td>\n",
       "      <td>0.008437</td>\n",
       "      <td>0.038674</td>\n",
       "      <td>0.037220</td>\n",
       "      <td>0.052316</td>\n",
       "      <td>0.042551</td>\n",
       "    </tr>\n",
       "    <tr>\n",
       "      <th>1256</th>\n",
       "      <td>2021-03-29</td>\n",
       "      <td>121.650002</td>\n",
       "      <td>122.580002</td>\n",
       "      <td>120.730003</td>\n",
       "      <td>121.389999</td>\n",
       "      <td>121.389999</td>\n",
       "      <td>80819200</td>\n",
       "      <td>2021</td>\n",
       "      <td>Mar</td>\n",
       "      <td>0.613622</td>\n",
       "      <td>...</td>\n",
       "      <td>0.000317</td>\n",
       "      <td>0.624029</td>\n",
       "      <td>0.608350</td>\n",
       "      <td>0.592671</td>\n",
       "      <td>50.341088</td>\n",
       "      <td>-0.001268</td>\n",
       "      <td>0.026046</td>\n",
       "      <td>0.033991</td>\n",
       "      <td>0.047649</td>\n",
       "      <td>0.042238</td>\n",
       "    </tr>\n",
       "    <tr>\n",
       "      <th>1257</th>\n",
       "      <td>2021-03-30</td>\n",
       "      <td>120.110001</td>\n",
       "      <td>120.400002</td>\n",
       "      <td>118.860001</td>\n",
       "      <td>119.900002</td>\n",
       "      <td>119.900002</td>\n",
       "      <td>85671900</td>\n",
       "      <td>2021</td>\n",
       "      <td>Mar</td>\n",
       "      <td>0.600316</td>\n",
       "      <td>...</td>\n",
       "      <td>-0.000383</td>\n",
       "      <td>0.622586</td>\n",
       "      <td>0.606138</td>\n",
       "      <td>0.589689</td>\n",
       "      <td>47.840760</td>\n",
       "      <td>-0.021684</td>\n",
       "      <td>0.023034</td>\n",
       "      <td>0.034493</td>\n",
       "      <td>0.044672</td>\n",
       "      <td>0.040817</td>\n",
       "    </tr>\n",
       "    <tr>\n",
       "      <th>1258</th>\n",
       "      <td>2021-03-31</td>\n",
       "      <td>121.650002</td>\n",
       "      <td>123.519997</td>\n",
       "      <td>121.150002</td>\n",
       "      <td>122.150002</td>\n",
       "      <td>122.150002</td>\n",
       "      <td>118323800</td>\n",
       "      <td>2021</td>\n",
       "      <td>Mar</td>\n",
       "      <td>0.625976</td>\n",
       "      <td>...</td>\n",
       "      <td>0.000848</td>\n",
       "      <td>0.629333</td>\n",
       "      <td>0.612715</td>\n",
       "      <td>0.596098</td>\n",
       "      <td>52.717916</td>\n",
       "      <td>0.042744</td>\n",
       "      <td>0.024987</td>\n",
       "      <td>0.036543</td>\n",
       "      <td>0.045121</td>\n",
       "      <td>0.041375</td>\n",
       "    </tr>\n",
       "    <tr>\n",
       "      <th>1259</th>\n",
       "      <td>2021-04-01</td>\n",
       "      <td>123.660004</td>\n",
       "      <td>124.180000</td>\n",
       "      <td>122.489998</td>\n",
       "      <td>123.000000</td>\n",
       "      <td>123.000000</td>\n",
       "      <td>74957400</td>\n",
       "      <td>2021</td>\n",
       "      <td>Apr</td>\n",
       "      <td>0.623026</td>\n",
       "      <td>...</td>\n",
       "      <td>0.001395</td>\n",
       "      <td>0.633394</td>\n",
       "      <td>0.615468</td>\n",
       "      <td>0.597543</td>\n",
       "      <td>52.114597</td>\n",
       "      <td>-0.004713</td>\n",
       "      <td>0.023883</td>\n",
       "      <td>0.031003</td>\n",
       "      <td>0.045152</td>\n",
       "      <td>0.041286</td>\n",
       "    </tr>\n",
       "  </tbody>\n",
       "</table>\n",
       "<p>5 rows × 27 columns</p>\n",
       "</div>"
      ],
      "text/plain": [
       "           Date        Open        High         Low       Close   Adj Close  \\\n",
       "1255 2021-03-26  120.349998  121.480003  118.919998  121.209999  121.209999   \n",
       "1256 2021-03-29  121.650002  122.580002  120.730003  121.389999  121.389999   \n",
       "1257 2021-03-30  120.110001  120.400002  118.860001  119.900002  119.900002   \n",
       "1258 2021-03-31  121.650002  123.519997  121.150002  122.150002  122.150002   \n",
       "1259 2021-04-01  123.660004  124.180000  122.489998  123.000000  123.000000   \n",
       "\n",
       "         Volume  year month  Close_FD  ...  macdhist  upperband  middleband  \\\n",
       "1255   93958900  2021   Mar  0.614401  ...  0.000067   0.637826    0.612252   \n",
       "1256   80819200  2021   Mar  0.613622  ...  0.000317   0.624029    0.608350   \n",
       "1257   85671900  2021   Mar  0.600316  ... -0.000383   0.622586    0.606138   \n",
       "1258  118323800  2021   Mar  0.625976  ...  0.000848   0.629333    0.612715   \n",
       "1259   74957400  2021   Apr  0.623026  ...  0.001395   0.633394    0.615468   \n",
       "\n",
       "      lowerband     RSI_FD      ret1      std5     std10     std20     std40  \n",
       "1255   0.586678  50.484488  0.008437  0.038674  0.037220  0.052316  0.042551  \n",
       "1256   0.592671  50.341088 -0.001268  0.026046  0.033991  0.047649  0.042238  \n",
       "1257   0.589689  47.840760 -0.021684  0.023034  0.034493  0.044672  0.040817  \n",
       "1258   0.596098  52.717916  0.042744  0.024987  0.036543  0.045121  0.041375  \n",
       "1259   0.597543  52.114597 -0.004713  0.023883  0.031003  0.045152  0.041286  \n",
       "\n",
       "[5 rows x 27 columns]"
      ]
     },
     "execution_count": 37,
     "metadata": {},
     "output_type": "execute_result"
    }
   ],
   "source": [
    "df_aapl.tail()"
   ]
  },
  {
   "cell_type": "markdown",
   "id": "b26d1498",
   "metadata": {},
   "source": [
    "## 3.3.2 Creating target variable\n",
    "\n",
    "#### 3.3.2.1 Computing Daily Future Returns \n",
    "\n",
    "Next, we compute the daily future returns on the close price.\n",
    "\n",
    "The target variable, that is the variable we are trying to predict, is one-day future returns.\n",
    "\n",
    "We define the target variable which is the future one-day returns of the Apple stock. <BR>\n",
    "<font color='blue'>shift(periods=n)</font> shifts the values by n period(s). If the value of n is negative then, it shifts the values backwards and vice-versa."
   ]
  },
  {
   "cell_type": "code",
   "execution_count": 38,
   "id": "168ac668",
   "metadata": {},
   "outputs": [],
   "source": [
    "df_aapl['actual_return'] = df_aapl['Close_FD'].pct_change(1).shift(-1)"
   ]
  },
  {
   "cell_type": "code",
   "execution_count": 39,
   "id": "0a76dfc0",
   "metadata": {
    "scrolled": true
   },
   "outputs": [
    {
     "data": {
      "text/html": [
       "<div>\n",
       "<style scoped>\n",
       "    .dataframe tbody tr th:only-of-type {\n",
       "        vertical-align: middle;\n",
       "    }\n",
       "\n",
       "    .dataframe tbody tr th {\n",
       "        vertical-align: top;\n",
       "    }\n",
       "\n",
       "    .dataframe thead th {\n",
       "        text-align: right;\n",
       "    }\n",
       "</style>\n",
       "<table border=\"1\" class=\"dataframe\">\n",
       "  <thead>\n",
       "    <tr style=\"text-align: right;\">\n",
       "      <th></th>\n",
       "      <th>Date</th>\n",
       "      <th>Open</th>\n",
       "      <th>High</th>\n",
       "      <th>Low</th>\n",
       "      <th>Close</th>\n",
       "      <th>Adj Close</th>\n",
       "      <th>Volume</th>\n",
       "      <th>year</th>\n",
       "      <th>month</th>\n",
       "      <th>Close_FD</th>\n",
       "      <th>...</th>\n",
       "      <th>upperband</th>\n",
       "      <th>middleband</th>\n",
       "      <th>lowerband</th>\n",
       "      <th>RSI_FD</th>\n",
       "      <th>ret1</th>\n",
       "      <th>std5</th>\n",
       "      <th>std10</th>\n",
       "      <th>std20</th>\n",
       "      <th>std40</th>\n",
       "      <th>actual_return</th>\n",
       "    </tr>\n",
       "  </thead>\n",
       "  <tbody>\n",
       "    <tr>\n",
       "      <th>48</th>\n",
       "      <td>2016-06-09</td>\n",
       "      <td>24.625000</td>\n",
       "      <td>24.997499</td>\n",
       "      <td>24.615000</td>\n",
       "      <td>24.912500</td>\n",
       "      <td>23.312412</td>\n",
       "      <td>106405600</td>\n",
       "      <td>2016</td>\n",
       "      <td>Jun</td>\n",
       "      <td>0.408346</td>\n",
       "      <td>...</td>\n",
       "      <td>0.410767</td>\n",
       "      <td>0.403261</td>\n",
       "      <td>0.395755</td>\n",
       "      <td>50.969145</td>\n",
       "      <td>0.017987</td>\n",
       "      <td>0.013168</td>\n",
       "      <td>0.018303</td>\n",
       "      <td>0.035416</td>\n",
       "      <td>0.040317</td>\n",
       "      <td>-0.030858</td>\n",
       "    </tr>\n",
       "    <tr>\n",
       "      <th>49</th>\n",
       "      <td>2016-06-10</td>\n",
       "      <td>24.632500</td>\n",
       "      <td>24.837500</td>\n",
       "      <td>24.620001</td>\n",
       "      <td>24.707500</td>\n",
       "      <td>23.120579</td>\n",
       "      <td>126851600</td>\n",
       "      <td>2016</td>\n",
       "      <td>Jun</td>\n",
       "      <td>0.395745</td>\n",
       "      <td>...</td>\n",
       "      <td>0.411479</td>\n",
       "      <td>0.402950</td>\n",
       "      <td>0.394420</td>\n",
       "      <td>46.102008</td>\n",
       "      <td>-0.030858</td>\n",
       "      <td>0.020629</td>\n",
       "      <td>0.020060</td>\n",
       "      <td>0.034292</td>\n",
       "      <td>0.040462</td>\n",
       "      <td>-0.028131</td>\n",
       "    </tr>\n",
       "    <tr>\n",
       "      <th>50</th>\n",
       "      <td>2016-06-13</td>\n",
       "      <td>24.672501</td>\n",
       "      <td>24.780001</td>\n",
       "      <td>24.275000</td>\n",
       "      <td>24.334999</td>\n",
       "      <td>22.772001</td>\n",
       "      <td>152082000</td>\n",
       "      <td>2016</td>\n",
       "      <td>Jun</td>\n",
       "      <td>0.384613</td>\n",
       "      <td>...</td>\n",
       "      <td>0.415526</td>\n",
       "      <td>0.398940</td>\n",
       "      <td>0.382354</td>\n",
       "      <td>42.262212</td>\n",
       "      <td>-0.028131</td>\n",
       "      <td>0.020359</td>\n",
       "      <td>0.020752</td>\n",
       "      <td>0.033499</td>\n",
       "      <td>0.039786</td>\n",
       "      <td>0.028097</td>\n",
       "    </tr>\n",
       "    <tr>\n",
       "      <th>51</th>\n",
       "      <td>2016-06-14</td>\n",
       "      <td>24.330000</td>\n",
       "      <td>24.620001</td>\n",
       "      <td>24.187500</td>\n",
       "      <td>24.365000</td>\n",
       "      <td>22.800076</td>\n",
       "      <td>127727600</td>\n",
       "      <td>2016</td>\n",
       "      <td>Jun</td>\n",
       "      <td>0.395419</td>\n",
       "      <td>...</td>\n",
       "      <td>0.412627</td>\n",
       "      <td>0.397051</td>\n",
       "      <td>0.381474</td>\n",
       "      <td>46.886776</td>\n",
       "      <td>0.028097</td>\n",
       "      <td>0.026663</td>\n",
       "      <td>0.022793</td>\n",
       "      <td>0.024898</td>\n",
       "      <td>0.039781</td>\n",
       "      <td>-0.005422</td>\n",
       "    </tr>\n",
       "    <tr>\n",
       "      <th>52</th>\n",
       "      <td>2016-06-15</td>\n",
       "      <td>24.455000</td>\n",
       "      <td>24.602501</td>\n",
       "      <td>24.257500</td>\n",
       "      <td>24.285000</td>\n",
       "      <td>22.725216</td>\n",
       "      <td>117780800</td>\n",
       "      <td>2016</td>\n",
       "      <td>Jun</td>\n",
       "      <td>0.393275</td>\n",
       "      <td>...</td>\n",
       "      <td>0.410673</td>\n",
       "      <td>0.395479</td>\n",
       "      <td>0.380286</td>\n",
       "      <td>46.097859</td>\n",
       "      <td>-0.005422</td>\n",
       "      <td>0.026546</td>\n",
       "      <td>0.020267</td>\n",
       "      <td>0.021232</td>\n",
       "      <td>0.039612</td>\n",
       "      <td>0.017521</td>\n",
       "    </tr>\n",
       "  </tbody>\n",
       "</table>\n",
       "<p>5 rows × 28 columns</p>\n",
       "</div>"
      ],
      "text/plain": [
       "         Date       Open       High        Low      Close  Adj Close  \\\n",
       "48 2016-06-09  24.625000  24.997499  24.615000  24.912500  23.312412   \n",
       "49 2016-06-10  24.632500  24.837500  24.620001  24.707500  23.120579   \n",
       "50 2016-06-13  24.672501  24.780001  24.275000  24.334999  22.772001   \n",
       "51 2016-06-14  24.330000  24.620001  24.187500  24.365000  22.800076   \n",
       "52 2016-06-15  24.455000  24.602501  24.257500  24.285000  22.725216   \n",
       "\n",
       "       Volume  year month  Close_FD  ...  upperband  middleband  lowerband  \\\n",
       "48  106405600  2016   Jun  0.408346  ...   0.410767    0.403261   0.395755   \n",
       "49  126851600  2016   Jun  0.395745  ...   0.411479    0.402950   0.394420   \n",
       "50  152082000  2016   Jun  0.384613  ...   0.415526    0.398940   0.382354   \n",
       "51  127727600  2016   Jun  0.395419  ...   0.412627    0.397051   0.381474   \n",
       "52  117780800  2016   Jun  0.393275  ...   0.410673    0.395479   0.380286   \n",
       "\n",
       "       RSI_FD      ret1      std5     std10     std20     std40  actual_return  \n",
       "48  50.969145  0.017987  0.013168  0.018303  0.035416  0.040317      -0.030858  \n",
       "49  46.102008 -0.030858  0.020629  0.020060  0.034292  0.040462      -0.028131  \n",
       "50  42.262212 -0.028131  0.020359  0.020752  0.033499  0.039786       0.028097  \n",
       "51  46.886776  0.028097  0.026663  0.022793  0.024898  0.039781      -0.005422  \n",
       "52  46.097859 -0.005422  0.026546  0.020267  0.021232  0.039612       0.017521  \n",
       "\n",
       "[5 rows x 28 columns]"
      ]
     },
     "execution_count": 39,
     "metadata": {},
     "output_type": "execute_result"
    }
   ],
   "source": [
    "# Remove NaN values\n",
    "df_aapl.dropna(inplace = True)\n",
    "df_aapl.head()"
   ]
  },
  {
   "cell_type": "code",
   "execution_count": 40,
   "id": "756a8ed8",
   "metadata": {},
   "outputs": [],
   "source": [
    "# Write the dataframe above to CSV \n",
    "df_aapl.to_csv(\"AAPL.csv\", index_label='Date')"
   ]
  },
  {
   "cell_type": "markdown",
   "id": "25334733",
   "metadata": {},
   "source": [
    "## 3.3.3 Store the target and input features that will feed the models\n",
    "\n",
    "#### 3.3.3.1 Storing input features into X"
   ]
  },
  {
   "cell_type": "code",
   "execution_count": 41,
   "id": "28ee8b5e",
   "metadata": {},
   "outputs": [
    {
     "data": {
      "text/html": [
       "<div>\n",
       "<style scoped>\n",
       "    .dataframe tbody tr th:only-of-type {\n",
       "        vertical-align: middle;\n",
       "    }\n",
       "\n",
       "    .dataframe tbody tr th {\n",
       "        vertical-align: top;\n",
       "    }\n",
       "\n",
       "    .dataframe thead th {\n",
       "        text-align: right;\n",
       "    }\n",
       "</style>\n",
       "<table border=\"1\" class=\"dataframe\">\n",
       "  <thead>\n",
       "    <tr style=\"text-align: right;\">\n",
       "      <th></th>\n",
       "      <th>ADX_FD</th>\n",
       "      <th>SMA_FD</th>\n",
       "      <th>macd</th>\n",
       "      <th>macdsignal</th>\n",
       "      <th>macdhist</th>\n",
       "      <th>upperband</th>\n",
       "      <th>middleband</th>\n",
       "      <th>lowerband</th>\n",
       "      <th>RSI_FD</th>\n",
       "      <th>Close_FD</th>\n",
       "      <th>Volume</th>\n",
       "      <th>std5</th>\n",
       "      <th>std10</th>\n",
       "      <th>std20</th>\n",
       "      <th>std40</th>\n",
       "    </tr>\n",
       "  </thead>\n",
       "  <tbody>\n",
       "    <tr>\n",
       "      <th>48</th>\n",
       "      <td>10.580275</td>\n",
       "      <td>0.403045</td>\n",
       "      <td>0.002523</td>\n",
       "      <td>0.002877</td>\n",
       "      <td>-0.000354</td>\n",
       "      <td>0.410767</td>\n",
       "      <td>0.403261</td>\n",
       "      <td>0.395755</td>\n",
       "      <td>50.969145</td>\n",
       "      <td>0.408346</td>\n",
       "      <td>106405600</td>\n",
       "      <td>0.013168</td>\n",
       "      <td>0.018303</td>\n",
       "      <td>0.035416</td>\n",
       "      <td>0.040317</td>\n",
       "    </tr>\n",
       "    <tr>\n",
       "      <th>49</th>\n",
       "      <td>10.809941</td>\n",
       "      <td>0.404521</td>\n",
       "      <td>0.001771</td>\n",
       "      <td>0.002656</td>\n",
       "      <td>-0.000884</td>\n",
       "      <td>0.411479</td>\n",
       "      <td>0.402950</td>\n",
       "      <td>0.394420</td>\n",
       "      <td>46.102008</td>\n",
       "      <td>0.395745</td>\n",
       "      <td>126851600</td>\n",
       "      <td>0.020629</td>\n",
       "      <td>0.020060</td>\n",
       "      <td>0.034292</td>\n",
       "      <td>0.040462</td>\n",
       "    </tr>\n",
       "    <tr>\n",
       "      <th>50</th>\n",
       "      <td>10.246592</td>\n",
       "      <td>0.404583</td>\n",
       "      <td>0.000274</td>\n",
       "      <td>0.002180</td>\n",
       "      <td>-0.001905</td>\n",
       "      <td>0.415526</td>\n",
       "      <td>0.398940</td>\n",
       "      <td>0.382354</td>\n",
       "      <td>42.262212</td>\n",
       "      <td>0.384613</td>\n",
       "      <td>152082000</td>\n",
       "      <td>0.020359</td>\n",
       "      <td>0.020752</td>\n",
       "      <td>0.033499</td>\n",
       "      <td>0.039786</td>\n",
       "    </tr>\n",
       "    <tr>\n",
       "      <th>51</th>\n",
       "      <td>9.723483</td>\n",
       "      <td>0.403251</td>\n",
       "      <td>-0.000040</td>\n",
       "      <td>0.001736</td>\n",
       "      <td>-0.001775</td>\n",
       "      <td>0.412627</td>\n",
       "      <td>0.397051</td>\n",
       "      <td>0.381474</td>\n",
       "      <td>46.886776</td>\n",
       "      <td>0.395419</td>\n",
       "      <td>127727600</td>\n",
       "      <td>0.026663</td>\n",
       "      <td>0.022793</td>\n",
       "      <td>0.024898</td>\n",
       "      <td>0.039781</td>\n",
       "    </tr>\n",
       "    <tr>\n",
       "      <th>52</th>\n",
       "      <td>9.425555</td>\n",
       "      <td>0.403046</td>\n",
       "      <td>-0.000456</td>\n",
       "      <td>0.001297</td>\n",
       "      <td>-0.001754</td>\n",
       "      <td>0.410673</td>\n",
       "      <td>0.395479</td>\n",
       "      <td>0.380286</td>\n",
       "      <td>46.097859</td>\n",
       "      <td>0.393275</td>\n",
       "      <td>117780800</td>\n",
       "      <td>0.026546</td>\n",
       "      <td>0.020267</td>\n",
       "      <td>0.021232</td>\n",
       "      <td>0.039612</td>\n",
       "    </tr>\n",
       "  </tbody>\n",
       "</table>\n",
       "</div>"
      ],
      "text/plain": [
       "       ADX_FD    SMA_FD      macd  macdsignal  macdhist  upperband  \\\n",
       "48  10.580275  0.403045  0.002523    0.002877 -0.000354   0.410767   \n",
       "49  10.809941  0.404521  0.001771    0.002656 -0.000884   0.411479   \n",
       "50  10.246592  0.404583  0.000274    0.002180 -0.001905   0.415526   \n",
       "51   9.723483  0.403251 -0.000040    0.001736 -0.001775   0.412627   \n",
       "52   9.425555  0.403046 -0.000456    0.001297 -0.001754   0.410673   \n",
       "\n",
       "    middleband  lowerband     RSI_FD  Close_FD     Volume      std5     std10  \\\n",
       "48    0.403261   0.395755  50.969145  0.408346  106405600  0.013168  0.018303   \n",
       "49    0.402950   0.394420  46.102008  0.395745  126851600  0.020629  0.020060   \n",
       "50    0.398940   0.382354  42.262212  0.384613  152082000  0.020359  0.020752   \n",
       "51    0.397051   0.381474  46.886776  0.395419  127727600  0.026663  0.022793   \n",
       "52    0.395479   0.380286  46.097859  0.393275  117780800  0.026546  0.020267   \n",
       "\n",
       "       std20     std40  \n",
       "48  0.035416  0.040317  \n",
       "49  0.034292  0.040462  \n",
       "50  0.033499  0.039786  \n",
       "51  0.024898  0.039781  \n",
       "52  0.021232  0.039612  "
      ]
     },
     "execution_count": 41,
     "metadata": {},
     "output_type": "execute_result"
    }
   ],
   "source": [
    "predictor_list = ['ADX_FD', 'SMA_FD', 'macd', 'macdsignal', 'macdhist', 'upperband', 'middleband', 'lowerband', 'RSI_FD', 'Close_FD',\n",
    "'Volume', 'std5', 'std10', 'std20', 'std40']\n",
    "\n",
    "X = df_aapl[predictor_list]\n",
    "X.head()"
   ]
  },
  {
   "cell_type": "markdown",
   "id": "2ba355eb",
   "metadata": {},
   "source": [
    "#### 3.3.3.2 Storing target variable into y"
   ]
  },
  {
   "cell_type": "code",
   "execution_count": 42,
   "id": "6631a1c7",
   "metadata": {
    "scrolled": true
   },
   "outputs": [
    {
     "data": {
      "text/html": [
       "<div>\n",
       "<style scoped>\n",
       "    .dataframe tbody tr th:only-of-type {\n",
       "        vertical-align: middle;\n",
       "    }\n",
       "\n",
       "    .dataframe tbody tr th {\n",
       "        vertical-align: top;\n",
       "    }\n",
       "\n",
       "    .dataframe thead th {\n",
       "        text-align: right;\n",
       "    }\n",
       "</style>\n",
       "<table border=\"1\" class=\"dataframe\">\n",
       "  <thead>\n",
       "    <tr style=\"text-align: right;\">\n",
       "      <th></th>\n",
       "      <th>actual_return</th>\n",
       "    </tr>\n",
       "  </thead>\n",
       "  <tbody>\n",
       "    <tr>\n",
       "      <th>48</th>\n",
       "      <td>-0.030858</td>\n",
       "    </tr>\n",
       "    <tr>\n",
       "      <th>49</th>\n",
       "      <td>-0.028131</td>\n",
       "    </tr>\n",
       "    <tr>\n",
       "      <th>50</th>\n",
       "      <td>0.028097</td>\n",
       "    </tr>\n",
       "    <tr>\n",
       "      <th>51</th>\n",
       "      <td>-0.005422</td>\n",
       "    </tr>\n",
       "    <tr>\n",
       "      <th>52</th>\n",
       "      <td>0.017521</td>\n",
       "    </tr>\n",
       "  </tbody>\n",
       "</table>\n",
       "</div>"
      ],
      "text/plain": [
       "    actual_return\n",
       "48      -0.030858\n",
       "49      -0.028131\n",
       "50       0.028097\n",
       "51      -0.005422\n",
       "52       0.017521"
      ]
     },
     "execution_count": 42,
     "metadata": {},
     "output_type": "execute_result"
    }
   ],
   "source": [
    "target_list = ['actual_return']\n",
    "y = df_aapl[target_list]\n",
    "y.head()"
   ]
  },
  {
   "cell_type": "markdown",
   "id": "672a0a1b",
   "metadata": {},
   "source": [
    "# Step 4: Data Segregation\n",
    "\n",
    "We will split the dataset into two parts, first 80% of the dataset will use to create the model and the remaining 20% will be used as a test dataset."
   ]
  },
  {
   "cell_type": "code",
   "execution_count": 43,
   "id": "242b0fbd",
   "metadata": {},
   "outputs": [
    {
     "name": "stdout",
     "output_type": "stream",
     "text": [
      "(968, 15) (968, 1)\n",
      "(243, 15) (243, 1)\n"
     ]
    }
   ],
   "source": [
    "split_percentage = 0.8\n",
    "split = int(split_percentage*len(X))\n",
    "# Train data set\n",
    "X_train = X[:split]\n",
    "y_train = y[:split]\n",
    "# Test data set\n",
    "X_test = X[split:]\n",
    "y_test = y[split:]\n",
    "\n",
    "print(X_train.shape, y_train.shape)\n",
    "print(X_test.shape, y_test.shape)"
   ]
  },
  {
   "cell_type": "markdown",
   "id": "e4ae379c",
   "metadata": {},
   "source": [
    "# Step 5: Model training\n",
    "\n",
    "## 5.1 Establishing a Naive baseline"
   ]
  },
  {
   "cell_type": "code",
   "execution_count": 44,
   "id": "8c2877f3",
   "metadata": {
    "scrolled": true
   },
   "outputs": [
    {
     "name": "stdout",
     "output_type": "stream",
     "text": [
      "Baseline:\n",
      "The naive R-squared baseline is -5.179179043635074e-06\n"
     ]
    }
   ],
   "source": [
    "baseline = np.mean(y_train)\n",
    "\n",
    "#Get an array with baseline with the size of the testing dataset \n",
    "y_predicted_naive = np.repeat(baseline, len(y_test))\n",
    "\n",
    "from sklearn.metrics import r2_score\n",
    "R2_naive = r2_score(y_test, y_predicted_naive)\n",
    "print('Baseline:')\n",
    "print('The naive R-squared baseline is', R2_naive)"
   ]
  },
  {
   "cell_type": "markdown",
   "id": "0146f1e6",
   "metadata": {},
   "source": [
    "## 5.2 Fitting the model using Random Forest Regressor\n",
    "\n",
    "Random Forest Regressor is invariant to the scale of the features. This is because RFR is made of multitude of decision trees. A decision tree splits a node based on a single feature. It then splits a node on a feature that increases the homogeneity of the node. This split on a feature is not influenced by other features (Bhandhari 2020).\n",
    "\n",
    "For this reason, we will not be normalising the dataset."
   ]
  },
  {
   "cell_type": "code",
   "execution_count": 45,
   "id": "371141cc",
   "metadata": {},
   "outputs": [
    {
     "data": {
      "text/plain": [
       "RandomForestRegressor(random_state=0)"
      ]
     },
     "execution_count": 45,
     "metadata": {},
     "output_type": "execute_result"
    }
   ],
   "source": [
    "# Random forest regressor:\n",
    "from sklearn.ensemble import RandomForestRegressor\n",
    "\n",
    "rfr = RandomForestRegressor(random_state=0) \n",
    "\n",
    "rfr_model1 = RandomForestRegressor(random_state=0) \n",
    "\n",
    "# Fit/train the model\n",
    "rfr.fit(X_train, y_train)"
   ]
  },
  {
   "cell_type": "code",
   "execution_count": 46,
   "id": "bfe92d81",
   "metadata": {},
   "outputs": [],
   "source": [
    "#Prediction in the training dataset\n",
    "y_rfr_train_predict1 = rfr.predict(X_train)\n",
    "\n",
    "# Prediction in the testing dataset \n",
    "y_rfr_test_predict1 = rfr.predict(X_test) "
   ]
  },
  {
   "cell_type": "markdown",
   "id": "3ac9e0b6",
   "metadata": {},
   "source": [
    "#### 5.2.1 Evaluating the performance of the model prior to Hyperparameter Tuning "
   ]
  },
  {
   "cell_type": "code",
   "execution_count": 47,
   "id": "74e07397",
   "metadata": {},
   "outputs": [],
   "source": [
    "# Getting the R-squared scores\n",
    "from sklearn.metrics import r2_score\n",
    "\n",
    "R2_training1 = r2_score(y_train, y_rfr_train_predict1)\n",
    "\n",
    "R2_test1 = r2_score(y_test, y_rfr_test_predict1)"
   ]
  },
  {
   "cell_type": "code",
   "execution_count": 48,
   "id": "1e751829",
   "metadata": {},
   "outputs": [
    {
     "name": "stdout",
     "output_type": "stream",
     "text": [
      "R-squared score\n",
      "Training data:\n",
      "The model performance (before hyperparameter tuning) in training dataset is  0.9037229416725046\n",
      "\n",
      "R-squared score\n",
      "Testing data:\n",
      "The model performance (before hyperparameter tuning) in testing dataset is  -2.0544670355820602\n"
     ]
    }
   ],
   "source": [
    "print('R-squared score')\n",
    "print('Training data:')\n",
    "print('The model performance (before hyperparameter tuning) in training dataset is ', R2_training1)\n",
    "print()\n",
    "print('R-squared score')\n",
    "print('Testing data:')\n",
    "print('The model performance (before hyperparameter tuning) in testing dataset is ', R2_test1)"
   ]
  },
  {
   "cell_type": "markdown",
   "id": "515b70b1",
   "metadata": {},
   "source": [
    "Based on the above, the training set performed significantly better than the test set signifying that the model is prone to overfitting. \n",
    "\n",
    "In order to address the above, we will perform hyperparameter tuning. "
   ]
  },
  {
   "cell_type": "markdown",
   "id": "d51f4730",
   "metadata": {},
   "source": [
    "## 5.3 Hyperparameter tuning of Random Forest Regressor"
   ]
  },
  {
   "cell_type": "code",
   "execution_count": 49,
   "id": "bc14ccdf",
   "metadata": {},
   "outputs": [
    {
     "data": {
      "text/plain": [
       "RandomForestRegressor(random_state=0)"
      ]
     },
     "execution_count": 49,
     "metadata": {},
     "output_type": "execute_result"
    }
   ],
   "source": [
    "rfr_model1.fit(X_train, y_train)"
   ]
  },
  {
   "cell_type": "code",
   "execution_count": 50,
   "id": "e9c2c13b",
   "metadata": {},
   "outputs": [
    {
     "data": {
      "text/plain": [
       "{'bootstrap': True,\n",
       " 'ccp_alpha': 0.0,\n",
       " 'criterion': 'mse',\n",
       " 'max_depth': None,\n",
       " 'max_features': 'auto',\n",
       " 'max_leaf_nodes': None,\n",
       " 'max_samples': None,\n",
       " 'min_impurity_decrease': 0.0,\n",
       " 'min_impurity_split': None,\n",
       " 'min_samples_leaf': 1,\n",
       " 'min_samples_split': 2,\n",
       " 'min_weight_fraction_leaf': 0.0,\n",
       " 'n_estimators': 100,\n",
       " 'n_jobs': None,\n",
       " 'oob_score': False,\n",
       " 'random_state': 0,\n",
       " 'verbose': 0,\n",
       " 'warm_start': False}"
      ]
     },
     "execution_count": 50,
     "metadata": {},
     "output_type": "execute_result"
    }
   ],
   "source": [
    "# hyperparameters currently in use by our SVR model\n",
    "rfr_model1.get_params()"
   ]
  },
  {
   "cell_type": "markdown",
   "id": "2d05d406",
   "metadata": {},
   "source": [
    "### 5.3.1 RandomizedSearchCV\n",
    "\n",
    "When the dimensionality of the grid is high, the number of computations in Grid Search increases drastically, making it computationally expensive.\n",
    "\n",
    "Randomized Search is given the number of iterations to be computed and hence is computationally less expensive with a similar level of accuracy as Grid Search, making it a better choice when the dimensionality is high (De Prado 2018). "
   ]
  },
  {
   "cell_type": "code",
   "execution_count": 51,
   "id": "26ce26d2",
   "metadata": {},
   "outputs": [
    {
     "name": "stdout",
     "output_type": "stream",
     "text": [
      "{'n_estimators': [100, 200, 300, 400, 500, 600, 700, 800, 900, 1000], 'max_depth': [10, 20, 30, 40, 50, 60, 70, 80, 90, 100, 110, None], 'min_samples_split': [1, 3, 5, 7, 9, 11, 13, 15, 17, 20], 'min_samples_leaf': [1, 3, 5, 7, 9, 11, 13, 15, 17, 20]}\n"
     ]
    }
   ],
   "source": [
    "# Use the random grid to search for best hyperparameters\n",
    "from sklearn.model_selection import RandomizedSearchCV\n",
    "\n",
    "# Number of trees in random forest\n",
    "n_estimators = [int(x) for x in np.linspace(start = 100, stop = 1000, num = 10)]\n",
    "\n",
    "# Maximum number of levels in tree\n",
    "max_depth = [int(x) for x in np.linspace(10, 110, num = 11)]\n",
    "max_depth.append(None)\n",
    "\n",
    "# Minimum number of samples required to split a node\n",
    "min_samples_split = [int(x) for x in np.linspace(start = 1, stop = 20, num = 10)]\n",
    "\n",
    "# Minimum number of samples required at each leaf node\n",
    "min_samples_leaf = [int(x) for x in np.linspace(start = 1, stop = 20, num = 10)]\n",
    "\n",
    "# Create the random grid\n",
    "random_grid = {'n_estimators': n_estimators,\n",
    "               'max_depth': max_depth,\n",
    "               'min_samples_split': min_samples_split,\n",
    "               'min_samples_leaf': min_samples_leaf\n",
    "               }\n",
    "\n",
    "print(random_grid)"
   ]
  },
  {
   "cell_type": "code",
   "execution_count": 52,
   "id": "853ff58e",
   "metadata": {},
   "outputs": [
    {
     "name": "stdout",
     "output_type": "stream",
     "text": [
      "Fitting 3 folds for each of 100 candidates, totalling 300 fits\n"
     ]
    },
    {
     "data": {
      "text/plain": [
       "RandomizedSearchCV(cv=3, estimator=RandomForestRegressor(random_state=0),\n",
       "                   n_iter=100, n_jobs=-1,\n",
       "                   param_distributions={'max_depth': [10, 20, 30, 40, 50, 60,\n",
       "                                                      70, 80, 90, 100, 110,\n",
       "                                                      None],\n",
       "                                        'min_samples_leaf': [1, 3, 5, 7, 9, 11,\n",
       "                                                             13, 15, 17, 20],\n",
       "                                        'min_samples_split': [1, 3, 5, 7, 9, 11,\n",
       "                                                              13, 15, 17, 20],\n",
       "                                        'n_estimators': [100, 200, 300, 400,\n",
       "                                                         500, 600, 700, 800,\n",
       "                                                         900, 1000]},\n",
       "                   random_state=42, verbose=2)"
      ]
     },
     "execution_count": 52,
     "metadata": {},
     "output_type": "execute_result"
    }
   ],
   "source": [
    "# Random search of parameters, using 3 fold cross validation, \n",
    "# search across 100 different combinations, and use all available cores\n",
    "rfr_random = RandomizedSearchCV(estimator = rfr_model1, param_distributions = random_grid, n_iter = 100, \n",
    "                                cv = 3, verbose=2, random_state=42, n_jobs = -1)\n",
    "\n",
    "# Fit the random search model\n",
    "rfr_random.fit(X_train, y_train)"
   ]
  },
  {
   "cell_type": "code",
   "execution_count": 53,
   "id": "d619b685",
   "metadata": {},
   "outputs": [
    {
     "data": {
      "text/plain": [
       "{'n_estimators': 400,\n",
       " 'min_samples_split': 9,\n",
       " 'min_samples_leaf': 17,\n",
       " 'max_depth': 40}"
      ]
     },
     "execution_count": 53,
     "metadata": {},
     "output_type": "execute_result"
    }
   ],
   "source": [
    "# We can view the best parameters from fitting the random search\n",
    "rfr_random.best_params_"
   ]
  },
  {
   "cell_type": "code",
   "execution_count": 54,
   "id": "42f38b32",
   "metadata": {},
   "outputs": [
    {
     "data": {
      "text/plain": [
       "RandomForestRegressor(max_depth=40, min_samples_leaf=17, min_samples_split=9,\n",
       "                      n_estimators=400, random_state=0)"
      ]
     },
     "execution_count": 54,
     "metadata": {},
     "output_type": "execute_result"
    }
   ],
   "source": [
    "# We then assign the values of the hyperparameters into our model\n",
    "rfr_model1 = rfr_random.best_estimator_\n",
    "rfr_model1"
   ]
  },
  {
   "cell_type": "code",
   "execution_count": 55,
   "id": "dc15e4b5",
   "metadata": {},
   "outputs": [
    {
     "data": {
      "text/plain": [
       "RandomForestRegressor(max_depth=40, min_samples_leaf=17, min_samples_split=9,\n",
       "                      n_estimators=400, random_state=0)"
      ]
     },
     "execution_count": 55,
     "metadata": {},
     "output_type": "execute_result"
    }
   ],
   "source": [
    "# Fitting the model after hyperparameter tuning:\n",
    "rfr_model1.fit(X_train, y_train)"
   ]
  },
  {
   "cell_type": "markdown",
   "id": "8dcf5fc8",
   "metadata": {},
   "source": [
    "### 5.3.2 Evaluating the performance of the model after hyperparameter tuning "
   ]
  },
  {
   "cell_type": "code",
   "execution_count": 56,
   "id": "7d2c0f13",
   "metadata": {},
   "outputs": [],
   "source": [
    "# Prediction in the training dataset using tuned hyperparameter:\n",
    "y_rfr_train_predict2 = rfr_model1.predict(X_train)\n",
    "\n",
    "# Prediction in the testing dataset using tuned hyperparameter\n",
    "y_rfr_test_predict2 = rfr_model1.predict(X_test)\n",
    "\n",
    "# Getting the R-squared scores\n",
    "from sklearn.metrics import r2_score\n",
    "\n",
    "R2_training2 = r2_score(y_train, y_rfr_train_predict2)\n",
    "\n",
    "R2_test2 = r2_score(y_test, y_rfr_test_predict2)"
   ]
  },
  {
   "cell_type": "code",
   "execution_count": 57,
   "id": "d96e0f8d",
   "metadata": {},
   "outputs": [
    {
     "name": "stdout",
     "output_type": "stream",
     "text": [
      "R-squared score\n",
      "Training data:\n",
      "The model performance (after hyperparameter tuning) in training dataset is  0.43492959681546395\n",
      "\n",
      "R-squared score\n",
      "Testing data:\n",
      "The model performance (after hyperparameter tuning) in testing dataset is  0.2834282136980948\n"
     ]
    }
   ],
   "source": [
    "print('R-squared score')\n",
    "print('Training data:')\n",
    "print('The model performance (after hyperparameter tuning) in training dataset is ', R2_training2)\n",
    "print()\n",
    "print('R-squared score')\n",
    "print('Testing data:')\n",
    "print('The model performance (after hyperparameter tuning) in testing dataset is ', R2_test2)"
   ]
  },
  {
   "cell_type": "markdown",
   "id": "7da32f12",
   "metadata": {},
   "source": [
    "# Step 6: Model Evaluation "
   ]
  },
  {
   "cell_type": "markdown",
   "id": "fe2cea2a",
   "metadata": {},
   "source": [
    "#### 6.1 Feature importance"
   ]
  },
  {
   "cell_type": "code",
   "execution_count": 58,
   "id": "6472c48c",
   "metadata": {},
   "outputs": [
    {
     "data": {
      "image/png": "[encoded data removed]",
      "text/plain": [
       "<Figure size 432x288 with 1 Axes>"
      ]
     },
     "metadata": {
      "needs_background": "light"
     },
     "output_type": "display_data"
    }
   ],
   "source": [
    "# Get numerical feature importances\n",
    "X_list = list(X.columns)\n",
    "importances = list(rfr.feature_importances_)\n",
    "\n",
    "# List of tuples with variable and importance\n",
    "feature_importances = [(X, round(importance, 2)) for feature, importance in zip(X_list, importances)]\n",
    "\n",
    "# Sort the feature importances by most important first\n",
    "feature_importances = sorted(feature_importances, key = lambda x:x[1], reverse = True)\n",
    "\n",
    "# list of x locations for plotting\n",
    "x_values = list(range(len(importances)))\n",
    "\n",
    "# Make a bar chart\n",
    "plt.bar(x_values, importances, orientation = 'vertical', color = 'r', edgecolor = 'k', linewidth = 1.2)\n",
    "\n",
    "# Tick labels for x axis\n",
    "plt.xticks(x_values, X_list, rotation='vertical')\n",
    "\n",
    "# Axis labels and title\n",
    "plt.ylabel('Importance'); plt.xlabel('Features'); plt.title('Feature Importance');"
   ]
  },
  {
   "cell_type": "markdown",
   "id": "648cfca3",
   "metadata": {},
   "source": [
    "The two most important indicators are the RSI and MACD, indicating that a momentum-based strategy is the appropriate strategy for the AAPL stock. "
   ]
  },
  {
   "cell_type": "markdown",
   "id": "69fdc1c3",
   "metadata": {},
   "source": [
    "#### 6.2 Plotting the predicted values against real values"
   ]
  },
  {
   "cell_type": "code",
   "execution_count": 59,
   "id": "664aa919",
   "metadata": {},
   "outputs": [
    {
     "data": {
      "text/plain": [
       "Text(0.5, 1.0, 'Comparison between predicted returns using Random Forest Regressor against actual returns')"
      ]
     },
     "execution_count": 59,
     "metadata": {},
     "output_type": "execute_result"
    },
    {
     "data": {
      "image/png": "[encoded data removed]",
      "text/plain": [
       "<Figure size 720x720 with 1 Axes>"
      ]
     },
     "metadata": {
      "needs_background": "light"
     },
     "output_type": "display_data"
    }
   ],
   "source": [
    "df_aapl['predicted_returns'] = rfr_model1.predict(X)\n",
    "df_aapl[['actual_return','predicted_returns']].plot(alpha = 0.5, figsize = (10,10))\n",
    "plt.xlabel('Time')\n",
    "plt.ylabel('Actual vs Predicted returns')\n",
    "plt.title('Comparison between predicted returns using Random Forest Regressor against actual returns')"
   ]
  },
  {
   "cell_type": "code",
   "execution_count": 60,
   "id": "05025e40",
   "metadata": {
    "scrolled": false
   },
   "outputs": [
    {
     "data": {
      "text/plain": [
       "Text(0.5, 1.0, 'Comparison between predicted returns against actual returns using RFR')"
      ]
     },
     "execution_count": 60,
     "metadata": {},
     "output_type": "execute_result"
    },
    {
     "data": {
      "image/png": "[encoded data removed]",
      "text/plain": [
       "<Figure size 720x720 with 1 Axes>"
      ]
     },
     "metadata": {
      "needs_background": "light"
     },
     "output_type": "display_data"
    }
   ],
   "source": [
    "df_aapl.plot.scatter(x = 'actual_return', y = 'predicted_returns', figsize = (10,10))\n",
    "plt.xlabel('Actual returns')\n",
    "plt.ylabel('Predicted returns')\n",
    "plt.title('Comparison between predicted returns against actual returns using RFR')"
   ]
  },
  {
   "cell_type": "markdown",
   "id": "b288ec22",
   "metadata": {},
   "source": [
    "Based on the above, our model actually predicts with relatively good accuracy where the returns is between -0.25 to 0.25. "
   ]
  },
  {
   "cell_type": "markdown",
   "id": "66a067c1",
   "metadata": {},
   "source": [
    "# Signal generation logic\n",
    "\n",
    "Depending on the predictions, we will buy the stock at open price and sell the stock at close price in the same day where the returns is positive. Conversely, we will short-sell the stock at open price and complete the short-sell at the close price where the returns is negative. \n",
    "\n",
    "Based on our model, it appears that it is relatively accurate where the returns range from -0.025 (negative returns) and 0.025 (positive returns). Accordingly, we will generate our signals based on the following:\n",
    " * Where the return is above 0 and below 0.025, the returns will be positive and we will designate a signal of 1. \n",
    " * Where the return is below 0 and above -0.025, the returns will be negative and we will designate a signal of -1. \n",
    " * Otherwise, we will designate a signal of 0 indicating no signal is generated. "
   ]
  },
  {
   "cell_type": "code",
   "execution_count": 61,
   "id": "894d4af6",
   "metadata": {},
   "outputs": [],
   "source": [
    "def returns_to_class(df):\n",
    "    if df.predicted_returns > 0.0 and df.predicted_returns < 0.025:\n",
    "        return 1\n",
    "    elif df.predicted_returns < 0.0 and df.predicted_returns > -0.025:\n",
    "        return -1\n",
    "    else:\n",
    "        return 0\n",
    "\n",
    "df_aapl['Class'] = df_aapl.apply(returns_to_class, axis=1)"
   ]
  },
  {
   "cell_type": "code",
   "execution_count": 62,
   "id": "b3b5c695",
   "metadata": {},
   "outputs": [
    {
     "data": {
      "text/plain": [
       "Class\n",
       "-1    561\n",
       " 0    241\n",
       " 1    409\n",
       "Name: predicted_returns, dtype: int64"
      ]
     },
     "execution_count": 62,
     "metadata": {},
     "output_type": "execute_result"
    }
   ],
   "source": [
    "df_aapl.groupby('Class')['predicted_returns'].count()"
   ]
  },
  {
   "cell_type": "markdown",
   "id": "7d822d25",
   "metadata": {},
   "source": [
    "Once we have defined the different classes for the target variable, we can see their distribution of Returns using the groupby method. As can be observed, out of the total data points majority of them (i.e. 561 data points) belong to '-1' class which signifies negative returns. On the other hand, there are 409 data points belonging to '1', which signifies positive returns. "
   ]
  },
  {
   "cell_type": "code",
   "execution_count": 63,
   "id": "a99c8389",
   "metadata": {},
   "outputs": [],
   "source": [
    "signal_list = ['Date','Class', 'predicted_returns']\n",
    "df_signal = df_aapl[signal_list]"
   ]
  },
  {
   "cell_type": "code",
   "execution_count": 64,
   "id": "e3b02186",
   "metadata": {},
   "outputs": [],
   "source": [
    "df_signal.set_index('Date', inplace=True)"
   ]
  },
  {
   "cell_type": "code",
   "execution_count": 65,
   "id": "96a61a51",
   "metadata": {},
   "outputs": [
    {
     "data": {
      "image/png": "[encoded data removed]",
      "text/plain": [
       "<Figure size 432x288 with 1 Axes>"
      ]
     },
     "metadata": {
      "needs_background": "light"
     },
     "output_type": "display_data"
    }
   ],
   "source": [
    "df_signal.Class[-10:].plot()\n",
    "plt.ylabel('Signals')\n",
    "plt.title('Trading signals predicted by RFR model for the last 10 days')\n",
    "plt.show()"
   ]
  },
  {
   "cell_type": "markdown",
   "id": "62f7d8b3",
   "metadata": {},
   "source": [
    "The above graph shows the signal predicted for last 10 days. "
   ]
  },
  {
   "cell_type": "markdown",
   "id": "68740cac",
   "metadata": {},
   "source": [
    "## Sharpe Ratio\n",
    "\n",
    "Sharpe ratio helps to evaluate how good a strategy is. Generally, a strategy with a Sharpe ratio of > 1.5 is considered good (Lioudis 2021). \n",
    "\n",
    "The Sharpe ratio is calculated as follows:\n",
    " * Sharpe ratio  = (average daily strategy returns / standard deviation of the strategy returns) * sqrt(252)\n",
    " * 252 is the number of trading days in a year. We will assume the number to be 252. "
   ]
  },
  {
   "cell_type": "code",
   "execution_count": 66,
   "id": "c042cfc5",
   "metadata": {},
   "outputs": [],
   "source": [
    "df_aapl['strategy_returns'] = df_aapl.actual_return * df_aapl.Class"
   ]
  },
  {
   "cell_type": "code",
   "execution_count": 67,
   "id": "3d585829",
   "metadata": {},
   "outputs": [],
   "source": [
    "# The below function returns the Sharpe ratio for the excess returns \n",
    "# (Strategy returns - Risk free rate) passed to it.\n",
    "def annualized_sharpe_ratio(returns, N=252):\n",
    "    return np.sqrt(N) * returns.mean() / returns.std()"
   ]
  },
  {
   "cell_type": "markdown",
   "id": "55686660",
   "metadata": {},
   "source": [
    "We calculate the Sharpe ratio for the strategy in train and test dataset. The risk-free rate is assumed to be 5% p.a (Chen 2021)."
   ]
  },
  {
   "cell_type": "code",
   "execution_count": 68,
   "id": "256bce8c",
   "metadata": {},
   "outputs": [],
   "source": [
    "# Computing Sharpe ratio\n",
    "\n",
    "df_aapl['excess_daily_strategy_return'] = df_aapl.strategy_returns - 0.05/252\n",
    "\n",
    "# Train dataset\n",
    "sharpe_train = annualized_sharpe_ratio(\n",
    "    df_aapl.excess_daily_strategy_return.iloc[:split])\n",
    "\n",
    "# Test dataset\n",
    "sharpe_test = annualized_sharpe_ratio(\n",
    "    df_aapl.excess_daily_strategy_return.iloc[split:])"
   ]
  },
  {
   "cell_type": "code",
   "execution_count": 69,
   "id": "45609055",
   "metadata": {},
   "outputs": [
    {
     "name": "stdout",
     "output_type": "stream",
     "text": [
      "|              |   Train set |   Test Set |\n",
      "|--------------+-------------+------------|\n",
      "| Sharpe Ratio |     5.76938 |    3.17004 |\n"
     ]
    }
   ],
   "source": [
    "# Tabulate the performance in train and test dataset\n",
    "from tabulate import tabulate\n",
    "print(tabulate(\n",
    "    [\n",
    "        ['Sharpe Ratio', sharpe_train, sharpe_test],\n",
    "    ],\n",
    "    headers=['Train set', 'Test Set'],\n",
    "    tablefmt='orgtbl'))"
   ]
  },
  {
   "cell_type": "markdown",
   "id": "83873647",
   "metadata": {},
   "source": [
    "# Visualising cumulative returns \n",
    "\n",
    "#### Cumulative returns in train set"
   ]
  },
  {
   "cell_type": "code",
   "execution_count": 70,
   "id": "3216a655",
   "metadata": {},
   "outputs": [
    {
     "data": {
      "image/png": "[encoded data removed]",
      "text/plain": [
       "<Figure size 432x288 with 1 Axes>"
      ]
     },
     "metadata": {
      "needs_background": "light"
     },
     "output_type": "display_data"
    }
   ],
   "source": [
    "# Plot the cumulative returns in train dataset\n",
    "df_aapl.strategy_returns[:split].cumsum().plot()\n",
    "\n",
    "plt.xlabel('Time')\n",
    "plt.ylabel('Cumulative returns')\n",
    "plt.title('Cumulative returns in training set using RFR model')\n",
    "\n",
    "# Show the graph\n",
    "plt.show()"
   ]
  },
  {
   "cell_type": "markdown",
   "id": "8a160608",
   "metadata": {},
   "source": [
    "#### Cumulative returns in test set"
   ]
  },
  {
   "cell_type": "code",
   "execution_count": 71,
   "id": "5a84d14c",
   "metadata": {
    "scrolled": true
   },
   "outputs": [
    {
     "data": {
      "image/png": "[encoded data removed]",
      "text/plain": [
       "<Figure size 432x288 with 1 Axes>"
      ]
     },
     "metadata": {
      "needs_background": "light"
     },
     "output_type": "display_data"
    }
   ],
   "source": [
    "# Plot the cumulative returns in test dataset\n",
    "df_aapl.strategy_returns[split:].cumsum().plot()\n",
    "\n",
    "plt.xlabel('Time')\n",
    "plt.ylabel('Cumulative returns')\n",
    "plt.title('Cumulative returns in test set using RFR model')\n",
    "\n",
    "# Show the graph\n",
    "plt.show()"
   ]
  },
  {
   "cell_type": "markdown",
   "id": "bbd74085",
   "metadata": {},
   "source": [
    "# References\n",
    "\n",
    "Bhandari, A 2020, Feature scaling for machine learning: understanding the difference between normalisation vs standardization, Analytics Vidhya, viewed 20 April 2021, <https://www.analyticsvidhya.com/blog/2020/04/feature-scaling-machine-learning-normalization-standardization/ >\n",
    "\n",
    "Chen, J 2021, Risk free rate of return, Investopedia, viewed 20 April 2021, < https://www.investopedia.com/terms/r/risk-freerate.asp >\n",
    "\n",
    "De Prado, M.L 2018, Advances in financial machine learning, John Wiley & Sons, Inc., Hoboken, New Jersey\n",
    "\n",
    "Hyndman, R.J., & Athanasopoulos, G 2021, Forecasting: principles and practice, 3rd Edition, OTexts: Melbourne, Australia, viewed on 20 April 2021, < https://otexts.com/fpp3 > \n",
    "\n",
    "Iordanova, T 2020, An introduction to stationary and non-stationary processes,  Investopedia, viewed 20 April 2021, < https://www.investopedia.com/articles/trading/07/stationary.asp >\n",
    "\n",
    "Infonewt 2020, Visualising apple product release patterns, Infonewt, viewed 20 April 2021, < https://infonewt.com/apple-release-patterns > \n",
    "\n",
    "Jain, A 2016, A comprehensive beginner’s guide to create a time series forecast (with codes in Python and R), Analytics Vidhya, viewed 20 April 2021, < https://www.analyticsvidhya.com/blog/2016/02/time-series-forecasting-codes-python/ >\n",
    "\n",
    "Kuttruf, S 2019, Preserving memory in stationary time series, Towards Data Science, viewed 20 April 2021, < https://towardsdatascience.com/preserving-memory-in-stationary-time-series-6842f7581800 > \n",
    "\n",
    "Lioudis, N 2021, Understanding the sharpe ratio, Investopedia, viewed 20 April 2021, <https://www.investopedia.com/articles/07/sharpe_ratio.asp > \n",
    "\n",
    "Shah, I 2020, Historical stock price data in python, Towards Data Science, viewed 20 April 2021, < https://towardsdatascience.com/historical-stock-price-data-in-python-a0b6dc826836 > "
   ]
  }
 ],
 "metadata": {
  "kernelspec": {
   "display_name": "Python 3",
   "language": "python",
   "name": "python3"
  },
  "language_info": {
   "codemirror_mode": {
    "name": "ipython",
    "version": 3
   },
   "file_extension": ".py",
   "mimetype": "text/x-python",
   "name": "python",
   "nbconvert_exporter": "python",
   "pygments_lexer": "ipython3",
   "version": "3.8.2"
  }
 },
 "nbformat": 4,
 "nbformat_minor": 5
}
